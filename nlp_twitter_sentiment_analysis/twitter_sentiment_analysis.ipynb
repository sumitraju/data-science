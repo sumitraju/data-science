{
  "nbformat": 4,
  "nbformat_minor": 0,
  "metadata": {
    "colab": {
      "provenance": [],
      "collapsed_sections": []
    },
    "kernelspec": {
      "name": "python3",
      "display_name": "Python 3"
    },
    "language_info": {
      "name": "python"
    }
  },
  "cells": [
    {
      "cell_type": "markdown",
      "source": [
        "#Problem Identification\n",
        "Our goal is to look at public tweets of Top 5 Mobile Manufacturers around the world and note people's sentiments about the products. We analyze the major positive points and major drawbacks of their mobiles and how the companies can collect these analyize to improve their performance in their future Mobile instruments."
      ],
      "metadata": {
        "id": "dXOFKQQcrSEt"
      }
    },
    {
      "cell_type": "markdown",
      "source": [
        "Data Collection and Cleaning\n",
        "We have collected nearly 10,000 each of recents tweets of public about the top five selling mobile manufacturer Apple, Samsung, Oppo, Hauwei and Xiaomi. This notebook goes through a necessary step of any data science project - data cleaning. Data cleaning is a time consuming and unenjoyable task, yet it's a very important one. Keep in mind, \"garbage in, garbage out\". Feeding dirty data into a model will give us results that are meaningless.\n",
        "Specifically, we'll be walking through:\n",
        "\n",
        "*Getting the data - *in this case, we'll are fetching the data from Twitter API *Cleaning the data - *we will walk through popular text pre-processing techniques *Organizing the data - *we will organize the cleaned data into a way that is easy to input into other algorithms"
      ],
      "metadata": {
        "id": "Mnlfe73IrZFi"
      }
    },
    {
      "cell_type": "markdown",
      "source": [
        "# Importing Libraries\n",
        "Import Textblob, which is a Lexicon-based sentiment analyzer It has some predefined rules or we can say word and weight dictionary, where it has some scores that help to calculate a sentence's polarity.\n",
        "Import Twepy, which is an open source Python package that gives us a very convenient way to access the Twitter API.\n",
        "Import Sys, which provides information about constants, functions and methods of the Python interpreter. dir(system) gives a summary of the available constants, functions and methods. Another possibility is the help() function. Using help(sys) provides valuable detail information.\n",
        "Import AuthHandler which allows authorisation to the twitter data.\n",
        "Import requests which allows us to send HTTP requests using Python. "
      ],
      "metadata": {
        "id": "n6Lc_Z8qrkVS"
      }
    },
    {
      "cell_type": "code",
      "execution_count": 124,
      "metadata": {
        "id": "Vq_GeCZMEVjc"
      },
      "outputs": [],
      "source": [
        "from textblob import TextBlob\n",
        "import tweepy\n",
        "import sys\n",
        "#from tweepy.auth import AuthHandler\n",
        "import requests"
      ]
    },
    {
      "cell_type": "markdown",
      "source": [
        "Import Pandas as pd: Import pandas portion of the code tells Python to bring the pandas data analysis library into your current environment. The as pd portion of the code then tells Python to give pandas the alias of pd.\n",
        "Import re: The re module provides a set of powerful regular expression facilities, which allows you to quickly check whether a given string matches a given pattern.\n",
        "Import Sys, which provides information about constants, functions and methods of the Python interpreter. dir(system) gives a summary of the available constants, functions and methods. Another possibility is the help() function. Using help(sys) provides valuable detail information.\n",
        "Import AuthHandler which allows authorisation to the twitter data.\n",
        "import requests which allows us to send HTTP requests using Python."
      ],
      "metadata": {
        "id": "dTj-oOyFrmUO"
      }
    },
    {
      "cell_type": "code",
      "source": [
        "import pandas as pd\n",
        "import pickle\n",
        "import re\n",
        "import string\n",
        "import numpy as np\n",
        "import matplotlib.pyplot as plt\n",
        "from numpy.ma.core import count"
      ],
      "metadata": {
        "id": "kZGTs5GYzHO7"
      },
      "execution_count": 125,
      "outputs": []
    },
    {
      "cell_type": "markdown",
      "source": [
        "###This is the user and Twiter API authorisation information that we use to access the tweets."
      ],
      "metadata": {
        "id": "asHRCpVBZu1w"
      }
    },
    {
      "cell_type": "markdown",
      "source": [
        "Use Twitter API key and other details from your Twitter developer's account if you want to fetch new tweets. Or you can use the code as it is and fetch the tweets from pickle files. "
      ],
      "metadata": {
        "id": "rlFsuqgiEHjJ"
      }
    },
    {
      "cell_type": "code",
      "source": [
        "#APIKey = ''\n",
        "#APIKeySecret = ''\n",
        "#BearerToken = ''\n",
        "#AccessToken = ''\n",
        "#AccessTokenSecret = ''\n",
        "#ClientID = ''\n",
        "#ClientSecret = ''"
      ],
      "metadata": {
        "id": "Zg8kH11pFhAa"
      },
      "execution_count": 126,
      "outputs": []
    },
    {
      "cell_type": "code",
      "source": [
        "#authenticationHandler = tweepy.OAuthHandler(consumer_key=APIKey, consumer_secret= APIKeySecret,callback=None)\n",
        "#authenticationHandler.set_access_token(AccessToken,AccessTokenSecret)\n",
        "#twitterAPI=tweepy.API(authenticationHandler,wait_on_rate_limit=True,)\n",
        "\n",
        "#try:\n",
        "#    redirect_url = authenticationHandler.get_authorization_url()\n",
        "#except tweepy.TweepError:\n",
        "#    print('Error! Failed to get request token.')\n"
      ],
      "metadata": {
        "id": "YZFNQTzkMrjN"
      },
      "execution_count": 127,
      "outputs": []
    },
    {
      "cell_type": "markdown",
      "source": [
        "### Authenticating Twitter Credentials"
      ],
      "metadata": {
        "id": "dzZ1D6tvSeTU"
      }
    },
    {
      "cell_type": "code",
      "source": [
        "#try:\n",
        "#    twitterAPI.verify_credentials()\n",
        "#    print(\"Authentication OK\")\n",
        "#except:\n",
        "#    print(\"Error during authentication\")"
      ],
      "metadata": {
        "id": "sEMwQxZZYLAP"
      },
      "execution_count": 128,
      "outputs": []
    },
    {
      "cell_type": "markdown",
      "source": [
        "### Now lets select 5 search topic for the 5 Mobile Manufacturers on Twiitter and using Tweepy crusor, get the data "
      ],
      "metadata": {
        "id": "URbuMdUuSmtV"
      }
    },
    {
      "cell_type": "code",
      "source": [
        "searchTopic1= 'iphone'\n",
        "searchTopic2= 'samsung galaxy'\n",
        "searchTopic3= 'huawei phone'\n",
        "searchTopic4= 'xiaomi'\n",
        "searchTopic5= 'Oppo'\n",
        "tweetsToLoad=10000\n",
        "#tweetsIphone=tweepy.Cursor(twitterAPI.search,q=searchTopic1,lang='en', tweet_mode='extended').items(tweetsToLoad)\n",
        "#tweetsSamsung=tweepy.Cursor(twitterAPI.search,q=searchTopic2,lang='en', tweet_mode='extended').items(tweetsToLoad)\n",
        "#tweetsHuawei=tweepy.Cursor(twitterAPI.search,q=searchTopic3,lang='en', tweet_mode='extended').items(tweetsToLoad)\n",
        "#tweetsXiaomi=tweepy.Cursor(twitterAPI.search,q=searchTopic4,lang='en', tweet_mode='extended').items(tweetsToLoad)\n",
        "#tweetsOppo=tweepy.Cursor(twitterAPI.search,q=searchTopic5,lang='en', tweet_mode='extended').items(tweetsToLoad)"
      ],
      "metadata": {
        "id": "nZNLPy4SPbzB"
      },
      "execution_count": 129,
      "outputs": []
    },
    {
      "cell_type": "code",
      "source": [
        "#tweets=tweepy.Cursor(twitterAPI.user_timeline,id='SumitRaju_',lang='en').items()"
      ],
      "metadata": {
        "id": "naY86v1vgkke"
      },
      "execution_count": 130,
      "outputs": []
    },
    {
      "cell_type": "markdown",
      "source": [
        "### Creating a new and empty data frame with 6 columns"
      ],
      "metadata": {
        "id": "NX-IQsP_Szuf"
      }
    },
    {
      "cell_type": "code",
      "source": [
        "TweetsDfIphone = pd.DataFrame(columns=['tweets','tweets_clean','location','handle_name','date_posted','length'])\n",
        "TweetsDfSamsung = pd.DataFrame(columns=['tweets','tweets_clean','location','handle_name','date_posted','length'])\n",
        "TweetsDfHuawei = pd.DataFrame(columns=['tweets','tweets_clean','location','handle_name','date_posted','length'])\n",
        "TweetsDfXiaomi = pd.DataFrame(columns=['tweets','tweets_clean','location','handle_name','date_posted','length'])\n",
        "TweetsDfOppo = pd.DataFrame(columns=['tweets','tweets_clean','location','handle_name','date_posted','length'])"
      ],
      "metadata": {
        "id": "GMFbBiLI0KVP"
      },
      "execution_count": 131,
      "outputs": []
    },
    {
      "cell_type": "markdown",
      "source": [
        "# Cleaning the Data\n",
        "Cleaning The Data\n",
        "When dealing with numerical data, data cleaning often involves removing null values and duplicate data, dealing with outliers, etc. With text data, there are some common data cleaning techniques, which are also known as text pre-processing techniques.\n",
        "\n",
        "With text data, this cleaning process can go on forever. There's always an exception to every cleaning step. So, we're going to follow the MVP (minimum viable product) approach - start simple and iterate. Here are a bunch of things you can do to clean your data. We're going to execute just the common cleaning steps here and the rest can be done at a later point to improve our results.\n",
        "\n",
        "Common data cleaning steps on all text:\n",
        "\n",
        "*   Make text all lower case\n",
        "*   Remove punctuation\n",
        "*   Remove numerical values\n",
        "*   Remove common non-sensical text (/n)\n",
        "*   Remove Emojis, symbols, transportation & map symbols, flags\n",
        "*   Tokenize text\n",
        "*   Remove stop words\n",
        "\n",
        "More data cleaning steps after tokenization:\n",
        "\n",
        "Stemming / lemmatization\n",
        "Parts of speech tagging\n",
        "Create bi-grams or tri-grams\n",
        "Deal with typos\n",
        "And more...\n"
      ],
      "metadata": {
        "id": "AzByqdMWS9to"
      }
    },
    {
      "cell_type": "code",
      "source": [
        "def remove_emojis(data):\n",
        "    emoj = re.compile(\"[\"\n",
        "        u\"\\U0001F600-\\U0001F64F\"  # emoticons\n",
        "        u\"\\U0001F300-\\U0001F5FF\"  # symbols & pictographs\n",
        "        u\"\\U0001F680-\\U0001F6FF\"  # transport & map symbols\n",
        "        u\"\\U0001F1E0-\\U0001F1FF\"  # flags (iOS)\n",
        "        u\"\\U00002500-\\U00002BEF\"  # chinese char\n",
        "        u\"\\U00002702-\\U000027B0\"\n",
        "        u\"\\U00002702-\\U000027B0\"\n",
        "        u\"\\U000024C2-\\U0001F251\"\n",
        "        u\"\\U0001f926-\\U0001f937\"\n",
        "        u\"\\U00010000-\\U0010ffff\"\n",
        "        u\"\\u2640-\\u2642\" \n",
        "        u\"\\u2600-\\u2B55\"\n",
        "        u\"\\u200d\"\n",
        "        u\"\\u23cf\"\n",
        "        u\"\\u23e9\"\n",
        "        u\"\\u231a\"\n",
        "        u\"\\ufe0f\"  # dingbats\n",
        "        u\"\\u3030\"\n",
        "                      \"]+\", re.UNICODE)\n",
        "    return re.sub(emoj, '', data)"
      ],
      "metadata": {
        "id": "iiHxxj3EAhY9"
      },
      "execution_count": 132,
      "outputs": []
    },
    {
      "cell_type": "code",
      "source": [
        "def cleaning_mentions(data):\n",
        "    return re.sub('@[^\\s]+',' ',data)"
      ],
      "metadata": {
        "id": "veFvk2bt4e7Y"
      },
      "execution_count": 133,
      "outputs": []
    },
    {
      "cell_type": "code",
      "source": [
        "def cleaning_URLs(data):\n",
        "    return re.sub('((www.[^s]+)|(https?://[^s]+))',' ',data)"
      ],
      "metadata": {
        "id": "GZ3m0aLF5xQm"
      },
      "execution_count": 134,
      "outputs": []
    },
    {
      "cell_type": "markdown",
      "source": [
        "## Organizing the Data\n",
        "The output of this notebook will be clean and organized data in two standard text formats:\n",
        "\n",
        "*Corpus - *a collection of text\n",
        "*Document-Term Matrix - *word counts in matrix format\n",
        "\n",
        "*   We are calling function, we created above inside the *getTweet* function\n",
        "\n"
      ],
      "metadata": {
        "id": "YQvdt9p8XVAC"
      }
    },
    {
      "cell_type": "code",
      "source": [
        "def getTweets(tweets,targetDf):\n",
        "  global TweetsDfIphone, TweetsDfSamsung, TweetsDfHuawei, TweetsDfXiaomi, TweetsDfOppo\n",
        "  for tweet in tweets:\n",
        "    tweetText=tweet.full_text\n",
        "    if tweetText.startswith('RT'):\n",
        "      position=tweetText.index('RT')\n",
        "      tweetText=tweetText[position+3:]\n",
        "    removeEmojiText=remove_emojis(tweetText)\n",
        "    cleanMentionsText=cleaning_mentions(removeEmojiText)\n",
        "    cleanURLsText=cleaning_URLs(cleanMentionsText)\n",
        "    if targetDf == 'TweetsDfIphone':\n",
        "      TweetsDfIphone = TweetsDfIphone.append({'tweets': tweetText,'tweets_clean':cleanURLsText,'location':tweet.author.location,'handle_name':tweet.author.screen_name,'date_posted':tweet.created_at,'length':len(cleanURLsText)}, ignore_index=True)\n",
        "    if targetDf == 'TweetsDfSamsung':\n",
        "      TweetsDfSamsung = TweetsDfSamsung.append({'tweets': tweetText,'tweets_clean':cleanURLsText,'location':tweet.author.location,'handle_name':tweet.author.screen_name,'date_posted':tweet.created_at,'length':len(cleanURLsText)}, ignore_index=True)\n",
        "    if targetDf == 'TweetsDfHuawei':\n",
        "      TweetsDfHuawei = TweetsDfHuawei.append({'tweets': tweetText,'tweets_clean':cleanURLsText,'location':tweet.author.location,'handle_name':tweet.author.screen_name,'date_posted':tweet.created_at,'length':len(cleanURLsText)}, ignore_index=True)\n",
        "    if targetDf == 'TweetsDfXiaomi':\n",
        "      TweetsDfXiaomi = TweetsDfXiaomi.append({'tweets': tweetText,'tweets_clean':cleanURLsText,'location':tweet.author.location,'handle_name':tweet.author.screen_name,'date_posted':tweet.created_at,'length':len(cleanURLsText)}, ignore_index=True)\n",
        "    if targetDf == 'TweetsDfOppo':\n",
        "      TweetsDfOppo = TweetsDfOppo.append({'tweets': tweetText,'tweets_clean':cleanURLsText,'location':tweet.author.location,'handle_name':tweet.author.screen_name,'date_posted':tweet.created_at,'length':len(cleanURLsText)}, ignore_index=True)\n",
        "    #analysis=TextBlob(tweetText)"
      ],
      "metadata": {
        "id": "rz3kmvzvQhMx"
      },
      "execution_count": 135,
      "outputs": []
    },
    {
      "cell_type": "markdown",
      "source": [
        "### Calling functions to fetch tweets to each manufacturer"
      ],
      "metadata": {
        "id": "AMKMrUE-ryA-"
      }
    },
    {
      "cell_type": "code",
      "source": [
        "#getTweets(tweetsIphone,'TweetsDfIphone')"
      ],
      "metadata": {
        "id": "hLM88ORbUXsS"
      },
      "execution_count": 136,
      "outputs": []
    },
    {
      "cell_type": "code",
      "source": [
        "#getTweets(tweetsSamsung,'TweetsDfSamsung')"
      ],
      "metadata": {
        "id": "NsrFRzi-Uav0"
      },
      "execution_count": 137,
      "outputs": []
    },
    {
      "cell_type": "code",
      "source": [
        "#getTweets(tweetsHuawei,'TweetsDfHuawei')"
      ],
      "metadata": {
        "id": "xrnhKbkFUaiQ"
      },
      "execution_count": 138,
      "outputs": []
    },
    {
      "cell_type": "code",
      "source": [
        "#getTweets(tweetsXiaomi,'TweetsDfXiaomi')"
      ],
      "metadata": {
        "id": "h4gxibeRpChc"
      },
      "execution_count": 139,
      "outputs": []
    },
    {
      "cell_type": "code",
      "source": [
        "#getTweets(tweetsOppo,'TweetsDfOppo')"
      ],
      "metadata": {
        "id": "3Ou9sFAuU16q"
      },
      "execution_count": 140,
      "outputs": []
    },
    {
      "cell_type": "markdown",
      "source": [
        "#### Looked at some of the Samsung Tweets"
      ],
      "metadata": {
        "id": "R2Z8IvlGUQO6"
      }
    },
    {
      "cell_type": "code",
      "source": [
        "pd.set_option(\"display.max_colwidth\", None)\n",
        "TweetsDfSamsung.head()"
      ],
      "metadata": {
        "colab": {
          "base_uri": "https://localhost:8080/",
          "height": 49
        },
        "id": "jGcAiLk11UBj",
        "outputId": "2fdd5412-9a66-4c2e-89b7-dba2b3929de2"
      },
      "execution_count": 141,
      "outputs": [
        {
          "output_type": "execute_result",
          "data": {
            "text/plain": [
              "Empty DataFrame\n",
              "Columns: [tweets, tweets_clean, location, handle_name, date_posted, length]\n",
              "Index: []"
            ],
            "text/html": [
              "\n",
              "  <div id=\"df-000bf8a4-5b15-436a-8e2d-a5d13ec63e72\">\n",
              "    <div class=\"colab-df-container\">\n",
              "      <div>\n",
              "<style scoped>\n",
              "    .dataframe tbody tr th:only-of-type {\n",
              "        vertical-align: middle;\n",
              "    }\n",
              "\n",
              "    .dataframe tbody tr th {\n",
              "        vertical-align: top;\n",
              "    }\n",
              "\n",
              "    .dataframe thead th {\n",
              "        text-align: right;\n",
              "    }\n",
              "</style>\n",
              "<table border=\"1\" class=\"dataframe\">\n",
              "  <thead>\n",
              "    <tr style=\"text-align: right;\">\n",
              "      <th></th>\n",
              "      <th>tweets</th>\n",
              "      <th>tweets_clean</th>\n",
              "      <th>location</th>\n",
              "      <th>handle_name</th>\n",
              "      <th>date_posted</th>\n",
              "      <th>length</th>\n",
              "    </tr>\n",
              "  </thead>\n",
              "  <tbody>\n",
              "  </tbody>\n",
              "</table>\n",
              "</div>\n",
              "      <button class=\"colab-df-convert\" onclick=\"convertToInteractive('df-000bf8a4-5b15-436a-8e2d-a5d13ec63e72')\"\n",
              "              title=\"Convert this dataframe to an interactive table.\"\n",
              "              style=\"display:none;\">\n",
              "        \n",
              "  <svg xmlns=\"http://www.w3.org/2000/svg\" height=\"24px\"viewBox=\"0 0 24 24\"\n",
              "       width=\"24px\">\n",
              "    <path d=\"M0 0h24v24H0V0z\" fill=\"none\"/>\n",
              "    <path d=\"M18.56 5.44l.94 2.06.94-2.06 2.06-.94-2.06-.94-.94-2.06-.94 2.06-2.06.94zm-11 1L8.5 8.5l.94-2.06 2.06-.94-2.06-.94L8.5 2.5l-.94 2.06-2.06.94zm10 10l.94 2.06.94-2.06 2.06-.94-2.06-.94-.94-2.06-.94 2.06-2.06.94z\"/><path d=\"M17.41 7.96l-1.37-1.37c-.4-.4-.92-.59-1.43-.59-.52 0-1.04.2-1.43.59L10.3 9.45l-7.72 7.72c-.78.78-.78 2.05 0 2.83L4 21.41c.39.39.9.59 1.41.59.51 0 1.02-.2 1.41-.59l7.78-7.78 2.81-2.81c.8-.78.8-2.07 0-2.86zM5.41 20L4 18.59l7.72-7.72 1.47 1.35L5.41 20z\"/>\n",
              "  </svg>\n",
              "      </button>\n",
              "      \n",
              "  <style>\n",
              "    .colab-df-container {\n",
              "      display:flex;\n",
              "      flex-wrap:wrap;\n",
              "      gap: 12px;\n",
              "    }\n",
              "\n",
              "    .colab-df-convert {\n",
              "      background-color: #E8F0FE;\n",
              "      border: none;\n",
              "      border-radius: 50%;\n",
              "      cursor: pointer;\n",
              "      display: none;\n",
              "      fill: #1967D2;\n",
              "      height: 32px;\n",
              "      padding: 0 0 0 0;\n",
              "      width: 32px;\n",
              "    }\n",
              "\n",
              "    .colab-df-convert:hover {\n",
              "      background-color: #E2EBFA;\n",
              "      box-shadow: 0px 1px 2px rgba(60, 64, 67, 0.3), 0px 1px 3px 1px rgba(60, 64, 67, 0.15);\n",
              "      fill: #174EA6;\n",
              "    }\n",
              "\n",
              "    [theme=dark] .colab-df-convert {\n",
              "      background-color: #3B4455;\n",
              "      fill: #D2E3FC;\n",
              "    }\n",
              "\n",
              "    [theme=dark] .colab-df-convert:hover {\n",
              "      background-color: #434B5C;\n",
              "      box-shadow: 0px 1px 3px 1px rgba(0, 0, 0, 0.15);\n",
              "      filter: drop-shadow(0px 1px 2px rgba(0, 0, 0, 0.3));\n",
              "      fill: #FFFFFF;\n",
              "    }\n",
              "  </style>\n",
              "\n",
              "      <script>\n",
              "        const buttonEl =\n",
              "          document.querySelector('#df-000bf8a4-5b15-436a-8e2d-a5d13ec63e72 button.colab-df-convert');\n",
              "        buttonEl.style.display =\n",
              "          google.colab.kernel.accessAllowed ? 'block' : 'none';\n",
              "\n",
              "        async function convertToInteractive(key) {\n",
              "          const element = document.querySelector('#df-000bf8a4-5b15-436a-8e2d-a5d13ec63e72');\n",
              "          const dataTable =\n",
              "            await google.colab.kernel.invokeFunction('convertToInteractive',\n",
              "                                                     [key], {});\n",
              "          if (!dataTable) return;\n",
              "\n",
              "          const docLinkHtml = 'Like what you see? Visit the ' +\n",
              "            '<a target=\"_blank\" href=https://colab.research.google.com/notebooks/data_table.ipynb>data table notebook</a>'\n",
              "            + ' to learn more about interactive tables.';\n",
              "          element.innerHTML = '';\n",
              "          dataTable['output_type'] = 'display_data';\n",
              "          await google.colab.output.renderOutput(dataTable, element);\n",
              "          const docLink = document.createElement('div');\n",
              "          docLink.innerHTML = docLinkHtml;\n",
              "          element.appendChild(docLink);\n",
              "        }\n",
              "      </script>\n",
              "    </div>\n",
              "  </div>\n",
              "  "
            ]
          },
          "metadata": {},
          "execution_count": 141
        }
      ]
    },
    {
      "cell_type": "code",
      "source": [
        "#def get_user_details(username):\n",
        "#        userobj = twitterAPI.get_user(username)\n",
        "#        return userobj\n",
        "#\n",
        "\n",
        "#if __name__ == '__main__':\n",
        "#    username = 'SumitRaju_'\n",
        "#    userOBJ = get_user_details(username)\n",
        "#    print(userOBJ.location)"
      ],
      "metadata": {
        "id": "iGp5KyttPrZy"
      },
      "execution_count": 142,
      "outputs": []
    },
    {
      "cell_type": "markdown",
      "source": [
        "### We are using this to store tweets to pickle files, when we fetched using twitter API"
      ],
      "metadata": {
        "id": "kUXpQxOIs9tR"
      }
    },
    {
      "cell_type": "code",
      "source": [
        "# Make a new directory to hold the text files\n",
        "import os\n",
        "os.makedirs(\"tweets\", exist_ok=True)"
      ],
      "metadata": {
        "id": "xiW7GGH2CsH5"
      },
      "execution_count": 143,
      "outputs": []
    },
    {
      "cell_type": "code",
      "source": [
        "def dump_pickel_files():\n",
        "  # Pickle files for later use\n",
        "\n",
        "  with open(\"tweets/rowTweetsIphone.txt\", \"wb\") as file:\n",
        "    pickle.dump(TweetsDfIphone, file)\n",
        "\n",
        "  with open(\"tweets/rowTweetsSamsung.txt\", \"wb\") as file:\n",
        "    pickle.dump(TweetsDfSamsung, file)\n",
        "\n",
        "  with open(\"tweets/rowTweetsHuawei.txt\", \"wb\") as file:\n",
        "    pickle.dump(TweetsDfHuawei, file)\n",
        "\n",
        "  with open(\"tweets/rowTweetsXiaomi.txt\", \"wb\") as file:\n",
        "    pickle.dump(TweetsDfXiaomi, file)\n",
        "\n",
        "  with open(\"tweets/rowTweetsOppo.txt\", \"wb\") as file:\n",
        "    pickle.dump(TweetsDfOppo, file)"
      ],
      "metadata": {
        "id": "JrfK5VQEa5gq"
      },
      "execution_count": 144,
      "outputs": []
    },
    {
      "cell_type": "code",
      "source": [
        "#dump_pickel_files()"
      ],
      "metadata": {
        "id": "o3ozh5HwbK0q"
      },
      "execution_count": 145,
      "outputs": []
    },
    {
      "cell_type": "markdown",
      "source": [
        "### Fetching Tweets from twitter API takes longer time as there are nearly 50,000 tweets. \n",
        "So we have saved these tweets in pickle files and stored in Github.\n",
        "#### Getting object data from Github."
      ],
      "metadata": {
        "id": "s_Sw4lNssEom"
      }
    },
    {
      "cell_type": "code",
      "source": [
        "!wget -N \"https://raw.githubusercontent.com/sumitraju/BA2-Class/main/nlp_twitter_sentiment_analysis/data/rowTweetsIphone.txt\" -P \"/content/tweets\"\n",
        "!wget -N \"https://raw.githubusercontent.com/sumitraju/BA2-Class/main/nlp_twitter_sentiment_analysis/data/rowTweetsSamsung.txt\" -P \"/content/tweets\"\n",
        "!wget -N \"https://raw.githubusercontent.com/sumitraju/BA2-Class/main/nlp_twitter_sentiment_analysis/data/rowTweetsHuawei.txt\" -P \"/content/tweets\"\n",
        "!wget -N \"https://raw.githubusercontent.com/sumitraju/BA2-Class/main/nlp_twitter_sentiment_analysis/data/rowTweetsXiaomi.txt\" -P \"/content/tweets\"\n",
        "!wget -N \"https://raw.githubusercontent.com/sumitraju/BA2-Class/main/nlp_twitter_sentiment_analysis/data/rowTweetsOppo.txt\" -P \"/content/tweets\""
      ],
      "metadata": {
        "id": "HuE-aq9jX7tK",
        "colab": {
          "base_uri": "https://localhost:8080/"
        },
        "outputId": "3614b0c0-3579-47a9-c205-6f795e74f366"
      },
      "execution_count": 146,
      "outputs": [
        {
          "output_type": "stream",
          "name": "stdout",
          "text": [
            "--2022-09-25 00:57:24--  https://raw.githubusercontent.com/sumitraju/BA2-Class/main/nlp_twitter_sentiment_analysis/data/rowTweetsIphone.txt\n",
            "Resolving raw.githubusercontent.com (raw.githubusercontent.com)... 185.199.108.133, 185.199.109.133, 185.199.110.133, ...\n",
            "Connecting to raw.githubusercontent.com (raw.githubusercontent.com)|185.199.108.133|:443... connected.\n",
            "HTTP request sent, awaiting response... 404 Not Found\n",
            "2022-09-25 00:57:24 ERROR 404: Not Found.\n",
            "\n",
            "--2022-09-25 00:57:24--  https://raw.githubusercontent.com/sumitraju/BA2-Class/main/nlp_twitter_sentiment_analysis/data/rowTweetsSamsung.txt\n",
            "Resolving raw.githubusercontent.com (raw.githubusercontent.com)... 185.199.108.133, 185.199.109.133, 185.199.110.133, ...\n",
            "Connecting to raw.githubusercontent.com (raw.githubusercontent.com)|185.199.108.133|:443... connected.\n",
            "HTTP request sent, awaiting response... 404 Not Found\n",
            "2022-09-25 00:57:24 ERROR 404: Not Found.\n",
            "\n",
            "--2022-09-25 00:57:24--  https://raw.githubusercontent.com/sumitraju/BA2-Class/main/nlp_twitter_sentiment_analysis/data/rowTweetsHuawei.txt\n",
            "Resolving raw.githubusercontent.com (raw.githubusercontent.com)... 185.199.108.133, 185.199.109.133, 185.199.111.133, ...\n",
            "Connecting to raw.githubusercontent.com (raw.githubusercontent.com)|185.199.108.133|:443... connected.\n",
            "HTTP request sent, awaiting response... 404 Not Found\n",
            "2022-09-25 00:57:24 ERROR 404: Not Found.\n",
            "\n",
            "--2022-09-25 00:57:24--  https://raw.githubusercontent.com/sumitraju/BA2-Class/main/nlp_twitter_sentiment_analysis/data/rowTweetsXiaomi.txt\n",
            "Resolving raw.githubusercontent.com (raw.githubusercontent.com)... 185.199.108.133, 185.199.109.133, 185.199.110.133, ...\n",
            "Connecting to raw.githubusercontent.com (raw.githubusercontent.com)|185.199.108.133|:443... connected.\n",
            "HTTP request sent, awaiting response... 404 Not Found\n",
            "2022-09-25 00:57:24 ERROR 404: Not Found.\n",
            "\n",
            "--2022-09-25 00:57:24--  https://raw.githubusercontent.com/sumitraju/BA2-Class/main/nlp_twitter_sentiment_analysis/data/rowTweetsOppo.txt\n",
            "Resolving raw.githubusercontent.com (raw.githubusercontent.com)... 185.199.109.133, 185.199.111.133, 185.199.110.133, ...\n",
            "Connecting to raw.githubusercontent.com (raw.githubusercontent.com)|185.199.109.133|:443... connected.\n",
            "HTTP request sent, awaiting response... 404 Not Found\n",
            "2022-09-25 00:57:24 ERROR 404: Not Found.\n",
            "\n"
          ]
        }
      ]
    },
    {
      "cell_type": "markdown",
      "source": [
        "### Loading pickle data to pandas data frame"
      ],
      "metadata": {
        "id": "AyYJSxtRszmI"
      }
    },
    {
      "cell_type": "code",
      "source": [
        "def load_pickle_main():\n",
        "  # Load pickled files\n",
        "  global TweetsDfIphone, TweetsDfSamsung, TweetsDfHuawei, TweetsDfXiaomi, TweetsDfOppo\n",
        "  with open(\"tweets/rowTweetsIphone.txt\", \"rb\") as file:\n",
        "    TweetsDfIphone = pickle.load(file)\n",
        "  with open(\"tweets/rowTweetsSamsung.txt\", \"rb\") as file:\n",
        "    TweetsDfSamsung = pickle.load(file)\n",
        "  with open(\"tweets/rowTweetsHuawei.txt\", \"rb\") as file:\n",
        "    TweetsDfHuawei = pickle.load(file)\n",
        "  with open(\"tweets/rowTweetsXiaomi.txt\", \"rb\") as file:\n",
        "    TweetsDfXiaomi = pickle.load(file)\n",
        "  with open(\"tweets/rowTweetsOppo.txt\", \"rb\") as file:\n",
        "    TweetsDfOppo = pickle.load(file)"
      ],
      "metadata": {
        "id": "jV1uNEVjbgNN"
      },
      "execution_count": 147,
      "outputs": []
    },
    {
      "cell_type": "code",
      "source": [
        "load_pickle_main()"
      ],
      "metadata": {
        "id": "OtJFFI3PEn-1"
      },
      "execution_count": 148,
      "outputs": []
    },
    {
      "cell_type": "markdown",
      "source": [
        "\n",
        "\n",
        "#### Checking the Shape \n",
        "We checked the number of tweets which are in rows ( around 10,000) and number of column (6)."
      ],
      "metadata": {
        "id": "8LufghSFUqUo"
      }
    },
    {
      "cell_type": "code",
      "source": [
        "TweetsDfIphone.shape"
      ],
      "metadata": {
        "colab": {
          "base_uri": "https://localhost:8080/"
        },
        "id": "WL6aRzBAkO2B",
        "outputId": "d6700428-de41-4bfb-d551-9b61407b5289"
      },
      "execution_count": 149,
      "outputs": [
        {
          "output_type": "execute_result",
          "data": {
            "text/plain": [
              "(10000, 6)"
            ]
          },
          "metadata": {},
          "execution_count": 149
        }
      ]
    },
    {
      "cell_type": "code",
      "source": [
        "TweetsDfSamsung.shape"
      ],
      "metadata": {
        "colab": {
          "base_uri": "https://localhost:8080/"
        },
        "id": "tfQmpsHSWNly",
        "outputId": "87161f5c-8181-4c8a-edbd-a66e21b66231"
      },
      "execution_count": 150,
      "outputs": [
        {
          "output_type": "execute_result",
          "data": {
            "text/plain": [
              "(7750, 6)"
            ]
          },
          "metadata": {},
          "execution_count": 150
        }
      ]
    },
    {
      "cell_type": "code",
      "source": [
        "TweetsDfHuawei.shape"
      ],
      "metadata": {
        "colab": {
          "base_uri": "https://localhost:8080/"
        },
        "id": "Go2MbPvBWO8x",
        "outputId": "e8ece12d-d388-479d-a229-3cda0282d3a1"
      },
      "execution_count": 151,
      "outputs": [
        {
          "output_type": "execute_result",
          "data": {
            "text/plain": [
              "(10000, 6)"
            ]
          },
          "metadata": {},
          "execution_count": 151
        }
      ]
    },
    {
      "cell_type": "code",
      "source": [
        "TweetsDfXiaomi.shape"
      ],
      "metadata": {
        "colab": {
          "base_uri": "https://localhost:8080/"
        },
        "id": "6QVncrxKWOrN",
        "outputId": "f8df2558-619b-4962-bb98-5bfc3ddd86dc"
      },
      "execution_count": 152,
      "outputs": [
        {
          "output_type": "execute_result",
          "data": {
            "text/plain": [
              "(10000, 6)"
            ]
          },
          "metadata": {},
          "execution_count": 152
        }
      ]
    },
    {
      "cell_type": "code",
      "source": [
        "TweetsDfOppo.shape"
      ],
      "metadata": {
        "colab": {
          "base_uri": "https://localhost:8080/"
        },
        "id": "VBwkCzZfWOUB",
        "outputId": "1ce7442f-925b-4b0a-8fae-3cc8907c2cb6"
      },
      "execution_count": 153,
      "outputs": [
        {
          "output_type": "execute_result",
          "data": {
            "text/plain": [
              "(10000, 6)"
            ]
          },
          "metadata": {},
          "execution_count": 153
        }
      ]
    },
    {
      "cell_type": "code",
      "source": [
        "pd.set_option('max_colwidth',130)\n",
        "#TweetsDfIphone.columns = ['tweets','tweets_clean','location','handle_name','date_posted','length']\n",
        "#TweetsDfIphone = TweetsDfIphone.sort_index()"
      ],
      "metadata": {
        "id": "xL9aBpg70uw3"
      },
      "execution_count": 33,
      "outputs": []
    },
    {
      "cell_type": "markdown",
      "source": [
        "##### Checking the First Tweet"
      ],
      "metadata": {
        "id": "UJFJhq4tU9wH"
      }
    },
    {
      "cell_type": "code",
      "source": [
        "print(TweetsDfIphone['tweets'][1])"
      ],
      "metadata": {
        "colab": {
          "base_uri": "https://localhost:8080/"
        },
        "id": "eUoAchEmbbYF",
        "outputId": "ab886255-1ab2-4b8f-df98-9e9780210bf6"
      },
      "execution_count": 34,
      "outputs": [
        {
          "output_type": "stream",
          "name": "stdout",
          "text": [
            "@missufe: $1000 | 14 JT RUPIAH OR IPHONE 12 PRO FOR ONE WINNER IN 7 DAYS 🦄\n",
            "\n",
            "- RT &amp; Follow\n",
            "\n",
            "@withNabiya \n",
            "@metarabbitclub \n",
            "@GrumpyBearTC…\n"
          ]
        }
      ]
    },
    {
      "cell_type": "markdown",
      "source": [
        "### Creating a fresh copy of all the data frames"
      ],
      "metadata": {
        "id": "5mMLJCFJt-ga"
      }
    },
    {
      "cell_type": "code",
      "source": [
        "TweetsDfIphoneClean=TweetsDfIphone.copy()\n",
        "TweetsDfSamsungClean=TweetsDfSamsung.copy()\n",
        "TweetsDfHuaweiClean=TweetsDfHuawei.copy()\n",
        "TweetsDfXiaomiClean=TweetsDfXiaomi.copy()\n",
        "TweetsDfOppoClean=TweetsDfOppo.copy()"
      ],
      "metadata": {
        "id": "gFH5ewOd_uKY"
      },
      "execution_count": 35,
      "outputs": []
    },
    {
      "cell_type": "markdown",
      "source": [
        "# Exploratory Data Analysis\n",
        "After the data cleaning step where we put our data into a few standard formats, the next step is to take a look at the data and see if what we're looking at makes sense. Before applying any fancy algorithms, it's always important to explore the data first.\n",
        "\n",
        "When working with numerical data, some of the exploratory data analysis (EDA) techniques we can use include finding the average of the data set, the distribution of the data, the most common values, etc. The idea is the same when working with text data. We are going to find some more obvious patterns with EDA before identifying the hidden patterns with machines learning (ML) techniques. We are going to look at the following for each tweets set:\n",
        "\n",
        "Most common words - find these and create word clouds\n",
        "Size of vocabulary - Length of the tweets\n",
        "Amount of profanity - most common terms"
      ],
      "metadata": {
        "id": "BFmkv1zFVC6_"
      }
    },
    {
      "cell_type": "code",
      "source": [
        "plt.figure(figsize=(16,12))\n",
        "\n",
        "plt.subplot(2,3,1)\n",
        "plt.hist(TweetsDfIphoneClean['length'], density=True, bins=10)  # density=False would make counts\n",
        "plt.ylabel('density')\n",
        "plt.xlabel('Length')\n",
        "plt.title('iPhone')\n",
        "\n",
        "plt.subplot(2,3,2)\n",
        "plt.hist(TweetsDfSamsungClean['length'], density=True, bins=10)  # density=False would make counts\n",
        "plt.ylabel('density')\n",
        "plt.xlabel('Length')\n",
        "plt.title('Samsung')\n",
        "\n",
        "plt.subplot(2,3,3)\n",
        "plt.hist(TweetsDfHuaweiClean['length'], density=True, bins=10)  # density=False would make counts\n",
        "plt.ylabel('density')\n",
        "plt.xlabel('Length')\n",
        "plt.title('Huawei')\n",
        "\n",
        "plt.subplot(2,3,4)\n",
        "plt.hist(TweetsDfXiaomiClean['length'], density=True, bins=10)  # density=False would make counts\n",
        "plt.ylabel('density')\n",
        "plt.xlabel('Length')\n",
        "plt.title('Xiaomi')\n",
        "\n",
        "plt.subplot(2,3,5)\n",
        "plt.hist(TweetsDfOppoClean['length'], density=True, bins=10)  # density=False would make counts\n",
        "plt.ylabel('density')\n",
        "plt.xlabel('Length')\n",
        "plt.title('Oppo')\n",
        "plt.show()\n"
      ],
      "metadata": {
        "colab": {
          "base_uri": "https://localhost:8080/",
          "height": 730
        },
        "id": "4Ck6Tsbv5tuW",
        "outputId": "12ee2d74-e315-4302-8e66-55cd4ee0576c"
      },
      "execution_count": 36,
      "outputs": [
        {
          "output_type": "display_data",
          "data": {
            "text/plain": [
              "<Figure size 1152x864 with 5 Axes>"
            ],
            "image/png": "[encoded data removed]"
          },
          "metadata": {
            "needs_background": "light"
          }
        }
      ]
    },
    {
      "cell_type": "markdown",
      "source": [
        "We find that the majority of tweets has a word length of 75 to 100  in case of Iphone.\n",
        "Samsung has around of 125 word length and density is very high.\n",
        "Other manufacturer though the word length are higher, but have lower density.\n",
        "This implies that people tweeting on Iphone and Samsung usually use lower word length whereas the tweets on other mobile manufacturer have a more higher word length.  "
      ],
      "metadata": {
        "id": "4tsfXy_bVhy5"
      }
    },
    {
      "cell_type": "markdown",
      "source": [
        "### Some more cleaning on Data \n",
        "For removal of additional punctuations and non-sensical texts which were missed in earlier cleaning"
      ],
      "metadata": {
        "id": "_G_2-bW9WqG1"
      }
    },
    {
      "cell_type": "code",
      "source": [
        "def cleaning_numbers(data):\n",
        "    return re.sub('[0-9]+', '', data)"
      ],
      "metadata": {
        "id": "H4yNjWL9AExj"
      },
      "execution_count": 37,
      "outputs": []
    },
    {
      "cell_type": "code",
      "source": [
        "TweetsDfIphoneClean['tweets_clean'] = TweetsDfIphoneClean['tweets_clean'].apply(lambda x: cleaning_numbers(x))\n",
        "TweetsDfSamsungClean['tweets_clean'] = TweetsDfSamsungClean['tweets_clean'].apply(lambda x: cleaning_numbers(x))\n",
        "TweetsDfHuaweiClean['tweets_clean'] = TweetsDfHuaweiClean['tweets_clean'].apply(lambda x: cleaning_numbers(x))\n",
        "TweetsDfXiaomiClean['tweets_clean'] = TweetsDfXiaomiClean['tweets_clean'].apply(lambda x: cleaning_numbers(x))\n",
        "TweetsDfOppoClean['tweets_clean'] = TweetsDfOppoClean['tweets_clean'].apply(lambda x: cleaning_numbers(x))\n",
        "#TweetsDfIphoneClean.head()"
      ],
      "metadata": {
        "id": "VMVQMuaO2qI5"
      },
      "execution_count": 38,
      "outputs": []
    },
    {
      "cell_type": "code",
      "source": [
        "with open(\"tweets/cleanTweets.txt\", \"wb\") as file:\n",
        "  pickle.dump(TweetsDfIphoneClean, file)\n",
        "\n",
        "# Load pickled files\n",
        "with open(\"tweets/cleanTweets.txt\", \"rb\") as file:\n",
        "  TweetsDfIphoneClean = pickle.load(file)"
      ],
      "metadata": {
        "id": "H26-UdBqFmNd"
      },
      "execution_count": 39,
      "outputs": []
    },
    {
      "cell_type": "code",
      "source": [
        "# Removing quotes and changing to lower case\n",
        "def cleaning_quotes(text):\n",
        "    '''Get rid of some additional punctuation and non-sensical text that was missed the first time around.'''\n",
        "    text = re.sub('[‘’“”…]', '', text)\n",
        "    text = re.sub('\\n', '', text)\n",
        "    text = text.lower() #to lower case\n",
        "    return text\n"
      ],
      "metadata": {
        "id": "QMPXBzhhLtyi"
      },
      "execution_count": 40,
      "outputs": []
    },
    {
      "cell_type": "code",
      "source": [
        "# Let's take a look at the updated text\n",
        "TweetsDfIphoneClean['tweets_clean'] = TweetsDfIphoneClean['tweets_clean'].apply(lambda x: cleaning_quotes(x))\n",
        "TweetsDfSamsungClean['tweets_clean'] = TweetsDfSamsungClean['tweets_clean'].apply(lambda x: cleaning_quotes(x))\n",
        "TweetsDfHuaweiClean['tweets_clean'] = TweetsDfHuaweiClean['tweets_clean'].apply(lambda x: cleaning_quotes(x))\n",
        "TweetsDfXiaomiClean['tweets_clean'] = TweetsDfXiaomiClean['tweets_clean'].apply(lambda x: cleaning_quotes(x))\n",
        "TweetsDfOppoClean['tweets_clean'] = TweetsDfOppoClean['tweets_clean'].apply(lambda x: cleaning_quotes(x))\n",
        "#TweetsDfIphoneClean.head()"
      ],
      "metadata": {
        "id": "oV_bcrC-LvV9"
      },
      "execution_count": 41,
      "outputs": []
    },
    {
      "cell_type": "markdown",
      "source": [
        "### Creating a new copy of data for Corpus"
      ],
      "metadata": {
        "id": "nT2FzZrMvDWT"
      }
    },
    {
      "cell_type": "code",
      "source": [
        "TweetsDfIphoneCorpus=TweetsDfIphoneClean.copy()\n",
        "TweetsDfSamsungCorpus=TweetsDfSamsungClean.copy()\n",
        "TweetsDfHuaweiCorpus=TweetsDfHuaweiClean.copy()\n",
        "TweetsDfXiaomiCorpus=TweetsDfXiaomiClean.copy()\n",
        "TweetsDfOppoCorpus=TweetsDfOppoClean.copy()"
      ],
      "metadata": {
        "id": "-C8rYIuyhUF1"
      },
      "execution_count": 42,
      "outputs": []
    },
    {
      "cell_type": "markdown",
      "source": [
        "### removing repeat charcters"
      ],
      "metadata": {
        "id": "GLZrSvgrvJsN"
      }
    },
    {
      "cell_type": "code",
      "source": [
        "def cleaning_repeating_char(text):\n",
        "    return re.sub(r'(.)1+', r'1', text)"
      ],
      "metadata": {
        "id": "Z1C2Mepw_n77"
      },
      "execution_count": 43,
      "outputs": []
    },
    {
      "cell_type": "code",
      "source": [
        "TweetsDfIphoneCorpus['tweets_clean'] = TweetsDfIphoneCorpus['tweets_clean'].apply(lambda x: cleaning_repeating_char(x))\n",
        "TweetsDfSamsungCorpus['tweets_clean'] = TweetsDfSamsungCorpus['tweets_clean'].apply(lambda x: cleaning_repeating_char(x))\n",
        "TweetsDfHuaweiCorpus['tweets_clean'] = TweetsDfHuaweiCorpus['tweets_clean'].apply(lambda x: cleaning_repeating_char(x))\n",
        "TweetsDfXiaomiCorpus['tweets_clean'] = TweetsDfXiaomiCorpus['tweets_clean'].apply(lambda x: cleaning_repeating_char(x))\n",
        "TweetsDfOppoCorpus['tweets_clean'] = TweetsDfOppoCorpus['tweets_clean'].apply(lambda x: cleaning_repeating_char(x))\n",
        "#TweetsDfIphoneCorpus.head()"
      ],
      "metadata": {
        "id": "MgDq0HF8AJN-"
      },
      "execution_count": 44,
      "outputs": []
    },
    {
      "cell_type": "markdown",
      "source": [
        "##### Removal of Stop Words\n",
        "We import various libaries for identifing the stopwords, tokenizer, stemmer and lemmatizer.\n",
        "Cleaning of data for all stopwords"
      ],
      "metadata": {
        "id": "At2xBrr9ZXlw"
      }
    },
    {
      "cell_type": "code",
      "source": [
        "import nltk\n",
        "from nltk.corpus import stopwords\n",
        "from nltk.tokenize import word_tokenize \n",
        "from nltk.stem import PorterStemmer\n",
        "from nltk.stem import WordNetLemmatizer\n",
        "import nltk.stem as stem\n",
        "import nltk.corpus as corpus\n",
        "\n",
        "nltk.download('stopwords')\n",
        "nltk.download('wordnet')\n",
        "nltk.download('punkt')\n",
        "nltk.download('averaged_perceptron_tagger')"
      ],
      "metadata": {
        "colab": {
          "base_uri": "https://localhost:8080/"
        },
        "id": "RhJoa8Zz_w3n",
        "outputId": "f4292e90-fd48-4e09-d64c-d2db3e5958f2"
      },
      "execution_count": 45,
      "outputs": [
        {
          "output_type": "stream",
          "name": "stderr",
          "text": [
            "[nltk_data] Downloading package stopwords to /root/nltk_data...\n",
            "[nltk_data]   Unzipping corpora/stopwords.zip.\n",
            "[nltk_data] Downloading package wordnet to /root/nltk_data...\n",
            "[nltk_data] Downloading package punkt to /root/nltk_data...\n",
            "[nltk_data]   Unzipping tokenizers/punkt.zip.\n",
            "[nltk_data] Downloading package averaged_perceptron_tagger to\n",
            "[nltk_data]     /root/nltk_data...\n",
            "[nltk_data]   Unzipping taggers/averaged_perceptron_tagger.zip.\n"
          ]
        },
        {
          "output_type": "execute_result",
          "data": {
            "text/plain": [
              "True"
            ]
          },
          "metadata": {},
          "execution_count": 45
        }
      ]
    },
    {
      "cell_type": "code",
      "source": [
        "from sklearn.feature_extraction import text\n",
        "from sklearn.feature_extraction.text import CountVectorizer"
      ],
      "metadata": {
        "id": "r2gF6guNpO0P"
      },
      "execution_count": 46,
      "outputs": []
    },
    {
      "cell_type": "code",
      "source": [
        "english_punctuations = string.punctuation\n",
        "punctuations_list = english_punctuations\n",
        "def cleaning_punctuations(text):\n",
        "    translator = str.maketrans('', '', punctuations_list)\n",
        "    return text.translate(translator)"
      ],
      "metadata": {
        "id": "JAgkNpULCSG4"
      },
      "execution_count": 47,
      "outputs": []
    },
    {
      "cell_type": "code",
      "source": [
        "TweetsDfIphoneCorpus['tweets_clean'] = TweetsDfIphoneCorpus['tweets_clean'].apply(lambda x: cleaning_punctuations(x))\n",
        "TweetsDfSamsungCorpus['tweets_clean'] = TweetsDfSamsungCorpus['tweets_clean'].apply(lambda x: cleaning_punctuations(x))\n",
        "TweetsDfHuaweiCorpus['tweets_clean'] = TweetsDfHuaweiCorpus['tweets_clean'].apply(lambda x: cleaning_punctuations(x))\n",
        "TweetsDfXiaomiCorpus['tweets_clean'] = TweetsDfXiaomiCorpus['tweets_clean'].apply(lambda x: cleaning_punctuations(x))\n",
        "TweetsDfOppoCorpus['tweets_clean'] = TweetsDfOppoCorpus['tweets_clean'].apply(lambda x: cleaning_punctuations(x))\n",
        "TweetsDfIphoneCorpus.head()"
      ],
      "metadata": {
        "colab": {
          "base_uri": "https://localhost:8080/",
          "height": 337
        },
        "id": "Xf8bKLVpCdJ2",
        "outputId": "b04c6a24-60c1-4f19-db4e-8d4b92f9b05e"
      },
      "execution_count": 48,
      "outputs": [
        {
          "output_type": "execute_result",
          "data": {
            "text/plain": [
              "                                                                                                                              tweets  \\\n",
              "0  @gemhostofficial: $1000 | 14 JY | IPHONE 12 ~ Ends in 10 days \\n\\n• RT &amp; Follow \\n\\n@ceirous ( 🔔 )\\n@Nuggetz_io \\n@giezwac...   \n",
              "1  @missufe: $1000 | 14 JT RUPIAH OR IPHONE 12 PRO FOR ONE WINNER IN 7 DAYS 🦄\\n\\n- RT &amp; Follow\\n\\n@withNabiya \\n@metarabbitcl...   \n",
              "2  @gemhostofficial: $1000 | 14 JY | IPHONE 12 ~ ends in 10 days \\n\\n• RT &amp; Follow \\n\\n@reneeziv \\n@TheOrcsNFT\\n@Cryptoishaz ...   \n",
              "3  @missufe: $300 | 4,2 JT OR IPHONE 8 FOR ONE WINNER IN 48 HOURS 🦄\\n\\n- RT &amp; Follow\\n\\n@BHVannessa + @Ac7ionMann https://t.c...   \n",
              "4  @furrincrypto: $1000 | 14 JT | iPhone 12 Pro ~ 10 DAYS🖼️\\n\\n($500)\\n-RT &amp; Follow @ORIGYNTech \\n\\n(+$500)\\n-Join Telegram 👇...   \n",
              "\n",
              "                                                                tweets_clean  \\\n",
              "0                        jy  iphone   ends in  days • rt amp follow            \n",
              "1       jt rupiah or iphone  pro for one winner in  days  rt amp follow        \n",
              "2                        jy  iphone   ends in  days • rt amp follow            \n",
              "3                jt or iphone  for one winner in  hours  rt amp follow         \n",
              "4                jt  iphone  pro   daysrt amp follow   join telegram  proof    \n",
              "\n",
              "                         location    handle_name         date_posted length  \n",
              "0                                  Yenirbigwin25 2022-04-16 02:27:24     81  \n",
              "1                                    _hopieeee09 2022-04-16 02:27:23     93  \n",
              "2                                     vilariannn 2022-04-16 02:27:23     80  \n",
              "3  Manila City, National Capital       aaaldwinn 2022-04-16 02:27:23     83  \n",
              "4                        Yoongi's   daddieagustd 2022-04-16 02:27:22    104  "
            ],
            "text/html": [
              "\n",
              "  <div id=\"df-c4f953ac-a360-42e0-99ac-55cf9716c56c\">\n",
              "    <div class=\"colab-df-container\">\n",
              "      <div>\n",
              "<style scoped>\n",
              "    .dataframe tbody tr th:only-of-type {\n",
              "        vertical-align: middle;\n",
              "    }\n",
              "\n",
              "    .dataframe tbody tr th {\n",
              "        vertical-align: top;\n",
              "    }\n",
              "\n",
              "    .dataframe thead th {\n",
              "        text-align: right;\n",
              "    }\n",
              "</style>\n",
              "<table border=\"1\" class=\"dataframe\">\n",
              "  <thead>\n",
              "    <tr style=\"text-align: right;\">\n",
              "      <th></th>\n",
              "      <th>tweets</th>\n",
              "      <th>tweets_clean</th>\n",
              "      <th>location</th>\n",
              "      <th>handle_name</th>\n",
              "      <th>date_posted</th>\n",
              "      <th>length</th>\n",
              "    </tr>\n",
              "  </thead>\n",
              "  <tbody>\n",
              "    <tr>\n",
              "      <th>0</th>\n",
              "      <td>@gemhostofficial: $1000 | 14 JY | IPHONE 12 ~ Ends in 10 days \\n\\n• RT &amp;amp; Follow \\n\\n@ceirous ( 🔔 )\\n@Nuggetz_io \\n@giezwac...</td>\n",
              "      <td>jy  iphone   ends in  days • rt amp follow</td>\n",
              "      <td></td>\n",
              "      <td>Yenirbigwin25</td>\n",
              "      <td>2022-04-16 02:27:24</td>\n",
              "      <td>81</td>\n",
              "    </tr>\n",
              "    <tr>\n",
              "      <th>1</th>\n",
              "      <td>@missufe: $1000 | 14 JT RUPIAH OR IPHONE 12 PRO FOR ONE WINNER IN 7 DAYS 🦄\\n\\n- RT &amp;amp; Follow\\n\\n@withNabiya \\n@metarabbitcl...</td>\n",
              "      <td>jt rupiah or iphone  pro for one winner in  days  rt amp follow</td>\n",
              "      <td></td>\n",
              "      <td>_hopieeee09</td>\n",
              "      <td>2022-04-16 02:27:23</td>\n",
              "      <td>93</td>\n",
              "    </tr>\n",
              "    <tr>\n",
              "      <th>2</th>\n",
              "      <td>@gemhostofficial: $1000 | 14 JY | IPHONE 12 ~ ends in 10 days \\n\\n• RT &amp;amp; Follow \\n\\n@reneeziv \\n@TheOrcsNFT\\n@Cryptoishaz ...</td>\n",
              "      <td>jy  iphone   ends in  days • rt amp follow</td>\n",
              "      <td></td>\n",
              "      <td>vilariannn</td>\n",
              "      <td>2022-04-16 02:27:23</td>\n",
              "      <td>80</td>\n",
              "    </tr>\n",
              "    <tr>\n",
              "      <th>3</th>\n",
              "      <td>@missufe: $300 | 4,2 JT OR IPHONE 8 FOR ONE WINNER IN 48 HOURS 🦄\\n\\n- RT &amp;amp; Follow\\n\\n@BHVannessa + @Ac7ionMann https://t.c...</td>\n",
              "      <td>jt or iphone  for one winner in  hours  rt amp follow</td>\n",
              "      <td>Manila City, National Capital</td>\n",
              "      <td>aaaldwinn</td>\n",
              "      <td>2022-04-16 02:27:23</td>\n",
              "      <td>83</td>\n",
              "    </tr>\n",
              "    <tr>\n",
              "      <th>4</th>\n",
              "      <td>@furrincrypto: $1000 | 14 JT | iPhone 12 Pro ~ 10 DAYS🖼️\\n\\n($500)\\n-RT &amp;amp; Follow @ORIGYNTech \\n\\n(+$500)\\n-Join Telegram 👇...</td>\n",
              "      <td>jt  iphone  pro   daysrt amp follow   join telegram  proof</td>\n",
              "      <td>Yoongi's</td>\n",
              "      <td>daddieagustd</td>\n",
              "      <td>2022-04-16 02:27:22</td>\n",
              "      <td>104</td>\n",
              "    </tr>\n",
              "  </tbody>\n",
              "</table>\n",
              "</div>\n",
              "      <button class=\"colab-df-convert\" onclick=\"convertToInteractive('df-c4f953ac-a360-42e0-99ac-55cf9716c56c')\"\n",
              "              title=\"Convert this dataframe to an interactive table.\"\n",
              "              style=\"display:none;\">\n",
              "        \n",
              "  <svg xmlns=\"http://www.w3.org/2000/svg\" height=\"24px\"viewBox=\"0 0 24 24\"\n",
              "       width=\"24px\">\n",
              "    <path d=\"M0 0h24v24H0V0z\" fill=\"none\"/>\n",
              "    <path d=\"M18.56 5.44l.94 2.06.94-2.06 2.06-.94-2.06-.94-.94-2.06-.94 2.06-2.06.94zm-11 1L8.5 8.5l.94-2.06 2.06-.94-2.06-.94L8.5 2.5l-.94 2.06-2.06.94zm10 10l.94 2.06.94-2.06 2.06-.94-2.06-.94-.94-2.06-.94 2.06-2.06.94z\"/><path d=\"M17.41 7.96l-1.37-1.37c-.4-.4-.92-.59-1.43-.59-.52 0-1.04.2-1.43.59L10.3 9.45l-7.72 7.72c-.78.78-.78 2.05 0 2.83L4 21.41c.39.39.9.59 1.41.59.51 0 1.02-.2 1.41-.59l7.78-7.78 2.81-2.81c.8-.78.8-2.07 0-2.86zM5.41 20L4 18.59l7.72-7.72 1.47 1.35L5.41 20z\"/>\n",
              "  </svg>\n",
              "      </button>\n",
              "      \n",
              "  <style>\n",
              "    .colab-df-container {\n",
              "      display:flex;\n",
              "      flex-wrap:wrap;\n",
              "      gap: 12px;\n",
              "    }\n",
              "\n",
              "    .colab-df-convert {\n",
              "      background-color: #E8F0FE;\n",
              "      border: none;\n",
              "      border-radius: 50%;\n",
              "      cursor: pointer;\n",
              "      display: none;\n",
              "      fill: #1967D2;\n",
              "      height: 32px;\n",
              "      padding: 0 0 0 0;\n",
              "      width: 32px;\n",
              "    }\n",
              "\n",
              "    .colab-df-convert:hover {\n",
              "      background-color: #E2EBFA;\n",
              "      box-shadow: 0px 1px 2px rgba(60, 64, 67, 0.3), 0px 1px 3px 1px rgba(60, 64, 67, 0.15);\n",
              "      fill: #174EA6;\n",
              "    }\n",
              "\n",
              "    [theme=dark] .colab-df-convert {\n",
              "      background-color: #3B4455;\n",
              "      fill: #D2E3FC;\n",
              "    }\n",
              "\n",
              "    [theme=dark] .colab-df-convert:hover {\n",
              "      background-color: #434B5C;\n",
              "      box-shadow: 0px 1px 3px 1px rgba(0, 0, 0, 0.15);\n",
              "      filter: drop-shadow(0px 1px 2px rgba(0, 0, 0, 0.3));\n",
              "      fill: #FFFFFF;\n",
              "    }\n",
              "  </style>\n",
              "\n",
              "      <script>\n",
              "        const buttonEl =\n",
              "          document.querySelector('#df-c4f953ac-a360-42e0-99ac-55cf9716c56c button.colab-df-convert');\n",
              "        buttonEl.style.display =\n",
              "          google.colab.kernel.accessAllowed ? 'block' : 'none';\n",
              "\n",
              "        async function convertToInteractive(key) {\n",
              "          const element = document.querySelector('#df-c4f953ac-a360-42e0-99ac-55cf9716c56c');\n",
              "          const dataTable =\n",
              "            await google.colab.kernel.invokeFunction('convertToInteractive',\n",
              "                                                     [key], {});\n",
              "          if (!dataTable) return;\n",
              "\n",
              "          const docLinkHtml = 'Like what you see? Visit the ' +\n",
              "            '<a target=\"_blank\" href=https://colab.research.google.com/notebooks/data_table.ipynb>data table notebook</a>'\n",
              "            + ' to learn more about interactive tables.';\n",
              "          element.innerHTML = '';\n",
              "          dataTable['output_type'] = 'display_data';\n",
              "          await google.colab.output.renderOutput(dataTable, element);\n",
              "          const docLink = document.createElement('div');\n",
              "          docLink.innerHTML = docLinkHtml;\n",
              "          element.appendChild(docLink);\n",
              "        }\n",
              "      </script>\n",
              "    </div>\n",
              "  </div>\n",
              "  "
            ]
          },
          "metadata": {},
          "execution_count": 48
        }
      ]
    },
    {
      "cell_type": "markdown",
      "source": [
        "### Applying Stemming and Lemmatization"
      ],
      "metadata": {
        "id": "I0JAJakbvSww"
      }
    },
    {
      "cell_type": "code",
      "source": [
        "#Stemming and Lemmatization\n",
        "add_stop_words = ['rt', 'jt', 'jy', 'amp']\n",
        "stop_words = text.ENGLISH_STOP_WORDS.union(add_stop_words)\n",
        "\n",
        "set(stopwords.words('english'))\n",
        "def StemmingLemmatizationStopWords(Data):\n",
        "  #stop_words = set(stopwords.words('english')) \n",
        "  no_stop_words = []\n",
        "  no_stop_words_string=\"\"\n",
        "  for tweetsCleaned in Data:\n",
        "    word_tokens = word_tokenize(tweetsCleaned)\n",
        "\n",
        "      \n",
        "    filtered_sentence = \"\"\n",
        "    filtered_sentence_ar = [] \n",
        "      \n",
        "    for w in word_tokens: \n",
        "        if w not in stop_words: \n",
        "            filtered_sentence = filtered_sentence + w + ' '\n",
        "            filtered_sentence_ar.append(w) \n",
        "\n",
        "    Stem_words = []\n",
        "    Stem_words_str=\"\"\n",
        "\n",
        "    ps =PorterStemmer()\n",
        "    wordnet_lemmatizer = WordNetLemmatizer()\n",
        "    for w in filtered_sentence_ar:\n",
        "        if w.endswith('e'):\n",
        "          rootWord=w\n",
        "        else:\n",
        "          rootWord=ps.stem(w)\n",
        "        Stem_words.append(rootWord)\n",
        "        Stem_words_str=Stem_words_str+rootWord+' '\n",
        "    lemma_word = []\n",
        "    lemma_word_str = \"\"\n",
        "    for w in Stem_words:\n",
        "      word1 = wordnet_lemmatizer.lemmatize(w, pos = \"n\")\n",
        "      word2 = wordnet_lemmatizer.lemmatize(word1, pos = \"v\")\n",
        "      word3 = wordnet_lemmatizer.lemmatize(word2, pos = (\"a\"))\n",
        "      lemma_word.append(word3)\n",
        "      lemma_word_str=lemma_word_str+word3+ ' '\n",
        "\n",
        "    no_stop_words.append(lemma_word_str)\n",
        "    no_stop_words_string = no_stop_words_string + lemma_word_str + ' '\n",
        "    #print(Stem_words)\n",
        "    #print(lemma_word)\n",
        "    #print(filtered_sentence_ar)\n",
        "  return no_stop_words, no_stop_words_string"
      ],
      "metadata": {
        "id": "WSiHiYuOff9c"
      },
      "execution_count": 49,
      "outputs": []
    },
    {
      "cell_type": "code",
      "source": [
        "nltk.download('omw-1.4')"
      ],
      "metadata": {
        "colab": {
          "base_uri": "https://localhost:8080/"
        },
        "id": "EMG-GEF3DEZ9",
        "outputId": "146fba54-f124-4719-f15c-759e6f083f0d"
      },
      "execution_count": 51,
      "outputs": [
        {
          "output_type": "stream",
          "name": "stderr",
          "text": [
            "[nltk_data] Downloading package omw-1.4 to /root/nltk_data...\n"
          ]
        },
        {
          "output_type": "execute_result",
          "data": {
            "text/plain": [
              "True"
            ]
          },
          "metadata": {},
          "execution_count": 51
        }
      ]
    },
    {
      "cell_type": "code",
      "source": [
        "no_stop_words_return_iphone = StemmingLemmatizationStopWords(TweetsDfIphoneCorpus['tweets_clean'])\n",
        "no_stop_words_return_samsung = StemmingLemmatizationStopWords(TweetsDfSamsungCorpus['tweets_clean'])\n",
        "no_stop_words_return_huawei = StemmingLemmatizationStopWords(TweetsDfHuaweiCorpus['tweets_clean'])\n",
        "no_stop_words_return_xiaomi = StemmingLemmatizationStopWords(TweetsDfXiaomiCorpus['tweets_clean'])\n",
        "no_stop_words_return_oppo = StemmingLemmatizationStopWords(TweetsDfOppoCorpus['tweets_clean'])"
      ],
      "metadata": {
        "id": "o-nW-1E-jPrq"
      },
      "execution_count": 52,
      "outputs": []
    },
    {
      "cell_type": "code",
      "source": [
        "#no_stop_words_iphone = no_stop_words_return_iphone[0]\n",
        "no_stop_words_string_iphone = no_stop_words_return_iphone[1]\n",
        "\n",
        "#no_stop_words_samsung = no_stop_words_return_samsung[0]\n",
        "no_stop_words_string_samsung = no_stop_words_return_samsung[1]\n",
        "\n",
        "#no_stop_words_huawei = no_stop_words_return_huawei[0]\n",
        "no_stop_words_string_huawei = no_stop_words_return_huawei[1]\n",
        "\n",
        "#no_stop_words_xiaomi = no_stop_words_return_xiaomi[0]\n",
        "no_stop_words_string_xiaomi = no_stop_words_return_xiaomi[1]\n",
        "\n",
        "#no_stop_words_oppo = no_stop_words_return_oppo[0]\n",
        "no_stop_words_string_oppo = no_stop_words_return_oppo[1]"
      ],
      "metadata": {
        "id": "K6u9lO3NUBrQ"
      },
      "execution_count": 53,
      "outputs": []
    },
    {
      "cell_type": "code",
      "source": [
        "#no_stop_words_iphone=pd.DataFrame(no_stop_words_iphone)\n",
        "#no_stop_words_iphone.columns = ['tweets_clean']\n",
        "#no_stop_words_iphone = no_stop_words_iphone.sort_index()\n",
        "#no_stop_words_iphone.head()\n"
      ],
      "metadata": {
        "id": "zoupZD9P3orz"
      },
      "execution_count": 54,
      "outputs": []
    },
    {
      "cell_type": "markdown",
      "source": [
        "### Creating one long string from all the tweets in each data frame"
      ],
      "metadata": {
        "id": "KMhdJ9kcvbgA"
      }
    },
    {
      "cell_type": "code",
      "source": [
        "no_stop_words_string_copy_iphone=no_stop_words_string_iphone\n",
        "no_stop_words_string_copy_samsung=no_stop_words_string_samsung\n",
        "no_stop_words_string_copy_huawei=no_stop_words_string_huawei\n",
        "no_stop_words_string_copy_xiaomi=no_stop_words_string_xiaomi\n",
        "no_stop_words_string_copy_oppo=no_stop_words_string_oppo"
      ],
      "metadata": {
        "id": "J-O-474oAlK1"
      },
      "execution_count": 55,
      "outputs": []
    },
    {
      "cell_type": "code",
      "source": [
        "no_stop_words_string_final=np.array([[\"iPhone\",no_stop_words_string_copy_iphone]])\n",
        "no_stop_words_string_final=pd.DataFrame(no_stop_words_string_final)\n",
        "no_stop_words_string_final.columns = ['smartphone','tweets_clean']\n",
        "no_stop_words_string_final = no_stop_words_string_final.sort_index()"
      ],
      "metadata": {
        "id": "Rw1DTB39Wpdn"
      },
      "execution_count": 56,
      "outputs": []
    },
    {
      "cell_type": "code",
      "source": [
        "no_stop_words_string_final = no_stop_words_string_final.append({'smartphone':'Samsung','tweets_clean':no_stop_words_string_copy_samsung},ignore_index=True)\n",
        "no_stop_words_string_final = no_stop_words_string_final.append({'smartphone':'Huawei','tweets_clean':no_stop_words_string_copy_huawei},ignore_index=True)\n",
        "no_stop_words_string_final = no_stop_words_string_final.append({'smartphone':'Xiaomi','tweets_clean':no_stop_words_string_copy_xiaomi},ignore_index=True)\n",
        "no_stop_words_string_final = no_stop_words_string_final.append({'smartphone':'Oppo','tweets_clean':no_stop_words_string_copy_oppo},ignore_index=True)"
      ],
      "metadata": {
        "id": "Y-azXEIIYkao"
      },
      "execution_count": 57,
      "outputs": []
    },
    {
      "cell_type": "markdown",
      "source": [
        "Checking the data after stop words are removed"
      ],
      "metadata": {
        "id": "Uw4TLHlOZ-RV"
      }
    },
    {
      "cell_type": "code",
      "source": [
        "no_stop_words_string_final.head()"
      ],
      "metadata": {
        "id": "e6J9fTrLNIju",
        "colab": {
          "base_uri": "https://localhost:8080/",
          "height": 206
        },
        "outputId": "7b85ebb1-b994-49d1-87c0-ee7d12c816ec"
      },
      "execution_count": 58,
      "outputs": [
        {
          "output_type": "execute_result",
          "data": {
            "text/plain": [
              "  smartphone  \\\n",
              "0     iPhone   \n",
              "1    Samsung   \n",
              "2     Huawei   \n",
              "3     Xiaomi   \n",
              "4       Oppo   \n",
              "\n",
              "                                                                                                                        tweets_clean  \n",
              "0  iphone end day • follow  rupiah iphone pro winner day follow  iphone end day • follow  iphone winner hour follow  iphone pro d...  \n",
              "1  samsung new digit id wallet store document asnat idsdriv licensescredit cardsdi  redmagicpro cureent use samsung v love play b...  \n",
              "2  citi future support digit workforce provide citizen person experi improve th  polar code basic ldpc code achieve capac slightl...  \n",
              "3  redmi sale attribut contribut factor gain shipment rank redmi xiaomi  like redmi phone everytime drôle phone si dont anymore p...  \n",
              "4  ponder mysteri oppoeasteregg  oppo taco proud kid  oppo write histor fiction she crap market bad selfpromot need th  oppo olso...  "
            ],
            "text/html": [
              "\n",
              "  <div id=\"df-a7528c7a-69b9-441a-8729-5bb260946238\">\n",
              "    <div class=\"colab-df-container\">\n",
              "      <div>\n",
              "<style scoped>\n",
              "    .dataframe tbody tr th:only-of-type {\n",
              "        vertical-align: middle;\n",
              "    }\n",
              "\n",
              "    .dataframe tbody tr th {\n",
              "        vertical-align: top;\n",
              "    }\n",
              "\n",
              "    .dataframe thead th {\n",
              "        text-align: right;\n",
              "    }\n",
              "</style>\n",
              "<table border=\"1\" class=\"dataframe\">\n",
              "  <thead>\n",
              "    <tr style=\"text-align: right;\">\n",
              "      <th></th>\n",
              "      <th>smartphone</th>\n",
              "      <th>tweets_clean</th>\n",
              "    </tr>\n",
              "  </thead>\n",
              "  <tbody>\n",
              "    <tr>\n",
              "      <th>0</th>\n",
              "      <td>iPhone</td>\n",
              "      <td>iphone end day • follow  rupiah iphone pro winner day follow  iphone end day • follow  iphone winner hour follow  iphone pro d...</td>\n",
              "    </tr>\n",
              "    <tr>\n",
              "      <th>1</th>\n",
              "      <td>Samsung</td>\n",
              "      <td>samsung new digit id wallet store document asnat idsdriv licensescredit cardsdi  redmagicpro cureent use samsung v love play b...</td>\n",
              "    </tr>\n",
              "    <tr>\n",
              "      <th>2</th>\n",
              "      <td>Huawei</td>\n",
              "      <td>citi future support digit workforce provide citizen person experi improve th  polar code basic ldpc code achieve capac slightl...</td>\n",
              "    </tr>\n",
              "    <tr>\n",
              "      <th>3</th>\n",
              "      <td>Xiaomi</td>\n",
              "      <td>redmi sale attribut contribut factor gain shipment rank redmi xiaomi  like redmi phone everytime drôle phone si dont anymore p...</td>\n",
              "    </tr>\n",
              "    <tr>\n",
              "      <th>4</th>\n",
              "      <td>Oppo</td>\n",
              "      <td>ponder mysteri oppoeasteregg  oppo taco proud kid  oppo write histor fiction she crap market bad selfpromot need th  oppo olso...</td>\n",
              "    </tr>\n",
              "  </tbody>\n",
              "</table>\n",
              "</div>\n",
              "      <button class=\"colab-df-convert\" onclick=\"convertToInteractive('df-a7528c7a-69b9-441a-8729-5bb260946238')\"\n",
              "              title=\"Convert this dataframe to an interactive table.\"\n",
              "              style=\"display:none;\">\n",
              "        \n",
              "  <svg xmlns=\"http://www.w3.org/2000/svg\" height=\"24px\"viewBox=\"0 0 24 24\"\n",
              "       width=\"24px\">\n",
              "    <path d=\"M0 0h24v24H0V0z\" fill=\"none\"/>\n",
              "    <path d=\"M18.56 5.44l.94 2.06.94-2.06 2.06-.94-2.06-.94-.94-2.06-.94 2.06-2.06.94zm-11 1L8.5 8.5l.94-2.06 2.06-.94-2.06-.94L8.5 2.5l-.94 2.06-2.06.94zm10 10l.94 2.06.94-2.06 2.06-.94-2.06-.94-.94-2.06-.94 2.06-2.06.94z\"/><path d=\"M17.41 7.96l-1.37-1.37c-.4-.4-.92-.59-1.43-.59-.52 0-1.04.2-1.43.59L10.3 9.45l-7.72 7.72c-.78.78-.78 2.05 0 2.83L4 21.41c.39.39.9.59 1.41.59.51 0 1.02-.2 1.41-.59l7.78-7.78 2.81-2.81c.8-.78.8-2.07 0-2.86zM5.41 20L4 18.59l7.72-7.72 1.47 1.35L5.41 20z\"/>\n",
              "  </svg>\n",
              "      </button>\n",
              "      \n",
              "  <style>\n",
              "    .colab-df-container {\n",
              "      display:flex;\n",
              "      flex-wrap:wrap;\n",
              "      gap: 12px;\n",
              "    }\n",
              "\n",
              "    .colab-df-convert {\n",
              "      background-color: #E8F0FE;\n",
              "      border: none;\n",
              "      border-radius: 50%;\n",
              "      cursor: pointer;\n",
              "      display: none;\n",
              "      fill: #1967D2;\n",
              "      height: 32px;\n",
              "      padding: 0 0 0 0;\n",
              "      width: 32px;\n",
              "    }\n",
              "\n",
              "    .colab-df-convert:hover {\n",
              "      background-color: #E2EBFA;\n",
              "      box-shadow: 0px 1px 2px rgba(60, 64, 67, 0.3), 0px 1px 3px 1px rgba(60, 64, 67, 0.15);\n",
              "      fill: #174EA6;\n",
              "    }\n",
              "\n",
              "    [theme=dark] .colab-df-convert {\n",
              "      background-color: #3B4455;\n",
              "      fill: #D2E3FC;\n",
              "    }\n",
              "\n",
              "    [theme=dark] .colab-df-convert:hover {\n",
              "      background-color: #434B5C;\n",
              "      box-shadow: 0px 1px 3px 1px rgba(0, 0, 0, 0.15);\n",
              "      filter: drop-shadow(0px 1px 2px rgba(0, 0, 0, 0.3));\n",
              "      fill: #FFFFFF;\n",
              "    }\n",
              "  </style>\n",
              "\n",
              "      <script>\n",
              "        const buttonEl =\n",
              "          document.querySelector('#df-a7528c7a-69b9-441a-8729-5bb260946238 button.colab-df-convert');\n",
              "        buttonEl.style.display =\n",
              "          google.colab.kernel.accessAllowed ? 'block' : 'none';\n",
              "\n",
              "        async function convertToInteractive(key) {\n",
              "          const element = document.querySelector('#df-a7528c7a-69b9-441a-8729-5bb260946238');\n",
              "          const dataTable =\n",
              "            await google.colab.kernel.invokeFunction('convertToInteractive',\n",
              "                                                     [key], {});\n",
              "          if (!dataTable) return;\n",
              "\n",
              "          const docLinkHtml = 'Like what you see? Visit the ' +\n",
              "            '<a target=\"_blank\" href=https://colab.research.google.com/notebooks/data_table.ipynb>data table notebook</a>'\n",
              "            + ' to learn more about interactive tables.';\n",
              "          element.innerHTML = '';\n",
              "          dataTable['output_type'] = 'display_data';\n",
              "          await google.colab.output.renderOutput(dataTable, element);\n",
              "          const docLink = document.createElement('div');\n",
              "          docLink.innerHTML = docLinkHtml;\n",
              "          element.appendChild(docLink);\n",
              "        }\n",
              "      </script>\n",
              "    </div>\n",
              "  </div>\n",
              "  "
            ]
          },
          "metadata": {},
          "execution_count": 58
        }
      ]
    },
    {
      "cell_type": "markdown",
      "source": [
        "### Most Common Words\n"
      ],
      "metadata": {
        "id": "_29cR-3XaQTQ"
      }
    },
    {
      "cell_type": "markdown",
      "source": [
        "### Creating document-term matrix using CountVectorizer"
      ],
      "metadata": {
        "id": "-6SNbMgjaZv3"
      }
    },
    {
      "cell_type": "code",
      "source": [
        "#We are going to create a document-term matrix using CountVectorizer, and exclude common English stop words\n",
        "\n",
        "cv = CountVectorizer(stop_words='english')\n",
        "data_cv = cv.fit_transform(no_stop_words_string_final.tweets_clean)\n",
        "no_stop_words_string_CV = pd.DataFrame(data_cv.toarray(), columns=cv.get_feature_names())\n",
        "no_stop_words_string_CV.index = no_stop_words_string_final.smartphone\n",
        "no_stop_words_string_CV"
      ],
      "metadata": {
        "id": "6Fk4GL1R_J-g",
        "colab": {
          "base_uri": "https://localhost:8080/",
          "height": 366
        },
        "outputId": "5c030ed7-4cfb-4a73-bb73-2e8d690b5e15"
      },
      "execution_count": 59,
      "outputs": [
        {
          "output_type": "stream",
          "name": "stderr",
          "text": [
            "/usr/local/lib/python3.7/dist-packages/sklearn/utils/deprecation.py:87: FutureWarning: Function get_feature_names is deprecated; get_feature_names is deprecated in 1.0 and will be removed in 1.2. Please use get_feature_names_out instead.\n",
            "  warnings.warn(msg, category=FutureWarning)\n"
          ]
        },
        {
          "output_type": "execute_result",
          "data": {
            "text/plain": [
              "            aa  aaa  aaaa  aaaaaaaaaaaaahhhhhhhhhhhhhhhhhhhhhhhhhh  aaaand  \\\n",
              "smartphone                                                                   \n",
              "iPhone       0    1     0                                        1       0   \n",
              "Samsung      0    8     2                                        0       1   \n",
              "Huawei       1    0     0                                        0       0   \n",
              "Xiaomi       0    0     0                                        0       0   \n",
              "Oppo        12    1     0                                        0       0   \n",
              "\n",
              "            aaah  aaaq  aachi  aadmi  aaeasaaasaasaa  ...  ላይ  ረሀብ  ተደርቦ  \\\n",
              "smartphone                                            ...                  \n",
              "iPhone         0     0      0      1               0  ...   0    0     0   \n",
              "Samsung        0     0      1      0               1  ...   0    0     0   \n",
              "Huawei         0     1      0      0               0  ...   2    2     2   \n",
              "Xiaomi         1     5      0      0               0  ...   0    0     0   \n",
              "Oppo           0     1      1      0               0  ...   0    0     0   \n",
              "\n",
              "            የሚያንገላታው  የቀድሞ  የዋግ  ጦርነት  ፃግብጅ  ᴥedit  ⁰c  \n",
              "smartphone                                              \n",
              "iPhone             0     0    0     0     0      0   0  \n",
              "Samsung            0     0    0     0     0      0   0  \n",
              "Huawei             2     2    2     2     2      0   0  \n",
              "Xiaomi             0     0    0     0     0      0   1  \n",
              "Oppo               0     0    0     0     0      1   0  \n",
              "\n",
              "[5 rows x 26802 columns]"
            ],
            "text/html": [
              "\n",
              "  <div id=\"df-67d8c5d8-3bbe-4510-8656-7c63571c5756\">\n",
              "    <div class=\"colab-df-container\">\n",
              "      <div>\n",
              "<style scoped>\n",
              "    .dataframe tbody tr th:only-of-type {\n",
              "        vertical-align: middle;\n",
              "    }\n",
              "\n",
              "    .dataframe tbody tr th {\n",
              "        vertical-align: top;\n",
              "    }\n",
              "\n",
              "    .dataframe thead th {\n",
              "        text-align: right;\n",
              "    }\n",
              "</style>\n",
              "<table border=\"1\" class=\"dataframe\">\n",
              "  <thead>\n",
              "    <tr style=\"text-align: right;\">\n",
              "      <th></th>\n",
              "      <th>aa</th>\n",
              "      <th>aaa</th>\n",
              "      <th>aaaa</th>\n",
              "      <th>aaaaaaaaaaaaahhhhhhhhhhhhhhhhhhhhhhhhhh</th>\n",
              "      <th>aaaand</th>\n",
              "      <th>aaah</th>\n",
              "      <th>aaaq</th>\n",
              "      <th>aachi</th>\n",
              "      <th>aadmi</th>\n",
              "      <th>aaeasaaasaasaa</th>\n",
              "      <th>...</th>\n",
              "      <th>ላይ</th>\n",
              "      <th>ረሀብ</th>\n",
              "      <th>ተደርቦ</th>\n",
              "      <th>የሚያንገላታው</th>\n",
              "      <th>የቀድሞ</th>\n",
              "      <th>የዋግ</th>\n",
              "      <th>ጦርነት</th>\n",
              "      <th>ፃግብጅ</th>\n",
              "      <th>ᴥedit</th>\n",
              "      <th>⁰c</th>\n",
              "    </tr>\n",
              "    <tr>\n",
              "      <th>smartphone</th>\n",
              "      <th></th>\n",
              "      <th></th>\n",
              "      <th></th>\n",
              "      <th></th>\n",
              "      <th></th>\n",
              "      <th></th>\n",
              "      <th></th>\n",
              "      <th></th>\n",
              "      <th></th>\n",
              "      <th></th>\n",
              "      <th></th>\n",
              "      <th></th>\n",
              "      <th></th>\n",
              "      <th></th>\n",
              "      <th></th>\n",
              "      <th></th>\n",
              "      <th></th>\n",
              "      <th></th>\n",
              "      <th></th>\n",
              "      <th></th>\n",
              "      <th></th>\n",
              "    </tr>\n",
              "  </thead>\n",
              "  <tbody>\n",
              "    <tr>\n",
              "      <th>iPhone</th>\n",
              "      <td>0</td>\n",
              "      <td>1</td>\n",
              "      <td>0</td>\n",
              "      <td>1</td>\n",
              "      <td>0</td>\n",
              "      <td>0</td>\n",
              "      <td>0</td>\n",
              "      <td>0</td>\n",
              "      <td>1</td>\n",
              "      <td>0</td>\n",
              "      <td>...</td>\n",
              "      <td>0</td>\n",
              "      <td>0</td>\n",
              "      <td>0</td>\n",
              "      <td>0</td>\n",
              "      <td>0</td>\n",
              "      <td>0</td>\n",
              "      <td>0</td>\n",
              "      <td>0</td>\n",
              "      <td>0</td>\n",
              "      <td>0</td>\n",
              "    </tr>\n",
              "    <tr>\n",
              "      <th>Samsung</th>\n",
              "      <td>0</td>\n",
              "      <td>8</td>\n",
              "      <td>2</td>\n",
              "      <td>0</td>\n",
              "      <td>1</td>\n",
              "      <td>0</td>\n",
              "      <td>0</td>\n",
              "      <td>1</td>\n",
              "      <td>0</td>\n",
              "      <td>1</td>\n",
              "      <td>...</td>\n",
              "      <td>0</td>\n",
              "      <td>0</td>\n",
              "      <td>0</td>\n",
              "      <td>0</td>\n",
              "      <td>0</td>\n",
              "      <td>0</td>\n",
              "      <td>0</td>\n",
              "      <td>0</td>\n",
              "      <td>0</td>\n",
              "      <td>0</td>\n",
              "    </tr>\n",
              "    <tr>\n",
              "      <th>Huawei</th>\n",
              "      <td>1</td>\n",
              "      <td>0</td>\n",
              "      <td>0</td>\n",
              "      <td>0</td>\n",
              "      <td>0</td>\n",
              "      <td>0</td>\n",
              "      <td>1</td>\n",
              "      <td>0</td>\n",
              "      <td>0</td>\n",
              "      <td>0</td>\n",
              "      <td>...</td>\n",
              "      <td>2</td>\n",
              "      <td>2</td>\n",
              "      <td>2</td>\n",
              "      <td>2</td>\n",
              "      <td>2</td>\n",
              "      <td>2</td>\n",
              "      <td>2</td>\n",
              "      <td>2</td>\n",
              "      <td>0</td>\n",
              "      <td>0</td>\n",
              "    </tr>\n",
              "    <tr>\n",
              "      <th>Xiaomi</th>\n",
              "      <td>0</td>\n",
              "      <td>0</td>\n",
              "      <td>0</td>\n",
              "      <td>0</td>\n",
              "      <td>0</td>\n",
              "      <td>1</td>\n",
              "      <td>5</td>\n",
              "      <td>0</td>\n",
              "      <td>0</td>\n",
              "      <td>0</td>\n",
              "      <td>...</td>\n",
              "      <td>0</td>\n",
              "      <td>0</td>\n",
              "      <td>0</td>\n",
              "      <td>0</td>\n",
              "      <td>0</td>\n",
              "      <td>0</td>\n",
              "      <td>0</td>\n",
              "      <td>0</td>\n",
              "      <td>0</td>\n",
              "      <td>1</td>\n",
              "    </tr>\n",
              "    <tr>\n",
              "      <th>Oppo</th>\n",
              "      <td>12</td>\n",
              "      <td>1</td>\n",
              "      <td>0</td>\n",
              "      <td>0</td>\n",
              "      <td>0</td>\n",
              "      <td>0</td>\n",
              "      <td>1</td>\n",
              "      <td>1</td>\n",
              "      <td>0</td>\n",
              "      <td>0</td>\n",
              "      <td>...</td>\n",
              "      <td>0</td>\n",
              "      <td>0</td>\n",
              "      <td>0</td>\n",
              "      <td>0</td>\n",
              "      <td>0</td>\n",
              "      <td>0</td>\n",
              "      <td>0</td>\n",
              "      <td>0</td>\n",
              "      <td>1</td>\n",
              "      <td>0</td>\n",
              "    </tr>\n",
              "  </tbody>\n",
              "</table>\n",
              "<p>5 rows × 26802 columns</p>\n",
              "</div>\n",
              "      <button class=\"colab-df-convert\" onclick=\"convertToInteractive('df-67d8c5d8-3bbe-4510-8656-7c63571c5756')\"\n",
              "              title=\"Convert this dataframe to an interactive table.\"\n",
              "              style=\"display:none;\">\n",
              "        \n",
              "  <svg xmlns=\"http://www.w3.org/2000/svg\" height=\"24px\"viewBox=\"0 0 24 24\"\n",
              "       width=\"24px\">\n",
              "    <path d=\"M0 0h24v24H0V0z\" fill=\"none\"/>\n",
              "    <path d=\"M18.56 5.44l.94 2.06.94-2.06 2.06-.94-2.06-.94-.94-2.06-.94 2.06-2.06.94zm-11 1L8.5 8.5l.94-2.06 2.06-.94-2.06-.94L8.5 2.5l-.94 2.06-2.06.94zm10 10l.94 2.06.94-2.06 2.06-.94-2.06-.94-.94-2.06-.94 2.06-2.06.94z\"/><path d=\"M17.41 7.96l-1.37-1.37c-.4-.4-.92-.59-1.43-.59-.52 0-1.04.2-1.43.59L10.3 9.45l-7.72 7.72c-.78.78-.78 2.05 0 2.83L4 21.41c.39.39.9.59 1.41.59.51 0 1.02-.2 1.41-.59l7.78-7.78 2.81-2.81c.8-.78.8-2.07 0-2.86zM5.41 20L4 18.59l7.72-7.72 1.47 1.35L5.41 20z\"/>\n",
              "  </svg>\n",
              "      </button>\n",
              "      \n",
              "  <style>\n",
              "    .colab-df-container {\n",
              "      display:flex;\n",
              "      flex-wrap:wrap;\n",
              "      gap: 12px;\n",
              "    }\n",
              "\n",
              "    .colab-df-convert {\n",
              "      background-color: #E8F0FE;\n",
              "      border: none;\n",
              "      border-radius: 50%;\n",
              "      cursor: pointer;\n",
              "      display: none;\n",
              "      fill: #1967D2;\n",
              "      height: 32px;\n",
              "      padding: 0 0 0 0;\n",
              "      width: 32px;\n",
              "    }\n",
              "\n",
              "    .colab-df-convert:hover {\n",
              "      background-color: #E2EBFA;\n",
              "      box-shadow: 0px 1px 2px rgba(60, 64, 67, 0.3), 0px 1px 3px 1px rgba(60, 64, 67, 0.15);\n",
              "      fill: #174EA6;\n",
              "    }\n",
              "\n",
              "    [theme=dark] .colab-df-convert {\n",
              "      background-color: #3B4455;\n",
              "      fill: #D2E3FC;\n",
              "    }\n",
              "\n",
              "    [theme=dark] .colab-df-convert:hover {\n",
              "      background-color: #434B5C;\n",
              "      box-shadow: 0px 1px 3px 1px rgba(0, 0, 0, 0.15);\n",
              "      filter: drop-shadow(0px 1px 2px rgba(0, 0, 0, 0.3));\n",
              "      fill: #FFFFFF;\n",
              "    }\n",
              "  </style>\n",
              "\n",
              "      <script>\n",
              "        const buttonEl =\n",
              "          document.querySelector('#df-67d8c5d8-3bbe-4510-8656-7c63571c5756 button.colab-df-convert');\n",
              "        buttonEl.style.display =\n",
              "          google.colab.kernel.accessAllowed ? 'block' : 'none';\n",
              "\n",
              "        async function convertToInteractive(key) {\n",
              "          const element = document.querySelector('#df-67d8c5d8-3bbe-4510-8656-7c63571c5756');\n",
              "          const dataTable =\n",
              "            await google.colab.kernel.invokeFunction('convertToInteractive',\n",
              "                                                     [key], {});\n",
              "          if (!dataTable) return;\n",
              "\n",
              "          const docLinkHtml = 'Like what you see? Visit the ' +\n",
              "            '<a target=\"_blank\" href=https://colab.research.google.com/notebooks/data_table.ipynb>data table notebook</a>'\n",
              "            + ' to learn more about interactive tables.';\n",
              "          element.innerHTML = '';\n",
              "          dataTable['output_type'] = 'display_data';\n",
              "          await google.colab.output.renderOutput(dataTable, element);\n",
              "          const docLink = document.createElement('div');\n",
              "          docLink.innerHTML = docLinkHtml;\n",
              "          element.appendChild(docLink);\n",
              "        }\n",
              "      </script>\n",
              "    </div>\n",
              "  </div>\n",
              "  "
            ]
          },
          "metadata": {},
          "execution_count": 59
        }
      ]
    },
    {
      "cell_type": "markdown",
      "source": [
        "### Read in the document-term matrix"
      ],
      "metadata": {
        "id": "SGpRUiexv_IW"
      }
    },
    {
      "cell_type": "code",
      "source": [
        "# Read in the document-term matrix\n",
        "no_stop_words_string_CV = no_stop_words_string_CV.transpose()\n",
        "no_stop_words_string_CV.head()"
      ],
      "metadata": {
        "id": "-jkKfbCoVN6k",
        "colab": {
          "base_uri": "https://localhost:8080/",
          "height": 206
        },
        "outputId": "a486689e-bca0-4aaf-f545-0f8928c18cd3"
      },
      "execution_count": 60,
      "outputs": [
        {
          "output_type": "execute_result",
          "data": {
            "text/plain": [
              "smartphone                               iPhone  Samsung  Huawei  Xiaomi  Oppo\n",
              "aa                                            0        0       1       0    12\n",
              "aaa                                           1        8       0       0     1\n",
              "aaaa                                          0        2       0       0     0\n",
              "aaaaaaaaaaaaahhhhhhhhhhhhhhhhhhhhhhhhhh       1        0       0       0     0\n",
              "aaaand                                        0        1       0       0     0"
            ],
            "text/html": [
              "\n",
              "  <div id=\"df-b7526a57-146f-4231-8cab-b1ec1a2f4f20\">\n",
              "    <div class=\"colab-df-container\">\n",
              "      <div>\n",
              "<style scoped>\n",
              "    .dataframe tbody tr th:only-of-type {\n",
              "        vertical-align: middle;\n",
              "    }\n",
              "\n",
              "    .dataframe tbody tr th {\n",
              "        vertical-align: top;\n",
              "    }\n",
              "\n",
              "    .dataframe thead th {\n",
              "        text-align: right;\n",
              "    }\n",
              "</style>\n",
              "<table border=\"1\" class=\"dataframe\">\n",
              "  <thead>\n",
              "    <tr style=\"text-align: right;\">\n",
              "      <th>smartphone</th>\n",
              "      <th>iPhone</th>\n",
              "      <th>Samsung</th>\n",
              "      <th>Huawei</th>\n",
              "      <th>Xiaomi</th>\n",
              "      <th>Oppo</th>\n",
              "    </tr>\n",
              "  </thead>\n",
              "  <tbody>\n",
              "    <tr>\n",
              "      <th>aa</th>\n",
              "      <td>0</td>\n",
              "      <td>0</td>\n",
              "      <td>1</td>\n",
              "      <td>0</td>\n",
              "      <td>12</td>\n",
              "    </tr>\n",
              "    <tr>\n",
              "      <th>aaa</th>\n",
              "      <td>1</td>\n",
              "      <td>8</td>\n",
              "      <td>0</td>\n",
              "      <td>0</td>\n",
              "      <td>1</td>\n",
              "    </tr>\n",
              "    <tr>\n",
              "      <th>aaaa</th>\n",
              "      <td>0</td>\n",
              "      <td>2</td>\n",
              "      <td>0</td>\n",
              "      <td>0</td>\n",
              "      <td>0</td>\n",
              "    </tr>\n",
              "    <tr>\n",
              "      <th>aaaaaaaaaaaaahhhhhhhhhhhhhhhhhhhhhhhhhh</th>\n",
              "      <td>1</td>\n",
              "      <td>0</td>\n",
              "      <td>0</td>\n",
              "      <td>0</td>\n",
              "      <td>0</td>\n",
              "    </tr>\n",
              "    <tr>\n",
              "      <th>aaaand</th>\n",
              "      <td>0</td>\n",
              "      <td>1</td>\n",
              "      <td>0</td>\n",
              "      <td>0</td>\n",
              "      <td>0</td>\n",
              "    </tr>\n",
              "  </tbody>\n",
              "</table>\n",
              "</div>\n",
              "      <button class=\"colab-df-convert\" onclick=\"convertToInteractive('df-b7526a57-146f-4231-8cab-b1ec1a2f4f20')\"\n",
              "              title=\"Convert this dataframe to an interactive table.\"\n",
              "              style=\"display:none;\">\n",
              "        \n",
              "  <svg xmlns=\"http://www.w3.org/2000/svg\" height=\"24px\"viewBox=\"0 0 24 24\"\n",
              "       width=\"24px\">\n",
              "    <path d=\"M0 0h24v24H0V0z\" fill=\"none\"/>\n",
              "    <path d=\"M18.56 5.44l.94 2.06.94-2.06 2.06-.94-2.06-.94-.94-2.06-.94 2.06-2.06.94zm-11 1L8.5 8.5l.94-2.06 2.06-.94-2.06-.94L8.5 2.5l-.94 2.06-2.06.94zm10 10l.94 2.06.94-2.06 2.06-.94-2.06-.94-.94-2.06-.94 2.06-2.06.94z\"/><path d=\"M17.41 7.96l-1.37-1.37c-.4-.4-.92-.59-1.43-.59-.52 0-1.04.2-1.43.59L10.3 9.45l-7.72 7.72c-.78.78-.78 2.05 0 2.83L4 21.41c.39.39.9.59 1.41.59.51 0 1.02-.2 1.41-.59l7.78-7.78 2.81-2.81c.8-.78.8-2.07 0-2.86zM5.41 20L4 18.59l7.72-7.72 1.47 1.35L5.41 20z\"/>\n",
              "  </svg>\n",
              "      </button>\n",
              "      \n",
              "  <style>\n",
              "    .colab-df-container {\n",
              "      display:flex;\n",
              "      flex-wrap:wrap;\n",
              "      gap: 12px;\n",
              "    }\n",
              "\n",
              "    .colab-df-convert {\n",
              "      background-color: #E8F0FE;\n",
              "      border: none;\n",
              "      border-radius: 50%;\n",
              "      cursor: pointer;\n",
              "      display: none;\n",
              "      fill: #1967D2;\n",
              "      height: 32px;\n",
              "      padding: 0 0 0 0;\n",
              "      width: 32px;\n",
              "    }\n",
              "\n",
              "    .colab-df-convert:hover {\n",
              "      background-color: #E2EBFA;\n",
              "      box-shadow: 0px 1px 2px rgba(60, 64, 67, 0.3), 0px 1px 3px 1px rgba(60, 64, 67, 0.15);\n",
              "      fill: #174EA6;\n",
              "    }\n",
              "\n",
              "    [theme=dark] .colab-df-convert {\n",
              "      background-color: #3B4455;\n",
              "      fill: #D2E3FC;\n",
              "    }\n",
              "\n",
              "    [theme=dark] .colab-df-convert:hover {\n",
              "      background-color: #434B5C;\n",
              "      box-shadow: 0px 1px 3px 1px rgba(0, 0, 0, 0.15);\n",
              "      filter: drop-shadow(0px 1px 2px rgba(0, 0, 0, 0.3));\n",
              "      fill: #FFFFFF;\n",
              "    }\n",
              "  </style>\n",
              "\n",
              "      <script>\n",
              "        const buttonEl =\n",
              "          document.querySelector('#df-b7526a57-146f-4231-8cab-b1ec1a2f4f20 button.colab-df-convert');\n",
              "        buttonEl.style.display =\n",
              "          google.colab.kernel.accessAllowed ? 'block' : 'none';\n",
              "\n",
              "        async function convertToInteractive(key) {\n",
              "          const element = document.querySelector('#df-b7526a57-146f-4231-8cab-b1ec1a2f4f20');\n",
              "          const dataTable =\n",
              "            await google.colab.kernel.invokeFunction('convertToInteractive',\n",
              "                                                     [key], {});\n",
              "          if (!dataTable) return;\n",
              "\n",
              "          const docLinkHtml = 'Like what you see? Visit the ' +\n",
              "            '<a target=\"_blank\" href=https://colab.research.google.com/notebooks/data_table.ipynb>data table notebook</a>'\n",
              "            + ' to learn more about interactive tables.';\n",
              "          element.innerHTML = '';\n",
              "          dataTable['output_type'] = 'display_data';\n",
              "          await google.colab.output.renderOutput(dataTable, element);\n",
              "          const docLink = document.createElement('div');\n",
              "          docLink.innerHTML = docLinkHtml;\n",
              "          element.appendChild(docLink);\n",
              "        }\n",
              "      </script>\n",
              "    </div>\n",
              "  </div>\n",
              "  "
            ]
          },
          "metadata": {},
          "execution_count": 60
        }
      ]
    },
    {
      "cell_type": "markdown",
      "source": [
        "### Finding the Top 30 words from each data frame"
      ],
      "metadata": {
        "id": "V6yJVRgvwE2U"
      }
    },
    {
      "cell_type": "code",
      "source": [
        "# Find the top 30 words used\n",
        "top_dict = {}\n",
        "for c in no_stop_words_string_CV.columns:\n",
        "    top = no_stop_words_string_CV[c].sort_values(ascending=False).head(30)\n",
        "    top_dict[c]= list(zip(top.index, top.values))\n",
        "\n",
        "top_dict"
      ],
      "metadata": {
        "id": "qn-h9KyHYmLP",
        "colab": {
          "base_uri": "https://localhost:8080/"
        },
        "outputId": "82c9a942-4b32-4a63-c3b0-172b771f2055"
      },
      "execution_count": 61,
      "outputs": [
        {
          "output_type": "execute_result",
          "data": {
            "text/plain": [
              "{'iPhone': [('iphone', 9269),\n",
              "  ('follow', 6958),\n",
              "  ('day', 4411),\n",
              "  ('winner', 3062),\n",
              "  ('plu', 2072),\n",
              "  ('rupiah', 1868),\n",
              "  ('pro', 1819),\n",
              "  ('hour', 1807),\n",
              "  ('end', 1586),\n",
              "  ('giveaway', 614),\n",
              "  ('retweet', 588),\n",
              "  ('tag', 580),\n",
              "  ('idriphone', 579),\n",
              "  ('proof', 489),\n",
              "  ('stand', 477),\n",
              "  ('win', 465),\n",
              "  ('question', 450),\n",
              "  ('chance', 437),\n",
              "  ('eye', 436),\n",
              "  ('answer', 430),\n",
              "  ('comment', 429),\n",
              "  ('daili', 412),\n",
              "  ('correctli', 408),\n",
              "  ('post', 396),\n",
              "  ('like', 295),\n",
              "  ('time', 282),\n",
              "  ('long', 272),\n",
              "  ('stamp', 239),\n",
              "  ('ukrainian', 233),\n",
              "  ('just', 218)],\n",
              " 'Samsung': [('phone', 8576),\n",
              "  ('samsung', 6882),\n",
              "  ('galaxi', 2200),\n",
              "  ('new', 2119),\n",
              "  ('use', 1235),\n",
              "  ('mobile', 1062),\n",
              "  ('iphone', 925),\n",
              "  ('case', 890),\n",
              "  ('world', 656),\n",
              "  ('number', 625),\n",
              "  ('buy', 592),\n",
              "  ('unfold', 585),\n",
              "  ('hesintoherseason', 583),\n",
              "  ('kilig', 557),\n",
              "  ('android', 545),\n",
              "  ('chapter', 540),\n",
              "  ('good', 515),\n",
              "  ('like', 498),\n",
              "  ('ultra', 465),\n",
              "  ('im', 462),\n",
              "  ('just', 458),\n",
              "  ('screen', 415),\n",
              "  ('need', 407),\n",
              "  ('know', 379),\n",
              "  ('dont', 375),\n",
              "  ('brand', 372),\n",
              "  ('camera', 336),\n",
              "  ('apple', 325),\n",
              "  ('say', 322),\n",
              "  ('day', 306)],\n",
              " 'Huawei': [('huawei', 7462),\n",
              "  ('russia', 1542),\n",
              "  ('app', 1129),\n",
              "  ('store', 1045),\n",
              "  ('compani', 867),\n",
              "  ('new', 788),\n",
              "  ('chinese', 787),\n",
              "  ('nova', 735),\n",
              "  ('support', 640),\n",
              "  ('online', 590),\n",
              "  ('china', 576),\n",
              "  ('phone', 523),\n",
              "  ('zea', 520),\n",
              "  ('giveaway', 511),\n",
              "  ('drop', 507),\n",
              "  ('airtime', 501),\n",
              "  ('offer', 492),\n",
              "  ('bank', 484),\n",
              "  ('wedomorewednesday', 480),\n",
              "  ('use', 474),\n",
              "  ('item', 472),\n",
              "  ('fundus', 458),\n",
              "  ('sanction', 448),\n",
              "  ('win', 434),\n",
              "  ('mir', 430),\n",
              "  ('ericsson', 424),\n",
              "  ('payment', 419),\n",
              "  ('world', 402),\n",
              "  ('mtn', 395),\n",
              "  ('ban', 393)],\n",
              " 'Xiaomi': [('xiaomi', 7919),\n",
              "  ('pro', 1596),\n",
              "  ('redmi', 1545),\n",
              "  ('phone', 1225),\n",
              "  ('mi', 1120),\n",
              "  ('note', 1113),\n",
              "  ('india', 927),\n",
              "  ('launch', 897),\n",
              "  ('summon', 799),\n",
              "  ('just', 778),\n",
              "  ('clickgtgt', 763),\n",
              "  ('make', 727),\n",
              "  ('jain', 672),\n",
              "  ('manu', 662),\n",
              "  ('ed', 660),\n",
              "  ('friend', 651),\n",
              "  ('furri', 632),\n",
              "  ('catch', 614),\n",
              "  ('solut', 604),\n",
              "  ('new', 589),\n",
              "  ('mess', 589),\n",
              "  ('absence', 588),\n",
              "  ('kumar', 586),\n",
              "  ('samsung', 555),\n",
              "  ('miui', 497),\n",
              "  ('april', 448),\n",
              "  ('available', 446),\n",
              "  ('smartphone', 436),\n",
              "  ('gb', 435),\n",
              "  ('use', 423)],\n",
              " 'Oppo': [('oppo', 8435),\n",
              "  ('midnight', 2838),\n",
              "  ('black', 2774),\n",
              "  ('ae', 2752),\n",
              "  ('oppoaeoppoaeoppoaeoppoae', 1300),\n",
              "  ('wish', 1233),\n",
              "  ('luck', 1209),\n",
              "  ('oppoae', 1130),\n",
              "  ('di', 1128),\n",
              "  ('bismilah', 1116),\n",
              "  ('hadiah', 1116),\n",
              "  ('bulan', 1116),\n",
              "  ('ramadhan', 1116),\n",
              "  ('pro', 628),\n",
              "  ('olsonforthea', 527),\n",
              "  ('best', 501),\n",
              "  ('reno', 412),\n",
              "  ('phone', 412),\n",
              "  ('game', 342),\n",
              "  ('footbal', 317),\n",
              "  ('sunday', 309),\n",
              "  ('silki', 307),\n",
              "  ('emiratesfacup', 307),\n",
              "  ('chel', 307),\n",
              "  ('goe', 304),\n",
              "  ('oneplu', 279),\n",
              "  ('just', 259),\n",
              "  ('people', 253),\n",
              "  ('team', 249),\n",
              "  ('offici', 248)]}"
            ]
          },
          "metadata": {},
          "execution_count": 61
        }
      ]
    },
    {
      "cell_type": "markdown",
      "source": [
        "### Print the top 15 words mentioned in the Tweets"
      ],
      "metadata": {
        "id": "dybtgNq9wRRW"
      }
    },
    {
      "cell_type": "code",
      "source": [
        "for phone, top_words in top_dict.items():\n",
        "    print(phone)\n",
        "    print(', '.join([word for word, count in top_words[0:14]]))\n",
        "    print('---')"
      ],
      "metadata": {
        "id": "gqh-xr4GogCg",
        "colab": {
          "base_uri": "https://localhost:8080/"
        },
        "outputId": "7852b1aa-f3d2-41d2-d770-0170e5518973"
      },
      "execution_count": 62,
      "outputs": [
        {
          "output_type": "stream",
          "name": "stdout",
          "text": [
            "iPhone\n",
            "iphone, follow, day, winner, plu, rupiah, pro, hour, end, giveaway, retweet, tag, idriphone, proof\n",
            "---\n",
            "Samsung\n",
            "phone, samsung, galaxi, new, use, mobile, iphone, case, world, number, buy, unfold, hesintoherseason, kilig\n",
            "---\n",
            "Huawei\n",
            "huawei, russia, app, store, compani, new, chinese, nova, support, online, china, phone, zea, giveaway\n",
            "---\n",
            "Xiaomi\n",
            "xiaomi, pro, redmi, phone, mi, note, india, launch, summon, just, clickgtgt, make, jain, manu\n",
            "---\n",
            "Oppo\n",
            "oppo, midnight, black, ae, oppoaeoppoaeoppoaeoppoae, wish, luck, oppoae, di, bismilah, hadiah, bulan, ramadhan, pro\n",
            "---\n"
          ]
        }
      ]
    },
    {
      "cell_type": "markdown",
      "source": [
        "#### Look at the most common top words --> add them to the stop word list"
      ],
      "metadata": {
        "id": "2deqSDoywZbS"
      }
    },
    {
      "cell_type": "code",
      "source": [
        "from collections import Counter\n",
        "\n",
        "# Let's first pull out the top 30 words for each company\n",
        "words = []\n",
        "for phone in no_stop_words_string_CV.columns:\n",
        "    top = [word for (word, count) in top_dict[phone]]\n",
        "    for t in top:\n",
        "        words.append(t)\n",
        "        \n",
        "words"
      ],
      "metadata": {
        "id": "jk8Z2seforLE",
        "colab": {
          "base_uri": "https://localhost:8080/"
        },
        "outputId": "6635c5b3-8864-4008-e7bd-f86fb8b7a602"
      },
      "execution_count": 63,
      "outputs": [
        {
          "output_type": "execute_result",
          "data": {
            "text/plain": [
              "['iphone',\n",
              " 'follow',\n",
              " 'day',\n",
              " 'winner',\n",
              " 'plu',\n",
              " 'rupiah',\n",
              " 'pro',\n",
              " 'hour',\n",
              " 'end',\n",
              " 'giveaway',\n",
              " 'retweet',\n",
              " 'tag',\n",
              " 'idriphone',\n",
              " 'proof',\n",
              " 'stand',\n",
              " 'win',\n",
              " 'question',\n",
              " 'chance',\n",
              " 'eye',\n",
              " 'answer',\n",
              " 'comment',\n",
              " 'daili',\n",
              " 'correctli',\n",
              " 'post',\n",
              " 'like',\n",
              " 'time',\n",
              " 'long',\n",
              " 'stamp',\n",
              " 'ukrainian',\n",
              " 'just',\n",
              " 'phone',\n",
              " 'samsung',\n",
              " 'galaxi',\n",
              " 'new',\n",
              " 'use',\n",
              " 'mobile',\n",
              " 'iphone',\n",
              " 'case',\n",
              " 'world',\n",
              " 'number',\n",
              " 'buy',\n",
              " 'unfold',\n",
              " 'hesintoherseason',\n",
              " 'kilig',\n",
              " 'android',\n",
              " 'chapter',\n",
              " 'good',\n",
              " 'like',\n",
              " 'ultra',\n",
              " 'im',\n",
              " 'just',\n",
              " 'screen',\n",
              " 'need',\n",
              " 'know',\n",
              " 'dont',\n",
              " 'brand',\n",
              " 'camera',\n",
              " 'apple',\n",
              " 'say',\n",
              " 'day',\n",
              " 'huawei',\n",
              " 'russia',\n",
              " 'app',\n",
              " 'store',\n",
              " 'compani',\n",
              " 'new',\n",
              " 'chinese',\n",
              " 'nova',\n",
              " 'support',\n",
              " 'online',\n",
              " 'china',\n",
              " 'phone',\n",
              " 'zea',\n",
              " 'giveaway',\n",
              " 'drop',\n",
              " 'airtime',\n",
              " 'offer',\n",
              " 'bank',\n",
              " 'wedomorewednesday',\n",
              " 'use',\n",
              " 'item',\n",
              " 'fundus',\n",
              " 'sanction',\n",
              " 'win',\n",
              " 'mir',\n",
              " 'ericsson',\n",
              " 'payment',\n",
              " 'world',\n",
              " 'mtn',\n",
              " 'ban',\n",
              " 'xiaomi',\n",
              " 'pro',\n",
              " 'redmi',\n",
              " 'phone',\n",
              " 'mi',\n",
              " 'note',\n",
              " 'india',\n",
              " 'launch',\n",
              " 'summon',\n",
              " 'just',\n",
              " 'clickgtgt',\n",
              " 'make',\n",
              " 'jain',\n",
              " 'manu',\n",
              " 'ed',\n",
              " 'friend',\n",
              " 'furri',\n",
              " 'catch',\n",
              " 'solut',\n",
              " 'new',\n",
              " 'mess',\n",
              " 'absence',\n",
              " 'kumar',\n",
              " 'samsung',\n",
              " 'miui',\n",
              " 'april',\n",
              " 'available',\n",
              " 'smartphone',\n",
              " 'gb',\n",
              " 'use',\n",
              " 'oppo',\n",
              " 'midnight',\n",
              " 'black',\n",
              " 'ae',\n",
              " 'oppoaeoppoaeoppoaeoppoae',\n",
              " 'wish',\n",
              " 'luck',\n",
              " 'oppoae',\n",
              " 'di',\n",
              " 'bismilah',\n",
              " 'hadiah',\n",
              " 'bulan',\n",
              " 'ramadhan',\n",
              " 'pro',\n",
              " 'olsonforthea',\n",
              " 'best',\n",
              " 'reno',\n",
              " 'phone',\n",
              " 'game',\n",
              " 'footbal',\n",
              " 'sunday',\n",
              " 'silki',\n",
              " 'emiratesfacup',\n",
              " 'chel',\n",
              " 'goe',\n",
              " 'oneplu',\n",
              " 'just',\n",
              " 'people',\n",
              " 'team',\n",
              " 'offici']"
            ]
          },
          "metadata": {},
          "execution_count": 63
        }
      ]
    },
    {
      "cell_type": "code",
      "source": [
        "# Let's aggregate this list and identify the most common words along with how many routines they occur in\n",
        "Counter(words).most_common()"
      ],
      "metadata": {
        "id": "bfgRodWvo9YC",
        "colab": {
          "base_uri": "https://localhost:8080/"
        },
        "outputId": "65200e32-43e6-4201-bc37-1b9d03f78802"
      },
      "execution_count": 64,
      "outputs": [
        {
          "output_type": "execute_result",
          "data": {
            "text/plain": [
              "[('just', 4),\n",
              " ('phone', 4),\n",
              " ('pro', 3),\n",
              " ('new', 3),\n",
              " ('use', 3),\n",
              " ('iphone', 2),\n",
              " ('day', 2),\n",
              " ('giveaway', 2),\n",
              " ('win', 2),\n",
              " ('like', 2),\n",
              " ('samsung', 2),\n",
              " ('world', 2),\n",
              " ('follow', 1),\n",
              " ('winner', 1),\n",
              " ('plu', 1),\n",
              " ('rupiah', 1),\n",
              " ('hour', 1),\n",
              " ('end', 1),\n",
              " ('retweet', 1),\n",
              " ('tag', 1),\n",
              " ('idriphone', 1),\n",
              " ('proof', 1),\n",
              " ('stand', 1),\n",
              " ('question', 1),\n",
              " ('chance', 1),\n",
              " ('eye', 1),\n",
              " ('answer', 1),\n",
              " ('comment', 1),\n",
              " ('daili', 1),\n",
              " ('correctli', 1),\n",
              " ('post', 1),\n",
              " ('time', 1),\n",
              " ('long', 1),\n",
              " ('stamp', 1),\n",
              " ('ukrainian', 1),\n",
              " ('galaxi', 1),\n",
              " ('mobile', 1),\n",
              " ('case', 1),\n",
              " ('number', 1),\n",
              " ('buy', 1),\n",
              " ('unfold', 1),\n",
              " ('hesintoherseason', 1),\n",
              " ('kilig', 1),\n",
              " ('android', 1),\n",
              " ('chapter', 1),\n",
              " ('good', 1),\n",
              " ('ultra', 1),\n",
              " ('im', 1),\n",
              " ('screen', 1),\n",
              " ('need', 1),\n",
              " ('know', 1),\n",
              " ('dont', 1),\n",
              " ('brand', 1),\n",
              " ('camera', 1),\n",
              " ('apple', 1),\n",
              " ('say', 1),\n",
              " ('huawei', 1),\n",
              " ('russia', 1),\n",
              " ('app', 1),\n",
              " ('store', 1),\n",
              " ('compani', 1),\n",
              " ('chinese', 1),\n",
              " ('nova', 1),\n",
              " ('support', 1),\n",
              " ('online', 1),\n",
              " ('china', 1),\n",
              " ('zea', 1),\n",
              " ('drop', 1),\n",
              " ('airtime', 1),\n",
              " ('offer', 1),\n",
              " ('bank', 1),\n",
              " ('wedomorewednesday', 1),\n",
              " ('item', 1),\n",
              " ('fundus', 1),\n",
              " ('sanction', 1),\n",
              " ('mir', 1),\n",
              " ('ericsson', 1),\n",
              " ('payment', 1),\n",
              " ('mtn', 1),\n",
              " ('ban', 1),\n",
              " ('xiaomi', 1),\n",
              " ('redmi', 1),\n",
              " ('mi', 1),\n",
              " ('note', 1),\n",
              " ('india', 1),\n",
              " ('launch', 1),\n",
              " ('summon', 1),\n",
              " ('clickgtgt', 1),\n",
              " ('make', 1),\n",
              " ('jain', 1),\n",
              " ('manu', 1),\n",
              " ('ed', 1),\n",
              " ('friend', 1),\n",
              " ('furri', 1),\n",
              " ('catch', 1),\n",
              " ('solut', 1),\n",
              " ('mess', 1),\n",
              " ('absence', 1),\n",
              " ('kumar', 1),\n",
              " ('miui', 1),\n",
              " ('april', 1),\n",
              " ('available', 1),\n",
              " ('smartphone', 1),\n",
              " ('gb', 1),\n",
              " ('oppo', 1),\n",
              " ('midnight', 1),\n",
              " ('black', 1),\n",
              " ('ae', 1),\n",
              " ('oppoaeoppoaeoppoaeoppoae', 1),\n",
              " ('wish', 1),\n",
              " ('luck', 1),\n",
              " ('oppoae', 1),\n",
              " ('di', 1),\n",
              " ('bismilah', 1),\n",
              " ('hadiah', 1),\n",
              " ('bulan', 1),\n",
              " ('ramadhan', 1),\n",
              " ('olsonforthea', 1),\n",
              " ('best', 1),\n",
              " ('reno', 1),\n",
              " ('game', 1),\n",
              " ('footbal', 1),\n",
              " ('sunday', 1),\n",
              " ('silki', 1),\n",
              " ('emiratesfacup', 1),\n",
              " ('chel', 1),\n",
              " ('goe', 1),\n",
              " ('oneplu', 1),\n",
              " ('people', 1),\n",
              " ('team', 1),\n",
              " ('offici', 1)]"
            ]
          },
          "metadata": {},
          "execution_count": 64
        }
      ]
    },
    {
      "cell_type": "markdown",
      "source": [
        "NOTE: At this point, we could go on and create word clouds. However, by looking at these top words, you can see that some of them have very little meaning and could be added to a stop words list, so let's do just that."
      ],
      "metadata": {
        "id": "GDT_7qxfbMF_"
      }
    },
    {
      "cell_type": "markdown",
      "source": [
        "### Lets visualize the most common top words for each manufacturer using WorldCloud"
      ],
      "metadata": {
        "id": "Z8ryISTBwjM0"
      }
    },
    {
      "cell_type": "code",
      "source": [
        "# Let's make some word clouds!\n",
        "from wordcloud import WordCloud\n",
        "\n",
        "wc = WordCloud(stopwords=no_stop_words_string_CV, background_color=\"white\", colormap=\"Dark2\",\n",
        "               max_font_size=150, random_state=42)"
      ],
      "metadata": {
        "id": "V91OnlHKdt2Y"
      },
      "execution_count": 65,
      "outputs": []
    },
    {
      "cell_type": "code",
      "source": [
        "plt.rcParams['figure.figsize'] = [24, 10]\n",
        "\n",
        "full_names = ['iPhone', 'Samsung','Huawei','Xiaomi','Oppo']\n",
        "\n",
        "# Create subplots for each company\n",
        "for index, phones in enumerate(no_stop_words_string_CV.columns):\n",
        "    wc.generate(no_stop_words_string_final.tweets_clean[index])\n",
        "    \n",
        "    plt.subplot(3, 4, index+1)\n",
        "    plt.imshow(wc, interpolation=\"bilinear\")\n",
        "    plt.axis(\"off\")\n",
        "    plt.title(full_names[index])\n",
        "    \n",
        "plt.show()"
      ],
      "metadata": {
        "id": "qmHiIw4nfAAu",
        "colab": {
          "base_uri": "https://localhost:8080/",
          "height": 319
        },
        "outputId": "e923525d-e3e7-44f5-b991-036d43a6544f"
      },
      "execution_count": 66,
      "outputs": [
        {
          "output_type": "display_data",
          "data": {
            "text/plain": [
              "<Figure size 1728x720 with 5 Axes>"
            ],
            "image/png": "[encoded data removed]"
          },
          "metadata": {
            "needs_background": "light"
          }
        }
      ]
    },
    {
      "cell_type": "markdown",
      "source": [
        "\n",
        "*   For iPhone, the top words are **follow, day, winner,List item**.\n",
        "*   or Samsung, the top words are **phone, galaxi, new**.\n",
        "*   For huawei, the top words are russia, app, store.\n",
        "*   For xiaomi, the top words are pro, redmi, phone.\n",
        "*   For oppo, the top words are midnight, black, wish.\n",
        "\n"
      ],
      "metadata": {
        "id": "RAKAKlbiw-Mx"
      }
    },
    {
      "cell_type": "markdown",
      "source": [
        "## polarity and subjectivity analysis."
      ],
      "metadata": {
        "id": "cIjTwBxeysGk"
      }
    },
    {
      "cell_type": "code",
      "source": [
        "# Create quick lambda functions to find the polarity and subjectivity.\n",
        "\n",
        "from textblob import TextBlob\n",
        "\n",
        "pol = lambda x: TextBlob(x).sentiment.polarity\n",
        "sub = lambda x: TextBlob(x).sentiment.subjectivity\n",
        "\n",
        "no_stop_words_string_final['polarity'] = no_stop_words_string_final['tweets_clean'].apply(pol)\n",
        "no_stop_words_string_final['subjectivity'] = no_stop_words_string_final['tweets_clean'].apply(sub)\n",
        "no_stop_words_string_final.head()\n"
      ],
      "metadata": {
        "id": "VSELHh_VlhWi",
        "colab": {
          "base_uri": "https://localhost:8080/",
          "height": 250
        },
        "outputId": "7ddfb932-37b4-4f1c-d76f-82531d186824"
      },
      "execution_count": 67,
      "outputs": [
        {
          "output_type": "execute_result",
          "data": {
            "text/plain": [
              "  smartphone  \\\n",
              "0     iPhone   \n",
              "1    Samsung   \n",
              "2     Huawei   \n",
              "3     Xiaomi   \n",
              "4       Oppo   \n",
              "\n",
              "                                                                                                                        tweets_clean  \\\n",
              "0  iphone end day • follow  rupiah iphone pro winner day follow  iphone end day • follow  iphone winner hour follow  iphone pro d...   \n",
              "1  samsung new digit id wallet store document asnat idsdriv licensescredit cardsdi  redmagicpro cureent use samsung v love play b...   \n",
              "2  citi future support digit workforce provide citizen person experi improve th  polar code basic ldpc code achieve capac slightl...   \n",
              "3  redmi sale attribut contribut factor gain shipment rank redmi xiaomi  like redmi phone everytime drôle phone si dont anymore p...   \n",
              "4  ponder mysteri oppoeasteregg  oppo taco proud kid  oppo write histor fiction she crap market bad selfpromot need th  oppo olso...   \n",
              "\n",
              "   polarity  subjectivity  \n",
              "0  0.227906      0.492711  \n",
              "1  0.196584      0.510367  \n",
              "2  0.143309      0.450411  \n",
              "3  0.142396      0.412862  \n",
              "4  0.080874      0.458664  "
            ],
            "text/html": [
              "\n",
              "  <div id=\"df-2ddfb3b2-7d17-43fa-8d31-a5eac8692bb4\">\n",
              "    <div class=\"colab-df-container\">\n",
              "      <div>\n",
              "<style scoped>\n",
              "    .dataframe tbody tr th:only-of-type {\n",
              "        vertical-align: middle;\n",
              "    }\n",
              "\n",
              "    .dataframe tbody tr th {\n",
              "        vertical-align: top;\n",
              "    }\n",
              "\n",
              "    .dataframe thead th {\n",
              "        text-align: right;\n",
              "    }\n",
              "</style>\n",
              "<table border=\"1\" class=\"dataframe\">\n",
              "  <thead>\n",
              "    <tr style=\"text-align: right;\">\n",
              "      <th></th>\n",
              "      <th>smartphone</th>\n",
              "      <th>tweets_clean</th>\n",
              "      <th>polarity</th>\n",
              "      <th>subjectivity</th>\n",
              "    </tr>\n",
              "  </thead>\n",
              "  <tbody>\n",
              "    <tr>\n",
              "      <th>0</th>\n",
              "      <td>iPhone</td>\n",
              "      <td>iphone end day • follow  rupiah iphone pro winner day follow  iphone end day • follow  iphone winner hour follow  iphone pro d...</td>\n",
              "      <td>0.227906</td>\n",
              "      <td>0.492711</td>\n",
              "    </tr>\n",
              "    <tr>\n",
              "      <th>1</th>\n",
              "      <td>Samsung</td>\n",
              "      <td>samsung new digit id wallet store document asnat idsdriv licensescredit cardsdi  redmagicpro cureent use samsung v love play b...</td>\n",
              "      <td>0.196584</td>\n",
              "      <td>0.510367</td>\n",
              "    </tr>\n",
              "    <tr>\n",
              "      <th>2</th>\n",
              "      <td>Huawei</td>\n",
              "      <td>citi future support digit workforce provide citizen person experi improve th  polar code basic ldpc code achieve capac slightl...</td>\n",
              "      <td>0.143309</td>\n",
              "      <td>0.450411</td>\n",
              "    </tr>\n",
              "    <tr>\n",
              "      <th>3</th>\n",
              "      <td>Xiaomi</td>\n",
              "      <td>redmi sale attribut contribut factor gain shipment rank redmi xiaomi  like redmi phone everytime drôle phone si dont anymore p...</td>\n",
              "      <td>0.142396</td>\n",
              "      <td>0.412862</td>\n",
              "    </tr>\n",
              "    <tr>\n",
              "      <th>4</th>\n",
              "      <td>Oppo</td>\n",
              "      <td>ponder mysteri oppoeasteregg  oppo taco proud kid  oppo write histor fiction she crap market bad selfpromot need th  oppo olso...</td>\n",
              "      <td>0.080874</td>\n",
              "      <td>0.458664</td>\n",
              "    </tr>\n",
              "  </tbody>\n",
              "</table>\n",
              "</div>\n",
              "      <button class=\"colab-df-convert\" onclick=\"convertToInteractive('df-2ddfb3b2-7d17-43fa-8d31-a5eac8692bb4')\"\n",
              "              title=\"Convert this dataframe to an interactive table.\"\n",
              "              style=\"display:none;\">\n",
              "        \n",
              "  <svg xmlns=\"http://www.w3.org/2000/svg\" height=\"24px\"viewBox=\"0 0 24 24\"\n",
              "       width=\"24px\">\n",
              "    <path d=\"M0 0h24v24H0V0z\" fill=\"none\"/>\n",
              "    <path d=\"M18.56 5.44l.94 2.06.94-2.06 2.06-.94-2.06-.94-.94-2.06-.94 2.06-2.06.94zm-11 1L8.5 8.5l.94-2.06 2.06-.94-2.06-.94L8.5 2.5l-.94 2.06-2.06.94zm10 10l.94 2.06.94-2.06 2.06-.94-2.06-.94-.94-2.06-.94 2.06-2.06.94z\"/><path d=\"M17.41 7.96l-1.37-1.37c-.4-.4-.92-.59-1.43-.59-.52 0-1.04.2-1.43.59L10.3 9.45l-7.72 7.72c-.78.78-.78 2.05 0 2.83L4 21.41c.39.39.9.59 1.41.59.51 0 1.02-.2 1.41-.59l7.78-7.78 2.81-2.81c.8-.78.8-2.07 0-2.86zM5.41 20L4 18.59l7.72-7.72 1.47 1.35L5.41 20z\"/>\n",
              "  </svg>\n",
              "      </button>\n",
              "      \n",
              "  <style>\n",
              "    .colab-df-container {\n",
              "      display:flex;\n",
              "      flex-wrap:wrap;\n",
              "      gap: 12px;\n",
              "    }\n",
              "\n",
              "    .colab-df-convert {\n",
              "      background-color: #E8F0FE;\n",
              "      border: none;\n",
              "      border-radius: 50%;\n",
              "      cursor: pointer;\n",
              "      display: none;\n",
              "      fill: #1967D2;\n",
              "      height: 32px;\n",
              "      padding: 0 0 0 0;\n",
              "      width: 32px;\n",
              "    }\n",
              "\n",
              "    .colab-df-convert:hover {\n",
              "      background-color: #E2EBFA;\n",
              "      box-shadow: 0px 1px 2px rgba(60, 64, 67, 0.3), 0px 1px 3px 1px rgba(60, 64, 67, 0.15);\n",
              "      fill: #174EA6;\n",
              "    }\n",
              "\n",
              "    [theme=dark] .colab-df-convert {\n",
              "      background-color: #3B4455;\n",
              "      fill: #D2E3FC;\n",
              "    }\n",
              "\n",
              "    [theme=dark] .colab-df-convert:hover {\n",
              "      background-color: #434B5C;\n",
              "      box-shadow: 0px 1px 3px 1px rgba(0, 0, 0, 0.15);\n",
              "      filter: drop-shadow(0px 1px 2px rgba(0, 0, 0, 0.3));\n",
              "      fill: #FFFFFF;\n",
              "    }\n",
              "  </style>\n",
              "\n",
              "      <script>\n",
              "        const buttonEl =\n",
              "          document.querySelector('#df-2ddfb3b2-7d17-43fa-8d31-a5eac8692bb4 button.colab-df-convert');\n",
              "        buttonEl.style.display =\n",
              "          google.colab.kernel.accessAllowed ? 'block' : 'none';\n",
              "\n",
              "        async function convertToInteractive(key) {\n",
              "          const element = document.querySelector('#df-2ddfb3b2-7d17-43fa-8d31-a5eac8692bb4');\n",
              "          const dataTable =\n",
              "            await google.colab.kernel.invokeFunction('convertToInteractive',\n",
              "                                                     [key], {});\n",
              "          if (!dataTable) return;\n",
              "\n",
              "          const docLinkHtml = 'Like what you see? Visit the ' +\n",
              "            '<a target=\"_blank\" href=https://colab.research.google.com/notebooks/data_table.ipynb>data table notebook</a>'\n",
              "            + ' to learn more about interactive tables.';\n",
              "          element.innerHTML = '';\n",
              "          dataTable['output_type'] = 'display_data';\n",
              "          await google.colab.output.renderOutput(dataTable, element);\n",
              "          const docLink = document.createElement('div');\n",
              "          docLink.innerHTML = docLinkHtml;\n",
              "          element.appendChild(docLink);\n",
              "        }\n",
              "      </script>\n",
              "    </div>\n",
              "  </div>\n",
              "  "
            ]
          },
          "metadata": {},
          "execution_count": 67
        }
      ]
    },
    {
      "cell_type": "code",
      "source": [
        "# Let's plot the results\n",
        "\n",
        "plt.rcParams['figure.figsize'] = [10, 8]\n",
        "\n",
        "for index, phones in enumerate(no_stop_words_string_final.index):\n",
        "    x = no_stop_words_string_final.polarity.loc[index]\n",
        "    y = no_stop_words_string_final.subjectivity.loc[index]\n",
        "    plt.scatter(x, y, color='blue')\n",
        "    plt.text(x+.001, y+.001, no_stop_words_string_final['smartphone'][index], fontsize=10)\n",
        "    plt.xlim(-.5, 1) \n",
        "    \n",
        "plt.title('Sentiment Analysis', fontsize=20)\n",
        "plt.xlabel('<-- Negative -------- Positive -->', fontsize=15)\n",
        "plt.ylabel('<-- Facts -------- Opinions -->', fontsize=15)\n",
        "\n",
        "plt.show()"
      ],
      "metadata": {
        "id": "eW3f1u2A95qZ",
        "colab": {
          "base_uri": "https://localhost:8080/",
          "height": 523
        },
        "outputId": "dc2dcbaa-602f-46c0-8dd5-f4eae9812879"
      },
      "execution_count": 68,
      "outputs": [
        {
          "output_type": "display_data",
          "data": {
            "text/plain": [
              "<Figure size 720x576 with 1 Axes>"
            ],
            "image/png": "[encoded data removed]"
          },
          "metadata": {
            "needs_background": "light"
          }
        }
      ]
    },
    {
      "cell_type": "markdown",
      "source": [
        "Samsung and Iphone tweets are opinion based where as Oppo, Huawei have neutral subjectivity, Xiaomi on the other hand is fact based.\n",
        "It is seen that Chinese manufactured phones have less positive sensitivity, whereas Samsung and Iphone have higher positive sensitivity."
      ],
      "metadata": {
        "id": "2qqSVBFBzCMv"
      }
    },
    {
      "cell_type": "markdown",
      "source": [
        "# Topic Modeling\n",
        "##Introduction\n"
      ],
      "metadata": {
        "id": "YrBKnB5axmhy"
      }
    },
    {
      "cell_type": "markdown",
      "source": [
        "Another popular text analysis technique is called topic modeling. The ultimate goal of topic modeling is to find various topics that are present in your corpus. Each document in the corpus will be made up of at least one topic, if not multiple topics.\n",
        "\n",
        "In this notebook, we will be covering the steps on how to do Latent Dirichlet Allocation (LDA), which is one of many topic modeling techniques. It was specifically designed for text data.\n",
        "\n",
        "To use a topic modeling technique, you need to provide (1) a document-term matrix and (2) the number of topics you would like the algorithm to pick up.\n",
        "\n",
        "Once the topic modeling technique is applied, your job as a human is to interpret the results and see if the mix of words in each topic make sense. If they don't make sense, you can try changing up the number of topics, the terms in the document-term matrix, model parameters, or even try a different model."
      ],
      "metadata": {
        "id": "qcYGlLcp0MIK"
      }
    },
    {
      "cell_type": "code",
      "source": [
        "# Import the necessary modules for LDA with gensim\n",
        "from gensim import matutils, models\n",
        "import scipy.sparse\n",
        "\n",
        "# import logging\n",
        "# logging.basicConfig(format='%(asctime)s : %(levelname)s : %(message)s', level=logging.INFO)"
      ],
      "metadata": {
        "id": "YnYJ7JiRMff2"
      },
      "execution_count": 69,
      "outputs": []
    },
    {
      "cell_type": "code",
      "source": [
        "no_stop_words_string_CV"
      ],
      "metadata": {
        "id": "Uqv6cCogxPDO",
        "colab": {
          "base_uri": "https://localhost:8080/",
          "height": 424
        },
        "outputId": "a02f5d09-cfdb-4668-8792-4106325b47ab"
      },
      "execution_count": 70,
      "outputs": [
        {
          "output_type": "execute_result",
          "data": {
            "text/plain": [
              "smartphone                               iPhone  Samsung  Huawei  Xiaomi  Oppo\n",
              "aa                                            0        0       1       0    12\n",
              "aaa                                           1        8       0       0     1\n",
              "aaaa                                          0        2       0       0     0\n",
              "aaaaaaaaaaaaahhhhhhhhhhhhhhhhhhhhhhhhhh       1        0       0       0     0\n",
              "aaaand                                        0        1       0       0     0\n",
              "...                                         ...      ...     ...     ...   ...\n",
              "የዋግ                                           0        0       2       0     0\n",
              "ጦርነት                                          0        0       2       0     0\n",
              "ፃግብጅ                                          0        0       2       0     0\n",
              "ᴥedit                                         0        0       0       0     1\n",
              "⁰c                                            0        0       0       1     0\n",
              "\n",
              "[26802 rows x 5 columns]"
            ],
            "text/html": [
              "\n",
              "  <div id=\"df-0aa9a658-001f-4614-8675-22deee32f327\">\n",
              "    <div class=\"colab-df-container\">\n",
              "      <div>\n",
              "<style scoped>\n",
              "    .dataframe tbody tr th:only-of-type {\n",
              "        vertical-align: middle;\n",
              "    }\n",
              "\n",
              "    .dataframe tbody tr th {\n",
              "        vertical-align: top;\n",
              "    }\n",
              "\n",
              "    .dataframe thead th {\n",
              "        text-align: right;\n",
              "    }\n",
              "</style>\n",
              "<table border=\"1\" class=\"dataframe\">\n",
              "  <thead>\n",
              "    <tr style=\"text-align: right;\">\n",
              "      <th>smartphone</th>\n",
              "      <th>iPhone</th>\n",
              "      <th>Samsung</th>\n",
              "      <th>Huawei</th>\n",
              "      <th>Xiaomi</th>\n",
              "      <th>Oppo</th>\n",
              "    </tr>\n",
              "  </thead>\n",
              "  <tbody>\n",
              "    <tr>\n",
              "      <th>aa</th>\n",
              "      <td>0</td>\n",
              "      <td>0</td>\n",
              "      <td>1</td>\n",
              "      <td>0</td>\n",
              "      <td>12</td>\n",
              "    </tr>\n",
              "    <tr>\n",
              "      <th>aaa</th>\n",
              "      <td>1</td>\n",
              "      <td>8</td>\n",
              "      <td>0</td>\n",
              "      <td>0</td>\n",
              "      <td>1</td>\n",
              "    </tr>\n",
              "    <tr>\n",
              "      <th>aaaa</th>\n",
              "      <td>0</td>\n",
              "      <td>2</td>\n",
              "      <td>0</td>\n",
              "      <td>0</td>\n",
              "      <td>0</td>\n",
              "    </tr>\n",
              "    <tr>\n",
              "      <th>aaaaaaaaaaaaahhhhhhhhhhhhhhhhhhhhhhhhhh</th>\n",
              "      <td>1</td>\n",
              "      <td>0</td>\n",
              "      <td>0</td>\n",
              "      <td>0</td>\n",
              "      <td>0</td>\n",
              "    </tr>\n",
              "    <tr>\n",
              "      <th>aaaand</th>\n",
              "      <td>0</td>\n",
              "      <td>1</td>\n",
              "      <td>0</td>\n",
              "      <td>0</td>\n",
              "      <td>0</td>\n",
              "    </tr>\n",
              "    <tr>\n",
              "      <th>...</th>\n",
              "      <td>...</td>\n",
              "      <td>...</td>\n",
              "      <td>...</td>\n",
              "      <td>...</td>\n",
              "      <td>...</td>\n",
              "    </tr>\n",
              "    <tr>\n",
              "      <th>የዋግ</th>\n",
              "      <td>0</td>\n",
              "      <td>0</td>\n",
              "      <td>2</td>\n",
              "      <td>0</td>\n",
              "      <td>0</td>\n",
              "    </tr>\n",
              "    <tr>\n",
              "      <th>ጦርነት</th>\n",
              "      <td>0</td>\n",
              "      <td>0</td>\n",
              "      <td>2</td>\n",
              "      <td>0</td>\n",
              "      <td>0</td>\n",
              "    </tr>\n",
              "    <tr>\n",
              "      <th>ፃግብጅ</th>\n",
              "      <td>0</td>\n",
              "      <td>0</td>\n",
              "      <td>2</td>\n",
              "      <td>0</td>\n",
              "      <td>0</td>\n",
              "    </tr>\n",
              "    <tr>\n",
              "      <th>ᴥedit</th>\n",
              "      <td>0</td>\n",
              "      <td>0</td>\n",
              "      <td>0</td>\n",
              "      <td>0</td>\n",
              "      <td>1</td>\n",
              "    </tr>\n",
              "    <tr>\n",
              "      <th>⁰c</th>\n",
              "      <td>0</td>\n",
              "      <td>0</td>\n",
              "      <td>0</td>\n",
              "      <td>1</td>\n",
              "      <td>0</td>\n",
              "    </tr>\n",
              "  </tbody>\n",
              "</table>\n",
              "<p>26802 rows × 5 columns</p>\n",
              "</div>\n",
              "      <button class=\"colab-df-convert\" onclick=\"convertToInteractive('df-0aa9a658-001f-4614-8675-22deee32f327')\"\n",
              "              title=\"Convert this dataframe to an interactive table.\"\n",
              "              style=\"display:none;\">\n",
              "        \n",
              "  <svg xmlns=\"http://www.w3.org/2000/svg\" height=\"24px\"viewBox=\"0 0 24 24\"\n",
              "       width=\"24px\">\n",
              "    <path d=\"M0 0h24v24H0V0z\" fill=\"none\"/>\n",
              "    <path d=\"M18.56 5.44l.94 2.06.94-2.06 2.06-.94-2.06-.94-.94-2.06-.94 2.06-2.06.94zm-11 1L8.5 8.5l.94-2.06 2.06-.94-2.06-.94L8.5 2.5l-.94 2.06-2.06.94zm10 10l.94 2.06.94-2.06 2.06-.94-2.06-.94-.94-2.06-.94 2.06-2.06.94z\"/><path d=\"M17.41 7.96l-1.37-1.37c-.4-.4-.92-.59-1.43-.59-.52 0-1.04.2-1.43.59L10.3 9.45l-7.72 7.72c-.78.78-.78 2.05 0 2.83L4 21.41c.39.39.9.59 1.41.59.51 0 1.02-.2 1.41-.59l7.78-7.78 2.81-2.81c.8-.78.8-2.07 0-2.86zM5.41 20L4 18.59l7.72-7.72 1.47 1.35L5.41 20z\"/>\n",
              "  </svg>\n",
              "      </button>\n",
              "      \n",
              "  <style>\n",
              "    .colab-df-container {\n",
              "      display:flex;\n",
              "      flex-wrap:wrap;\n",
              "      gap: 12px;\n",
              "    }\n",
              "\n",
              "    .colab-df-convert {\n",
              "      background-color: #E8F0FE;\n",
              "      border: none;\n",
              "      border-radius: 50%;\n",
              "      cursor: pointer;\n",
              "      display: none;\n",
              "      fill: #1967D2;\n",
              "      height: 32px;\n",
              "      padding: 0 0 0 0;\n",
              "      width: 32px;\n",
              "    }\n",
              "\n",
              "    .colab-df-convert:hover {\n",
              "      background-color: #E2EBFA;\n",
              "      box-shadow: 0px 1px 2px rgba(60, 64, 67, 0.3), 0px 1px 3px 1px rgba(60, 64, 67, 0.15);\n",
              "      fill: #174EA6;\n",
              "    }\n",
              "\n",
              "    [theme=dark] .colab-df-convert {\n",
              "      background-color: #3B4455;\n",
              "      fill: #D2E3FC;\n",
              "    }\n",
              "\n",
              "    [theme=dark] .colab-df-convert:hover {\n",
              "      background-color: #434B5C;\n",
              "      box-shadow: 0px 1px 3px 1px rgba(0, 0, 0, 0.15);\n",
              "      filter: drop-shadow(0px 1px 2px rgba(0, 0, 0, 0.3));\n",
              "      fill: #FFFFFF;\n",
              "    }\n",
              "  </style>\n",
              "\n",
              "      <script>\n",
              "        const buttonEl =\n",
              "          document.querySelector('#df-0aa9a658-001f-4614-8675-22deee32f327 button.colab-df-convert');\n",
              "        buttonEl.style.display =\n",
              "          google.colab.kernel.accessAllowed ? 'block' : 'none';\n",
              "\n",
              "        async function convertToInteractive(key) {\n",
              "          const element = document.querySelector('#df-0aa9a658-001f-4614-8675-22deee32f327');\n",
              "          const dataTable =\n",
              "            await google.colab.kernel.invokeFunction('convertToInteractive',\n",
              "                                                     [key], {});\n",
              "          if (!dataTable) return;\n",
              "\n",
              "          const docLinkHtml = 'Like what you see? Visit the ' +\n",
              "            '<a target=\"_blank\" href=https://colab.research.google.com/notebooks/data_table.ipynb>data table notebook</a>'\n",
              "            + ' to learn more about interactive tables.';\n",
              "          element.innerHTML = '';\n",
              "          dataTable['output_type'] = 'display_data';\n",
              "          await google.colab.output.renderOutput(dataTable, element);\n",
              "          const docLink = document.createElement('div');\n",
              "          docLink.innerHTML = docLinkHtml;\n",
              "          element.appendChild(docLink);\n",
              "        }\n",
              "      </script>\n",
              "    </div>\n",
              "  </div>\n",
              "  "
            ]
          },
          "metadata": {},
          "execution_count": 70
        }
      ]
    },
    {
      "cell_type": "code",
      "source": [
        "# We're going to put the term-document matrix into a new gensim format, from df --> sparse matrix --> gensim corpus\n",
        "sparse_counts = scipy.sparse.csr_matrix(no_stop_words_string_CV)\n",
        "corpus = matutils.Sparse2Corpus(sparse_counts)"
      ],
      "metadata": {
        "id": "eYqxc7Xtxj6U"
      },
      "execution_count": 71,
      "outputs": []
    },
    {
      "cell_type": "code",
      "source": [
        "# Gensim also requires dictionary of the all terms and their respective location in the term-document matrix\n",
        "id2word = dict((v, k) for k, v in cv.vocabulary_.items())"
      ],
      "metadata": {
        "id": "HMZP0ABWyRc6"
      },
      "execution_count": 72,
      "outputs": []
    },
    {
      "cell_type": "code",
      "source": [
        "# Now that we have the corpus (term-document matrix) and id2word (dictionary of location: term),\n",
        "# we need to specify two other parameters as well - the number of topics and the number of passes\n",
        "lda = models.LdaModel(corpus=corpus, id2word=id2word, num_topics=2, passes=10)\n",
        "lda.print_topics()"
      ],
      "metadata": {
        "id": "V8luxjaay2I6",
        "colab": {
          "base_uri": "https://localhost:8080/"
        },
        "outputId": "d7aed1b2-465e-4a4a-c511-cfe1410231b4"
      },
      "execution_count": 73,
      "outputs": [
        {
          "output_type": "execute_result",
          "data": {
            "text/plain": [
              "[(0,\n",
              "  '0.039*\"oppo\" + 0.037*\"xiaomi\" + 0.013*\"black\" + 0.013*\"midnight\" + 0.013*\"ae\" + 0.010*\"pro\" + 0.008*\"phone\" + 0.007*\"redmi\" + 0.006*\"oppoaeoppoaeoppoaeoppoae\" + 0.006*\"wish\"'),\n",
              " (1,\n",
              "  '0.036*\"iphone\" + 0.032*\"phone\" + 0.027*\"huawei\" + 0.026*\"follow\" + 0.025*\"samsung\" + 0.017*\"day\" + 0.011*\"winner\" + 0.011*\"new\" + 0.008*\"pro\" + 0.008*\"plu\"')]"
            ]
          },
          "metadata": {},
          "execution_count": 73
        }
      ]
    },
    {
      "cell_type": "code",
      "source": [
        "# LDA for num_topics = 3\n",
        "lda = models.LdaModel(corpus=corpus, id2word=id2word, num_topics=3, passes=10)\n",
        "lda.print_topics()"
      ],
      "metadata": {
        "id": "iuEBChHay4HN",
        "colab": {
          "base_uri": "https://localhost:8080/"
        },
        "outputId": "e095a563-9829-4a65-b340-bc4cb51c8617"
      },
      "execution_count": 74,
      "outputs": [
        {
          "output_type": "execute_result",
          "data": {
            "text/plain": [
              "[(0,\n",
              "  '0.129*\"iphone\" + 0.097*\"follow\" + 0.061*\"day\" + 0.042*\"winner\" + 0.029*\"plu\" + 0.026*\"rupiah\" + 0.025*\"pro\" + 0.025*\"hour\" + 0.022*\"end\" + 0.009*\"giveaway\"'),\n",
              " (1,\n",
              "  '0.063*\"huawei\" + 0.013*\"russia\" + 0.010*\"app\" + 0.009*\"store\" + 0.007*\"compani\" + 0.007*\"new\" + 0.007*\"chinese\" + 0.006*\"nova\" + 0.005*\"support\" + 0.005*\"online\"'),\n",
              " (2,\n",
              "  '0.032*\"phone\" + 0.027*\"oppo\" + 0.026*\"xiaomi\" + 0.024*\"samsung\" + 0.009*\"new\" + 0.009*\"black\" + 0.009*\"midnight\" + 0.009*\"ae\" + 0.008*\"pro\" + 0.007*\"galaxi\"')]"
            ]
          },
          "metadata": {},
          "execution_count": 74
        }
      ]
    },
    {
      "cell_type": "code",
      "source": [
        "# LDA for num_topics = 4\n",
        "lda = models.LdaModel(corpus=corpus, id2word=id2word, num_topics=4, passes=10)\n",
        "lda.print_topics()"
      ],
      "metadata": {
        "id": "g1bFJkBQy5cz",
        "colab": {
          "base_uri": "https://localhost:8080/"
        },
        "outputId": "e49dc03f-b5b6-4cd9-9506-83831960b6a8"
      },
      "execution_count": 75,
      "outputs": [
        {
          "output_type": "execute_result",
          "data": {
            "text/plain": [
              "[(0,\n",
              "  '0.060*\"iphone\" + 0.051*\"phone\" + 0.041*\"follow\" + 0.041*\"samsung\" + 0.028*\"day\" + 0.018*\"winner\" + 0.013*\"new\" + 0.013*\"plu\" + 0.013*\"galaxi\" + 0.012*\"pro\"'),\n",
              " (1,\n",
              "  '0.089*\"oppo\" + 0.030*\"midnight\" + 0.029*\"black\" + 0.029*\"ae\" + 0.014*\"oppoaeoppoaeoppoaeoppoae\" + 0.013*\"wish\" + 0.013*\"luck\" + 0.012*\"oppoae\" + 0.012*\"di\" + 0.012*\"bismilah\"'),\n",
              " (2,\n",
              "  '0.065*\"huawei\" + 0.013*\"russia\" + 0.010*\"app\" + 0.009*\"store\" + 0.008*\"compani\" + 0.007*\"new\" + 0.007*\"chinese\" + 0.006*\"nova\" + 0.006*\"support\" + 0.005*\"online\"'),\n",
              " (3,\n",
              "  '0.064*\"xiaomi\" + 0.013*\"pro\" + 0.012*\"redmi\" + 0.010*\"phone\" + 0.009*\"mi\" + 0.009*\"note\" + 0.007*\"india\" + 0.007*\"launch\" + 0.006*\"summon\" + 0.006*\"just\"')]"
            ]
          },
          "metadata": {},
          "execution_count": 75
        }
      ]
    },
    {
      "cell_type": "markdown",
      "source": [
        "## Topic Modeling - Attempt #2 (Nouns Only)"
      ],
      "metadata": {
        "id": "JNsflpRqzCwZ"
      }
    },
    {
      "cell_type": "code",
      "source": [
        "from nltk import word_tokenize, pos_tag"
      ],
      "metadata": {
        "id": "0_Ich29zzIJr"
      },
      "execution_count": 76,
      "outputs": []
    },
    {
      "cell_type": "code",
      "source": [
        "# Let's create a function to pull out nouns from a string of text\n",
        "\n",
        "def nouns(text):\n",
        "    '''Given a string of text, tokenize the text and pull out only the nouns.'''\n",
        "    is_noun = lambda pos: pos[:2] == 'NN'\n",
        "    tokenized = word_tokenize(text)\n",
        "    all_nouns = [word for (word, pos) in pos_tag(tokenized) if is_noun(pos)] \n",
        "    return ' '.join(all_nouns)"
      ],
      "metadata": {
        "id": "_zd1UsPfzCDY"
      },
      "execution_count": 77,
      "outputs": []
    },
    {
      "cell_type": "code",
      "source": [
        "\n",
        "# Apply the nouns function to the transcripts to filter only on nouns\n",
        "\n",
        "data_nouns = pd.DataFrame(no_stop_words_string_final.tweets_clean.apply(nouns))\n",
        "data_nouns"
      ],
      "metadata": {
        "id": "_q_5_4NAzZcF",
        "colab": {
          "base_uri": "https://localhost:8080/",
          "height": 206
        },
        "outputId": "21b96a4b-4082-4cae-ec11-a3d9a01123cb"
      },
      "execution_count": 78,
      "outputs": [
        {
          "output_type": "execute_result",
          "data": {
            "text/plain": [
              "                                                                                                                        tweets_clean\n",
              "0  end day • rupiah iphone winner day end day • iphone winner hour iphone join telegram proof rupiah winner day iphon default flo...\n",
              "1  digit wallet store document asnat idsdriv licensescredit cardsdi cureent use samsung v play star play thing hold dream world c...\n",
              "2  citi support workforce provide person th code ldpc code capac slightli encodedecode reason hype qualcomm rent ldpc patent huaw...\n",
              "3  sale attribut contribut factor gain rank redmi xiaomi redmi phone everytime drôle phone si dont phone amazon – xiaomi ne g gb ...\n",
              "4  ponder mysteri oppoeasteregg kid histor fiction market selfpromot olsonforthea filthi option ruck use rotate berg filthi rob o..."
            ],
            "text/html": [
              "\n",
              "  <div id=\"df-3c178206-9ebd-45e8-a20a-94565c6a7b97\">\n",
              "    <div class=\"colab-df-container\">\n",
              "      <div>\n",
              "<style scoped>\n",
              "    .dataframe tbody tr th:only-of-type {\n",
              "        vertical-align: middle;\n",
              "    }\n",
              "\n",
              "    .dataframe tbody tr th {\n",
              "        vertical-align: top;\n",
              "    }\n",
              "\n",
              "    .dataframe thead th {\n",
              "        text-align: right;\n",
              "    }\n",
              "</style>\n",
              "<table border=\"1\" class=\"dataframe\">\n",
              "  <thead>\n",
              "    <tr style=\"text-align: right;\">\n",
              "      <th></th>\n",
              "      <th>tweets_clean</th>\n",
              "    </tr>\n",
              "  </thead>\n",
              "  <tbody>\n",
              "    <tr>\n",
              "      <th>0</th>\n",
              "      <td>end day • rupiah iphone winner day end day • iphone winner hour iphone join telegram proof rupiah winner day iphon default flo...</td>\n",
              "    </tr>\n",
              "    <tr>\n",
              "      <th>1</th>\n",
              "      <td>digit wallet store document asnat idsdriv licensescredit cardsdi cureent use samsung v play star play thing hold dream world c...</td>\n",
              "    </tr>\n",
              "    <tr>\n",
              "      <th>2</th>\n",
              "      <td>citi support workforce provide person th code ldpc code capac slightli encodedecode reason hype qualcomm rent ldpc patent huaw...</td>\n",
              "    </tr>\n",
              "    <tr>\n",
              "      <th>3</th>\n",
              "      <td>sale attribut contribut factor gain rank redmi xiaomi redmi phone everytime drôle phone si dont phone amazon – xiaomi ne g gb ...</td>\n",
              "    </tr>\n",
              "    <tr>\n",
              "      <th>4</th>\n",
              "      <td>ponder mysteri oppoeasteregg kid histor fiction market selfpromot olsonforthea filthi option ruck use rotate berg filthi rob o...</td>\n",
              "    </tr>\n",
              "  </tbody>\n",
              "</table>\n",
              "</div>\n",
              "      <button class=\"colab-df-convert\" onclick=\"convertToInteractive('df-3c178206-9ebd-45e8-a20a-94565c6a7b97')\"\n",
              "              title=\"Convert this dataframe to an interactive table.\"\n",
              "              style=\"display:none;\">\n",
              "        \n",
              "  <svg xmlns=\"http://www.w3.org/2000/svg\" height=\"24px\"viewBox=\"0 0 24 24\"\n",
              "       width=\"24px\">\n",
              "    <path d=\"M0 0h24v24H0V0z\" fill=\"none\"/>\n",
              "    <path d=\"M18.56 5.44l.94 2.06.94-2.06 2.06-.94-2.06-.94-.94-2.06-.94 2.06-2.06.94zm-11 1L8.5 8.5l.94-2.06 2.06-.94-2.06-.94L8.5 2.5l-.94 2.06-2.06.94zm10 10l.94 2.06.94-2.06 2.06-.94-2.06-.94-.94-2.06-.94 2.06-2.06.94z\"/><path d=\"M17.41 7.96l-1.37-1.37c-.4-.4-.92-.59-1.43-.59-.52 0-1.04.2-1.43.59L10.3 9.45l-7.72 7.72c-.78.78-.78 2.05 0 2.83L4 21.41c.39.39.9.59 1.41.59.51 0 1.02-.2 1.41-.59l7.78-7.78 2.81-2.81c.8-.78.8-2.07 0-2.86zM5.41 20L4 18.59l7.72-7.72 1.47 1.35L5.41 20z\"/>\n",
              "  </svg>\n",
              "      </button>\n",
              "      \n",
              "  <style>\n",
              "    .colab-df-container {\n",
              "      display:flex;\n",
              "      flex-wrap:wrap;\n",
              "      gap: 12px;\n",
              "    }\n",
              "\n",
              "    .colab-df-convert {\n",
              "      background-color: #E8F0FE;\n",
              "      border: none;\n",
              "      border-radius: 50%;\n",
              "      cursor: pointer;\n",
              "      display: none;\n",
              "      fill: #1967D2;\n",
              "      height: 32px;\n",
              "      padding: 0 0 0 0;\n",
              "      width: 32px;\n",
              "    }\n",
              "\n",
              "    .colab-df-convert:hover {\n",
              "      background-color: #E2EBFA;\n",
              "      box-shadow: 0px 1px 2px rgba(60, 64, 67, 0.3), 0px 1px 3px 1px rgba(60, 64, 67, 0.15);\n",
              "      fill: #174EA6;\n",
              "    }\n",
              "\n",
              "    [theme=dark] .colab-df-convert {\n",
              "      background-color: #3B4455;\n",
              "      fill: #D2E3FC;\n",
              "    }\n",
              "\n",
              "    [theme=dark] .colab-df-convert:hover {\n",
              "      background-color: #434B5C;\n",
              "      box-shadow: 0px 1px 3px 1px rgba(0, 0, 0, 0.15);\n",
              "      filter: drop-shadow(0px 1px 2px rgba(0, 0, 0, 0.3));\n",
              "      fill: #FFFFFF;\n",
              "    }\n",
              "  </style>\n",
              "\n",
              "      <script>\n",
              "        const buttonEl =\n",
              "          document.querySelector('#df-3c178206-9ebd-45e8-a20a-94565c6a7b97 button.colab-df-convert');\n",
              "        buttonEl.style.display =\n",
              "          google.colab.kernel.accessAllowed ? 'block' : 'none';\n",
              "\n",
              "        async function convertToInteractive(key) {\n",
              "          const element = document.querySelector('#df-3c178206-9ebd-45e8-a20a-94565c6a7b97');\n",
              "          const dataTable =\n",
              "            await google.colab.kernel.invokeFunction('convertToInteractive',\n",
              "                                                     [key], {});\n",
              "          if (!dataTable) return;\n",
              "\n",
              "          const docLinkHtml = 'Like what you see? Visit the ' +\n",
              "            '<a target=\"_blank\" href=https://colab.research.google.com/notebooks/data_table.ipynb>data table notebook</a>'\n",
              "            + ' to learn more about interactive tables.';\n",
              "          element.innerHTML = '';\n",
              "          dataTable['output_type'] = 'display_data';\n",
              "          await google.colab.output.renderOutput(dataTable, element);\n",
              "          const docLink = document.createElement('div');\n",
              "          docLink.innerHTML = docLinkHtml;\n",
              "          element.appendChild(docLink);\n",
              "        }\n",
              "      </script>\n",
              "    </div>\n",
              "  </div>\n",
              "  "
            ]
          },
          "metadata": {},
          "execution_count": 78
        }
      ]
    },
    {
      "cell_type": "code",
      "source": [
        "# Re-add the additional stop words since we are recreating the document-term matrix\n",
        "add_stop_words = ['like', 'im', 'know', 'just', 'dont', 'thats', 'right', 'people',\n",
        "                  'youre', 'got', 'gonna', 'time', 'think', 'yeah', 'said']\n",
        "stop_words = text.ENGLISH_STOP_WORDS.union(add_stop_words)\n",
        "\n",
        "# Recreate a document-term matrix with only nouns\n",
        "cvn = CountVectorizer(stop_words=stop_words)\n",
        "data_cvn = cvn.fit_transform(data_nouns.tweets_clean)\n",
        "data_dtmn = pd.DataFrame(data_cvn.toarray(), columns=cvn.get_feature_names())\n",
        "data_dtmn.index = data_nouns.index\n",
        "data_dtmn"
      ],
      "metadata": {
        "id": "XWAn2A_22_Dm",
        "colab": {
          "base_uri": "https://localhost:8080/",
          "height": 334
        },
        "outputId": "7533f57e-e8db-45ac-d725-72bdc42c1a33"
      },
      "execution_count": 79,
      "outputs": [
        {
          "output_type": "stream",
          "name": "stderr",
          "text": [
            "/usr/local/lib/python3.7/dist-packages/sklearn/utils/deprecation.py:87: FutureWarning: Function get_feature_names is deprecated; get_feature_names is deprecated in 1.0 and will be removed in 1.2. Please use get_feature_names_out instead.\n",
            "  warnings.warn(msg, category=FutureWarning)\n"
          ]
        },
        {
          "output_type": "execute_result",
          "data": {
            "text/plain": [
              "   aa  aaa  aaaaaaaaaaaaahhhhhhhhhhhhhhhhhhhhhhhhhh  aaaand  aaah  aaaq  \\\n",
              "0   0    1                                        1       0     0     0   \n",
              "1   0    2                                        0       1     0     0   \n",
              "2   0    0                                        0       0     0     0   \n",
              "3   0    0                                        0       0     1     5   \n",
              "4  10    0                                        0       0     0     1   \n",
              "\n",
              "   aachi  aadmi  aaeasaaasaasaa  aaf  ...  ህዝብ  ላይ  ረሀብ  ተደርቦ  የሚያንገላታው  የቀድሞ  \\\n",
              "0      0      1               0    0  ...    0   0    0     0         0     0   \n",
              "1      1      0               1    0  ...    0   0    0     0         0     0   \n",
              "2      0      0               0    0  ...    2   2    2     2         2     2   \n",
              "3      0      0               0    0  ...    0   0    0     0         0     0   \n",
              "4      0      0               0    1  ...    0   0    0     0         0     0   \n",
              "\n",
              "   የዋግ  ጦርነት  ፃግብጅ  ᴥedit  \n",
              "0    0     0     0      0  \n",
              "1    0     0     0      0  \n",
              "2    2     2     2      0  \n",
              "3    0     0     0      0  \n",
              "4    0     0     0      1  \n",
              "\n",
              "[5 rows x 20335 columns]"
            ],
            "text/html": [
              "\n",
              "  <div id=\"df-5e0298c1-75f1-4f7d-adda-df4ce369664a\">\n",
              "    <div class=\"colab-df-container\">\n",
              "      <div>\n",
              "<style scoped>\n",
              "    .dataframe tbody tr th:only-of-type {\n",
              "        vertical-align: middle;\n",
              "    }\n",
              "\n",
              "    .dataframe tbody tr th {\n",
              "        vertical-align: top;\n",
              "    }\n",
              "\n",
              "    .dataframe thead th {\n",
              "        text-align: right;\n",
              "    }\n",
              "</style>\n",
              "<table border=\"1\" class=\"dataframe\">\n",
              "  <thead>\n",
              "    <tr style=\"text-align: right;\">\n",
              "      <th></th>\n",
              "      <th>aa</th>\n",
              "      <th>aaa</th>\n",
              "      <th>aaaaaaaaaaaaahhhhhhhhhhhhhhhhhhhhhhhhhh</th>\n",
              "      <th>aaaand</th>\n",
              "      <th>aaah</th>\n",
              "      <th>aaaq</th>\n",
              "      <th>aachi</th>\n",
              "      <th>aadmi</th>\n",
              "      <th>aaeasaaasaasaa</th>\n",
              "      <th>aaf</th>\n",
              "      <th>...</th>\n",
              "      <th>ህዝብ</th>\n",
              "      <th>ላይ</th>\n",
              "      <th>ረሀብ</th>\n",
              "      <th>ተደርቦ</th>\n",
              "      <th>የሚያንገላታው</th>\n",
              "      <th>የቀድሞ</th>\n",
              "      <th>የዋግ</th>\n",
              "      <th>ጦርነት</th>\n",
              "      <th>ፃግብጅ</th>\n",
              "      <th>ᴥedit</th>\n",
              "    </tr>\n",
              "  </thead>\n",
              "  <tbody>\n",
              "    <tr>\n",
              "      <th>0</th>\n",
              "      <td>0</td>\n",
              "      <td>1</td>\n",
              "      <td>1</td>\n",
              "      <td>0</td>\n",
              "      <td>0</td>\n",
              "      <td>0</td>\n",
              "      <td>0</td>\n",
              "      <td>1</td>\n",
              "      <td>0</td>\n",
              "      <td>0</td>\n",
              "      <td>...</td>\n",
              "      <td>0</td>\n",
              "      <td>0</td>\n",
              "      <td>0</td>\n",
              "      <td>0</td>\n",
              "      <td>0</td>\n",
              "      <td>0</td>\n",
              "      <td>0</td>\n",
              "      <td>0</td>\n",
              "      <td>0</td>\n",
              "      <td>0</td>\n",
              "    </tr>\n",
              "    <tr>\n",
              "      <th>1</th>\n",
              "      <td>0</td>\n",
              "      <td>2</td>\n",
              "      <td>0</td>\n",
              "      <td>1</td>\n",
              "      <td>0</td>\n",
              "      <td>0</td>\n",
              "      <td>1</td>\n",
              "      <td>0</td>\n",
              "      <td>1</td>\n",
              "      <td>0</td>\n",
              "      <td>...</td>\n",
              "      <td>0</td>\n",
              "      <td>0</td>\n",
              "      <td>0</td>\n",
              "      <td>0</td>\n",
              "      <td>0</td>\n",
              "      <td>0</td>\n",
              "      <td>0</td>\n",
              "      <td>0</td>\n",
              "      <td>0</td>\n",
              "      <td>0</td>\n",
              "    </tr>\n",
              "    <tr>\n",
              "      <th>2</th>\n",
              "      <td>0</td>\n",
              "      <td>0</td>\n",
              "      <td>0</td>\n",
              "      <td>0</td>\n",
              "      <td>0</td>\n",
              "      <td>0</td>\n",
              "      <td>0</td>\n",
              "      <td>0</td>\n",
              "      <td>0</td>\n",
              "      <td>0</td>\n",
              "      <td>...</td>\n",
              "      <td>2</td>\n",
              "      <td>2</td>\n",
              "      <td>2</td>\n",
              "      <td>2</td>\n",
              "      <td>2</td>\n",
              "      <td>2</td>\n",
              "      <td>2</td>\n",
              "      <td>2</td>\n",
              "      <td>2</td>\n",
              "      <td>0</td>\n",
              "    </tr>\n",
              "    <tr>\n",
              "      <th>3</th>\n",
              "      <td>0</td>\n",
              "      <td>0</td>\n",
              "      <td>0</td>\n",
              "      <td>0</td>\n",
              "      <td>1</td>\n",
              "      <td>5</td>\n",
              "      <td>0</td>\n",
              "      <td>0</td>\n",
              "      <td>0</td>\n",
              "      <td>0</td>\n",
              "      <td>...</td>\n",
              "      <td>0</td>\n",
              "      <td>0</td>\n",
              "      <td>0</td>\n",
              "      <td>0</td>\n",
              "      <td>0</td>\n",
              "      <td>0</td>\n",
              "      <td>0</td>\n",
              "      <td>0</td>\n",
              "      <td>0</td>\n",
              "      <td>0</td>\n",
              "    </tr>\n",
              "    <tr>\n",
              "      <th>4</th>\n",
              "      <td>10</td>\n",
              "      <td>0</td>\n",
              "      <td>0</td>\n",
              "      <td>0</td>\n",
              "      <td>0</td>\n",
              "      <td>1</td>\n",
              "      <td>0</td>\n",
              "      <td>0</td>\n",
              "      <td>0</td>\n",
              "      <td>1</td>\n",
              "      <td>...</td>\n",
              "      <td>0</td>\n",
              "      <td>0</td>\n",
              "      <td>0</td>\n",
              "      <td>0</td>\n",
              "      <td>0</td>\n",
              "      <td>0</td>\n",
              "      <td>0</td>\n",
              "      <td>0</td>\n",
              "      <td>0</td>\n",
              "      <td>1</td>\n",
              "    </tr>\n",
              "  </tbody>\n",
              "</table>\n",
              "<p>5 rows × 20335 columns</p>\n",
              "</div>\n",
              "      <button class=\"colab-df-convert\" onclick=\"convertToInteractive('df-5e0298c1-75f1-4f7d-adda-df4ce369664a')\"\n",
              "              title=\"Convert this dataframe to an interactive table.\"\n",
              "              style=\"display:none;\">\n",
              "        \n",
              "  <svg xmlns=\"http://www.w3.org/2000/svg\" height=\"24px\"viewBox=\"0 0 24 24\"\n",
              "       width=\"24px\">\n",
              "    <path d=\"M0 0h24v24H0V0z\" fill=\"none\"/>\n",
              "    <path d=\"M18.56 5.44l.94 2.06.94-2.06 2.06-.94-2.06-.94-.94-2.06-.94 2.06-2.06.94zm-11 1L8.5 8.5l.94-2.06 2.06-.94-2.06-.94L8.5 2.5l-.94 2.06-2.06.94zm10 10l.94 2.06.94-2.06 2.06-.94-2.06-.94-.94-2.06-.94 2.06-2.06.94z\"/><path d=\"M17.41 7.96l-1.37-1.37c-.4-.4-.92-.59-1.43-.59-.52 0-1.04.2-1.43.59L10.3 9.45l-7.72 7.72c-.78.78-.78 2.05 0 2.83L4 21.41c.39.39.9.59 1.41.59.51 0 1.02-.2 1.41-.59l7.78-7.78 2.81-2.81c.8-.78.8-2.07 0-2.86zM5.41 20L4 18.59l7.72-7.72 1.47 1.35L5.41 20z\"/>\n",
              "  </svg>\n",
              "      </button>\n",
              "      \n",
              "  <style>\n",
              "    .colab-df-container {\n",
              "      display:flex;\n",
              "      flex-wrap:wrap;\n",
              "      gap: 12px;\n",
              "    }\n",
              "\n",
              "    .colab-df-convert {\n",
              "      background-color: #E8F0FE;\n",
              "      border: none;\n",
              "      border-radius: 50%;\n",
              "      cursor: pointer;\n",
              "      display: none;\n",
              "      fill: #1967D2;\n",
              "      height: 32px;\n",
              "      padding: 0 0 0 0;\n",
              "      width: 32px;\n",
              "    }\n",
              "\n",
              "    .colab-df-convert:hover {\n",
              "      background-color: #E2EBFA;\n",
              "      box-shadow: 0px 1px 2px rgba(60, 64, 67, 0.3), 0px 1px 3px 1px rgba(60, 64, 67, 0.15);\n",
              "      fill: #174EA6;\n",
              "    }\n",
              "\n",
              "    [theme=dark] .colab-df-convert {\n",
              "      background-color: #3B4455;\n",
              "      fill: #D2E3FC;\n",
              "    }\n",
              "\n",
              "    [theme=dark] .colab-df-convert:hover {\n",
              "      background-color: #434B5C;\n",
              "      box-shadow: 0px 1px 3px 1px rgba(0, 0, 0, 0.15);\n",
              "      filter: drop-shadow(0px 1px 2px rgba(0, 0, 0, 0.3));\n",
              "      fill: #FFFFFF;\n",
              "    }\n",
              "  </style>\n",
              "\n",
              "      <script>\n",
              "        const buttonEl =\n",
              "          document.querySelector('#df-5e0298c1-75f1-4f7d-adda-df4ce369664a button.colab-df-convert');\n",
              "        buttonEl.style.display =\n",
              "          google.colab.kernel.accessAllowed ? 'block' : 'none';\n",
              "\n",
              "        async function convertToInteractive(key) {\n",
              "          const element = document.querySelector('#df-5e0298c1-75f1-4f7d-adda-df4ce369664a');\n",
              "          const dataTable =\n",
              "            await google.colab.kernel.invokeFunction('convertToInteractive',\n",
              "                                                     [key], {});\n",
              "          if (!dataTable) return;\n",
              "\n",
              "          const docLinkHtml = 'Like what you see? Visit the ' +\n",
              "            '<a target=\"_blank\" href=https://colab.research.google.com/notebooks/data_table.ipynb>data table notebook</a>'\n",
              "            + ' to learn more about interactive tables.';\n",
              "          element.innerHTML = '';\n",
              "          dataTable['output_type'] = 'display_data';\n",
              "          await google.colab.output.renderOutput(dataTable, element);\n",
              "          const docLink = document.createElement('div');\n",
              "          docLink.innerHTML = docLinkHtml;\n",
              "          element.appendChild(docLink);\n",
              "        }\n",
              "      </script>\n",
              "    </div>\n",
              "  </div>\n",
              "  "
            ]
          },
          "metadata": {},
          "execution_count": 79
        }
      ]
    },
    {
      "cell_type": "code",
      "source": [
        "# Create the gensim corpus\n",
        "corpusn = matutils.Sparse2Corpus(scipy.sparse.csr_matrix(data_dtmn.transpose()))\n",
        "\n",
        "# Create the vocabulary dictionary\n",
        "id2wordn = dict((v, k) for k, v in cvn.vocabulary_.items())"
      ],
      "metadata": {
        "id": "iKTh8be03NI8"
      },
      "execution_count": 80,
      "outputs": []
    },
    {
      "cell_type": "code",
      "source": [
        "# Let's start with 2 topics\n",
        "ldan = models.LdaModel(corpus=corpusn, num_topics=2, id2word=id2wordn, passes=10)\n",
        "ldan.print_topics()"
      ],
      "metadata": {
        "id": "rJklw-qv3PsY",
        "colab": {
          "base_uri": "https://localhost:8080/"
        },
        "outputId": "5ffbc997-a6ec-4d5c-beb9-25c5b8901847"
      },
      "execution_count": 81,
      "outputs": [
        {
          "output_type": "execute_result",
          "data": {
            "text/plain": [
              "[(0,\n",
              "  '0.039*\"xiaomi\" + 0.037*\"iphone\" + 0.025*\"day\" + 0.025*\"oppo\" + 0.015*\"winner\" + 0.015*\"midnight\" + 0.015*\"ae\" + 0.012*\"plu\" + 0.010*\"hour\" + 0.010*\"phone\"'),\n",
              " (1,\n",
              "  '0.062*\"phone\" + 0.043*\"huawei\" + 0.041*\"samsung\" + 0.015*\"galaxi\" + 0.011*\"use\" + 0.010*\"russia\" + 0.008*\"store\" + 0.007*\"case\" + 0.007*\"world\" + 0.007*\"iphone\"')]"
            ]
          },
          "metadata": {},
          "execution_count": 81
        }
      ]
    },
    {
      "cell_type": "code",
      "source": [
        "# Let's try topics = 3\n",
        "ldan = models.LdaModel(corpus=corpusn, num_topics=3, id2word=id2wordn, passes=10)\n",
        "ldan.print_topics()"
      ],
      "metadata": {
        "id": "nMpyaQKo3RVU",
        "colab": {
          "base_uri": "https://localhost:8080/"
        },
        "outputId": "8a6aeedc-35ed-4d97-d120-624e6f1fb4a3"
      },
      "execution_count": 82,
      "outputs": [
        {
          "output_type": "execute_result",
          "data": {
            "text/plain": [
              "[(0,\n",
              "  '0.037*\"xiaomi\" + 0.035*\"iphone\" + 0.033*\"huawei\" + 0.024*\"day\" + 0.015*\"winner\" + 0.011*\"plu\" + 0.010*\"phone\" + 0.009*\"hour\" + 0.008*\"rupiah\" + 0.008*\"end\"'),\n",
              " (1,\n",
              "  '0.115*\"phone\" + 0.078*\"samsung\" + 0.029*\"galaxi\" + 0.015*\"use\" + 0.012*\"case\" + 0.011*\"iphone\" + 0.009*\"world\" + 0.008*\"number\" + 0.008*\"hesintoherseason\" + 0.007*\"kilig\"'),\n",
              " (2,\n",
              "  '0.074*\"oppo\" + 0.046*\"midnight\" + 0.044*\"ae\" + 0.021*\"oppoaeoppoaeoppoaeoppoae\" + 0.020*\"luck\" + 0.018*\"di\" + 0.018*\"hadiah\" + 0.018*\"bulan\" + 0.017*\"oppoae\" + 0.007*\"phone\"')]"
            ]
          },
          "metadata": {},
          "execution_count": 82
        }
      ]
    },
    {
      "cell_type": "code",
      "source": [
        "# Let's try 4 topics\n",
        "ldan = models.LdaModel(corpus=corpusn, num_topics=4, id2word=id2wordn, passes=10)\n",
        "ldan.print_topics()"
      ],
      "metadata": {
        "id": "1vpEkTiW3SvL",
        "colab": {
          "base_uri": "https://localhost:8080/"
        },
        "outputId": "26f21496-5212-47be-fd33-1e86a7876af6"
      },
      "execution_count": 83,
      "outputs": [
        {
          "output_type": "execute_result",
          "data": {
            "text/plain": [
              "[(0,\n",
              "  '0.004*\"iphone\" + 0.002*\"day\" + 0.002*\"xiaomi\" + 0.002*\"winner\" + 0.002*\"plu\" + 0.001*\"end\" + 0.001*\"rupiah\" + 0.001*\"hour\" + 0.001*\"phone\" + 0.001*\"oppo\"'),\n",
              " (1,\n",
              "  '0.048*\"xiaomi\" + 0.041*\"huawei\" + 0.011*\"phone\" + 0.009*\"russia\" + 0.009*\"store\" + 0.008*\"redmi\" + 0.007*\"compani\" + 0.007*\"note\" + 0.006*\"mi\" + 0.005*\"use\"'),\n",
              " (2,\n",
              "  '0.143*\"iphone\" + 0.097*\"day\" + 0.062*\"winner\" + 0.044*\"plu\" + 0.040*\"hour\" + 0.036*\"rupiah\" + 0.034*\"end\" + 0.013*\"retweet\" + 0.013*\"tag\" + 0.011*\"idriphone\"'),\n",
              " (3,\n",
              "  '0.071*\"phone\" + 0.047*\"samsung\" + 0.036*\"oppo\" + 0.022*\"midnight\" + 0.021*\"ae\" + 0.017*\"galaxi\" + 0.010*\"oppoaeoppoaeoppoaeoppoae\" + 0.010*\"use\" + 0.010*\"luck\" + 0.009*\"di\"')]"
            ]
          },
          "metadata": {},
          "execution_count": 83
        }
      ]
    },
    {
      "cell_type": "markdown",
      "source": [
        "## Topic Modeling - Attempt #3 (Nouns and Adjectives)"
      ],
      "metadata": {
        "id": "XR939kza3X1v"
      }
    },
    {
      "cell_type": "code",
      "source": [
        "# Let's create a function to pull out nouns from a string of text\n",
        "def nouns_adj(text):\n",
        "    '''Given a string of text, tokenize the text and pull out only the nouns and adjectives.'''\n",
        "    is_noun_adj = lambda pos: pos[:2] == 'NN' or pos[:2] == 'JJ'\n",
        "    tokenized = word_tokenize(text)\n",
        "    nouns_adj = [word for (word, pos) in pos_tag(tokenized) if is_noun_adj(pos)] \n",
        "    return ' '.join(nouns_adj)"
      ],
      "metadata": {
        "id": "DujmhMWh3uZt"
      },
      "execution_count": 84,
      "outputs": []
    },
    {
      "cell_type": "code",
      "source": [
        "# Apply the nouns function to the transcripts to filter only on nouns\n",
        "data_nouns_adj = pd.DataFrame(no_stop_words_string_final.tweets_clean.apply(nouns_adj))\n",
        "data_nouns_adj"
      ],
      "metadata": {
        "id": "i600--sN4YYo",
        "colab": {
          "base_uri": "https://localhost:8080/",
          "height": 206
        },
        "outputId": "149e18ba-ab68-48b3-d0a0-5ed0aea64f71"
      },
      "execution_count": 85,
      "outputs": [
        {
          "output_type": "execute_result",
          "data": {
            "text/plain": [
              "                                                                                                                        tweets_clean\n",
              "0  iphone end day • rupiah iphone pro winner day iphone end day • iphone winner hour iphone pro follow join telegram proof rupiah...\n",
              "1  samsung new digit id wallet store document asnat idsdriv licensescredit cardsdi redmagicpro cureent use samsung v play star pl...\n",
              "2  citi future support workforce provide person experi th polar code basic ldpc code capac slightli fast encodedecode reason hype...\n",
              "3  redmi sale attribut contribut factor gain shipment rank redmi xiaomi redmi phone everytime drôle phone si dont phone amazon – ...\n",
              "4  ponder mysteri oppoeasteregg taco proud kid write histor fiction market bad selfpromot th oppo olsonforthea filthi extra optio..."
            ],
            "text/html": [
              "\n",
              "  <div id=\"df-9b9ecfb5-6c21-40c0-8ccc-94ca35f38412\">\n",
              "    <div class=\"colab-df-container\">\n",
              "      <div>\n",
              "<style scoped>\n",
              "    .dataframe tbody tr th:only-of-type {\n",
              "        vertical-align: middle;\n",
              "    }\n",
              "\n",
              "    .dataframe tbody tr th {\n",
              "        vertical-align: top;\n",
              "    }\n",
              "\n",
              "    .dataframe thead th {\n",
              "        text-align: right;\n",
              "    }\n",
              "</style>\n",
              "<table border=\"1\" class=\"dataframe\">\n",
              "  <thead>\n",
              "    <tr style=\"text-align: right;\">\n",
              "      <th></th>\n",
              "      <th>tweets_clean</th>\n",
              "    </tr>\n",
              "  </thead>\n",
              "  <tbody>\n",
              "    <tr>\n",
              "      <th>0</th>\n",
              "      <td>iphone end day • rupiah iphone pro winner day iphone end day • iphone winner hour iphone pro follow join telegram proof rupiah...</td>\n",
              "    </tr>\n",
              "    <tr>\n",
              "      <th>1</th>\n",
              "      <td>samsung new digit id wallet store document asnat idsdriv licensescredit cardsdi redmagicpro cureent use samsung v play star pl...</td>\n",
              "    </tr>\n",
              "    <tr>\n",
              "      <th>2</th>\n",
              "      <td>citi future support workforce provide person experi th polar code basic ldpc code capac slightli fast encodedecode reason hype...</td>\n",
              "    </tr>\n",
              "    <tr>\n",
              "      <th>3</th>\n",
              "      <td>redmi sale attribut contribut factor gain shipment rank redmi xiaomi redmi phone everytime drôle phone si dont phone amazon – ...</td>\n",
              "    </tr>\n",
              "    <tr>\n",
              "      <th>4</th>\n",
              "      <td>ponder mysteri oppoeasteregg taco proud kid write histor fiction market bad selfpromot th oppo olsonforthea filthi extra optio...</td>\n",
              "    </tr>\n",
              "  </tbody>\n",
              "</table>\n",
              "</div>\n",
              "      <button class=\"colab-df-convert\" onclick=\"convertToInteractive('df-9b9ecfb5-6c21-40c0-8ccc-94ca35f38412')\"\n",
              "              title=\"Convert this dataframe to an interactive table.\"\n",
              "              style=\"display:none;\">\n",
              "        \n",
              "  <svg xmlns=\"http://www.w3.org/2000/svg\" height=\"24px\"viewBox=\"0 0 24 24\"\n",
              "       width=\"24px\">\n",
              "    <path d=\"M0 0h24v24H0V0z\" fill=\"none\"/>\n",
              "    <path d=\"M18.56 5.44l.94 2.06.94-2.06 2.06-.94-2.06-.94-.94-2.06-.94 2.06-2.06.94zm-11 1L8.5 8.5l.94-2.06 2.06-.94-2.06-.94L8.5 2.5l-.94 2.06-2.06.94zm10 10l.94 2.06.94-2.06 2.06-.94-2.06-.94-.94-2.06-.94 2.06-2.06.94z\"/><path d=\"M17.41 7.96l-1.37-1.37c-.4-.4-.92-.59-1.43-.59-.52 0-1.04.2-1.43.59L10.3 9.45l-7.72 7.72c-.78.78-.78 2.05 0 2.83L4 21.41c.39.39.9.59 1.41.59.51 0 1.02-.2 1.41-.59l7.78-7.78 2.81-2.81c.8-.78.8-2.07 0-2.86zM5.41 20L4 18.59l7.72-7.72 1.47 1.35L5.41 20z\"/>\n",
              "  </svg>\n",
              "      </button>\n",
              "      \n",
              "  <style>\n",
              "    .colab-df-container {\n",
              "      display:flex;\n",
              "      flex-wrap:wrap;\n",
              "      gap: 12px;\n",
              "    }\n",
              "\n",
              "    .colab-df-convert {\n",
              "      background-color: #E8F0FE;\n",
              "      border: none;\n",
              "      border-radius: 50%;\n",
              "      cursor: pointer;\n",
              "      display: none;\n",
              "      fill: #1967D2;\n",
              "      height: 32px;\n",
              "      padding: 0 0 0 0;\n",
              "      width: 32px;\n",
              "    }\n",
              "\n",
              "    .colab-df-convert:hover {\n",
              "      background-color: #E2EBFA;\n",
              "      box-shadow: 0px 1px 2px rgba(60, 64, 67, 0.3), 0px 1px 3px 1px rgba(60, 64, 67, 0.15);\n",
              "      fill: #174EA6;\n",
              "    }\n",
              "\n",
              "    [theme=dark] .colab-df-convert {\n",
              "      background-color: #3B4455;\n",
              "      fill: #D2E3FC;\n",
              "    }\n",
              "\n",
              "    [theme=dark] .colab-df-convert:hover {\n",
              "      background-color: #434B5C;\n",
              "      box-shadow: 0px 1px 3px 1px rgba(0, 0, 0, 0.15);\n",
              "      filter: drop-shadow(0px 1px 2px rgba(0, 0, 0, 0.3));\n",
              "      fill: #FFFFFF;\n",
              "    }\n",
              "  </style>\n",
              "\n",
              "      <script>\n",
              "        const buttonEl =\n",
              "          document.querySelector('#df-9b9ecfb5-6c21-40c0-8ccc-94ca35f38412 button.colab-df-convert');\n",
              "        buttonEl.style.display =\n",
              "          google.colab.kernel.accessAllowed ? 'block' : 'none';\n",
              "\n",
              "        async function convertToInteractive(key) {\n",
              "          const element = document.querySelector('#df-9b9ecfb5-6c21-40c0-8ccc-94ca35f38412');\n",
              "          const dataTable =\n",
              "            await google.colab.kernel.invokeFunction('convertToInteractive',\n",
              "                                                     [key], {});\n",
              "          if (!dataTable) return;\n",
              "\n",
              "          const docLinkHtml = 'Like what you see? Visit the ' +\n",
              "            '<a target=\"_blank\" href=https://colab.research.google.com/notebooks/data_table.ipynb>data table notebook</a>'\n",
              "            + ' to learn more about interactive tables.';\n",
              "          element.innerHTML = '';\n",
              "          dataTable['output_type'] = 'display_data';\n",
              "          await google.colab.output.renderOutput(dataTable, element);\n",
              "          const docLink = document.createElement('div');\n",
              "          docLink.innerHTML = docLinkHtml;\n",
              "          element.appendChild(docLink);\n",
              "        }\n",
              "      </script>\n",
              "    </div>\n",
              "  </div>\n",
              "  "
            ]
          },
          "metadata": {},
          "execution_count": 85
        }
      ]
    },
    {
      "cell_type": "code",
      "source": [
        "# Create a new document-term matrix using only nouns and adjectives, also remove common words with max_df\n",
        "phone_names = ['iPhone', 'Samsung','Huawei','Xiaomi','Oppo']\n",
        "\n",
        "cvna = CountVectorizer(stop_words=stop_words, max_df=.8)\n",
        "data_cvna = cvna.fit_transform(data_nouns_adj.tweets_clean)\n",
        "data_dtmna = pd.DataFrame(data_cvna.toarray(), columns=cvna.get_feature_names())\n",
        "data_dtmna.index = phone_names\n",
        "data_dtmna"
      ],
      "metadata": {
        "id": "jQBn31oX4nI1",
        "colab": {
          "base_uri": "https://localhost:8080/",
          "height": 334
        },
        "outputId": "11d12fb4-fd13-4de5-cf8e-6e6105bc7e45"
      },
      "execution_count": 86,
      "outputs": [
        {
          "output_type": "stream",
          "name": "stderr",
          "text": [
            "/usr/local/lib/python3.7/dist-packages/sklearn/utils/deprecation.py:87: FutureWarning: Function get_feature_names is deprecated; get_feature_names is deprecated in 1.0 and will be removed in 1.2. Please use get_feature_names_out instead.\n",
            "  warnings.warn(msg, category=FutureWarning)\n"
          ]
        },
        {
          "output_type": "execute_result",
          "data": {
            "text/plain": [
              "         aa  aaa  aaaaaaaaaaaaahhhhhhhhhhhhhhhhhhhhhhhhhh  aaaand  aaah  aaaq  \\\n",
              "iPhone    0    1                                        1       0     0     0   \n",
              "Samsung   0    8                                        0       1     0     0   \n",
              "Huawei    1    0                                        0       0     0     0   \n",
              "Xiaomi    0    0                                        0       0     1     5   \n",
              "Oppo     11    1                                        0       0     0     1   \n",
              "\n",
              "         aachi  aadmi  aaeasaaasaasaa  aaega  ...  ህዝብ  ላይ  ረሀብ  ተደርቦ  \\\n",
              "iPhone       0      1               0      0  ...    0   0    0     0   \n",
              "Samsung      1      0               1      0  ...    0   0    0     0   \n",
              "Huawei       0      0               0      0  ...    2   2    2     2   \n",
              "Xiaomi       0      0               0      1  ...    0   0    0     0   \n",
              "Oppo         0      0               0      0  ...    0   0    0     0   \n",
              "\n",
              "         የሚያንገላታው  የቀድሞ  የዋግ  ጦርነት  ፃግብጅ  ᴥedit  \n",
              "iPhone          0     0    0     0     0      0  \n",
              "Samsung         0     0    0     0     0      0  \n",
              "Huawei          2     2    2     2     2      0  \n",
              "Xiaomi          0     0    0     0     0      0  \n",
              "Oppo            0     0    0     0     0      1  \n",
              "\n",
              "[5 rows x 23243 columns]"
            ],
            "text/html": [
              "\n",
              "  <div id=\"df-3dbea2f9-3137-447d-93a5-c8be562cf69b\">\n",
              "    <div class=\"colab-df-container\">\n",
              "      <div>\n",
              "<style scoped>\n",
              "    .dataframe tbody tr th:only-of-type {\n",
              "        vertical-align: middle;\n",
              "    }\n",
              "\n",
              "    .dataframe tbody tr th {\n",
              "        vertical-align: top;\n",
              "    }\n",
              "\n",
              "    .dataframe thead th {\n",
              "        text-align: right;\n",
              "    }\n",
              "</style>\n",
              "<table border=\"1\" class=\"dataframe\">\n",
              "  <thead>\n",
              "    <tr style=\"text-align: right;\">\n",
              "      <th></th>\n",
              "      <th>aa</th>\n",
              "      <th>aaa</th>\n",
              "      <th>aaaaaaaaaaaaahhhhhhhhhhhhhhhhhhhhhhhhhh</th>\n",
              "      <th>aaaand</th>\n",
              "      <th>aaah</th>\n",
              "      <th>aaaq</th>\n",
              "      <th>aachi</th>\n",
              "      <th>aadmi</th>\n",
              "      <th>aaeasaaasaasaa</th>\n",
              "      <th>aaega</th>\n",
              "      <th>...</th>\n",
              "      <th>ህዝብ</th>\n",
              "      <th>ላይ</th>\n",
              "      <th>ረሀብ</th>\n",
              "      <th>ተደርቦ</th>\n",
              "      <th>የሚያንገላታው</th>\n",
              "      <th>የቀድሞ</th>\n",
              "      <th>የዋግ</th>\n",
              "      <th>ጦርነት</th>\n",
              "      <th>ፃግብጅ</th>\n",
              "      <th>ᴥedit</th>\n",
              "    </tr>\n",
              "  </thead>\n",
              "  <tbody>\n",
              "    <tr>\n",
              "      <th>iPhone</th>\n",
              "      <td>0</td>\n",
              "      <td>1</td>\n",
              "      <td>1</td>\n",
              "      <td>0</td>\n",
              "      <td>0</td>\n",
              "      <td>0</td>\n",
              "      <td>0</td>\n",
              "      <td>1</td>\n",
              "      <td>0</td>\n",
              "      <td>0</td>\n",
              "      <td>...</td>\n",
              "      <td>0</td>\n",
              "      <td>0</td>\n",
              "      <td>0</td>\n",
              "      <td>0</td>\n",
              "      <td>0</td>\n",
              "      <td>0</td>\n",
              "      <td>0</td>\n",
              "      <td>0</td>\n",
              "      <td>0</td>\n",
              "      <td>0</td>\n",
              "    </tr>\n",
              "    <tr>\n",
              "      <th>Samsung</th>\n",
              "      <td>0</td>\n",
              "      <td>8</td>\n",
              "      <td>0</td>\n",
              "      <td>1</td>\n",
              "      <td>0</td>\n",
              "      <td>0</td>\n",
              "      <td>1</td>\n",
              "      <td>0</td>\n",
              "      <td>1</td>\n",
              "      <td>0</td>\n",
              "      <td>...</td>\n",
              "      <td>0</td>\n",
              "      <td>0</td>\n",
              "      <td>0</td>\n",
              "      <td>0</td>\n",
              "      <td>0</td>\n",
              "      <td>0</td>\n",
              "      <td>0</td>\n",
              "      <td>0</td>\n",
              "      <td>0</td>\n",
              "      <td>0</td>\n",
              "    </tr>\n",
              "    <tr>\n",
              "      <th>Huawei</th>\n",
              "      <td>1</td>\n",
              "      <td>0</td>\n",
              "      <td>0</td>\n",
              "      <td>0</td>\n",
              "      <td>0</td>\n",
              "      <td>0</td>\n",
              "      <td>0</td>\n",
              "      <td>0</td>\n",
              "      <td>0</td>\n",
              "      <td>0</td>\n",
              "      <td>...</td>\n",
              "      <td>2</td>\n",
              "      <td>2</td>\n",
              "      <td>2</td>\n",
              "      <td>2</td>\n",
              "      <td>2</td>\n",
              "      <td>2</td>\n",
              "      <td>2</td>\n",
              "      <td>2</td>\n",
              "      <td>2</td>\n",
              "      <td>0</td>\n",
              "    </tr>\n",
              "    <tr>\n",
              "      <th>Xiaomi</th>\n",
              "      <td>0</td>\n",
              "      <td>0</td>\n",
              "      <td>0</td>\n",
              "      <td>0</td>\n",
              "      <td>1</td>\n",
              "      <td>5</td>\n",
              "      <td>0</td>\n",
              "      <td>0</td>\n",
              "      <td>0</td>\n",
              "      <td>1</td>\n",
              "      <td>...</td>\n",
              "      <td>0</td>\n",
              "      <td>0</td>\n",
              "      <td>0</td>\n",
              "      <td>0</td>\n",
              "      <td>0</td>\n",
              "      <td>0</td>\n",
              "      <td>0</td>\n",
              "      <td>0</td>\n",
              "      <td>0</td>\n",
              "      <td>0</td>\n",
              "    </tr>\n",
              "    <tr>\n",
              "      <th>Oppo</th>\n",
              "      <td>11</td>\n",
              "      <td>1</td>\n",
              "      <td>0</td>\n",
              "      <td>0</td>\n",
              "      <td>0</td>\n",
              "      <td>1</td>\n",
              "      <td>0</td>\n",
              "      <td>0</td>\n",
              "      <td>0</td>\n",
              "      <td>0</td>\n",
              "      <td>...</td>\n",
              "      <td>0</td>\n",
              "      <td>0</td>\n",
              "      <td>0</td>\n",
              "      <td>0</td>\n",
              "      <td>0</td>\n",
              "      <td>0</td>\n",
              "      <td>0</td>\n",
              "      <td>0</td>\n",
              "      <td>0</td>\n",
              "      <td>1</td>\n",
              "    </tr>\n",
              "  </tbody>\n",
              "</table>\n",
              "<p>5 rows × 23243 columns</p>\n",
              "</div>\n",
              "      <button class=\"colab-df-convert\" onclick=\"convertToInteractive('df-3dbea2f9-3137-447d-93a5-c8be562cf69b')\"\n",
              "              title=\"Convert this dataframe to an interactive table.\"\n",
              "              style=\"display:none;\">\n",
              "        \n",
              "  <svg xmlns=\"http://www.w3.org/2000/svg\" height=\"24px\"viewBox=\"0 0 24 24\"\n",
              "       width=\"24px\">\n",
              "    <path d=\"M0 0h24v24H0V0z\" fill=\"none\"/>\n",
              "    <path d=\"M18.56 5.44l.94 2.06.94-2.06 2.06-.94-2.06-.94-.94-2.06-.94 2.06-2.06.94zm-11 1L8.5 8.5l.94-2.06 2.06-.94-2.06-.94L8.5 2.5l-.94 2.06-2.06.94zm10 10l.94 2.06.94-2.06 2.06-.94-2.06-.94-.94-2.06-.94 2.06-2.06.94z\"/><path d=\"M17.41 7.96l-1.37-1.37c-.4-.4-.92-.59-1.43-.59-.52 0-1.04.2-1.43.59L10.3 9.45l-7.72 7.72c-.78.78-.78 2.05 0 2.83L4 21.41c.39.39.9.59 1.41.59.51 0 1.02-.2 1.41-.59l7.78-7.78 2.81-2.81c.8-.78.8-2.07 0-2.86zM5.41 20L4 18.59l7.72-7.72 1.47 1.35L5.41 20z\"/>\n",
              "  </svg>\n",
              "      </button>\n",
              "      \n",
              "  <style>\n",
              "    .colab-df-container {\n",
              "      display:flex;\n",
              "      flex-wrap:wrap;\n",
              "      gap: 12px;\n",
              "    }\n",
              "\n",
              "    .colab-df-convert {\n",
              "      background-color: #E8F0FE;\n",
              "      border: none;\n",
              "      border-radius: 50%;\n",
              "      cursor: pointer;\n",
              "      display: none;\n",
              "      fill: #1967D2;\n",
              "      height: 32px;\n",
              "      padding: 0 0 0 0;\n",
              "      width: 32px;\n",
              "    }\n",
              "\n",
              "    .colab-df-convert:hover {\n",
              "      background-color: #E2EBFA;\n",
              "      box-shadow: 0px 1px 2px rgba(60, 64, 67, 0.3), 0px 1px 3px 1px rgba(60, 64, 67, 0.15);\n",
              "      fill: #174EA6;\n",
              "    }\n",
              "\n",
              "    [theme=dark] .colab-df-convert {\n",
              "      background-color: #3B4455;\n",
              "      fill: #D2E3FC;\n",
              "    }\n",
              "\n",
              "    [theme=dark] .colab-df-convert:hover {\n",
              "      background-color: #434B5C;\n",
              "      box-shadow: 0px 1px 3px 1px rgba(0, 0, 0, 0.15);\n",
              "      filter: drop-shadow(0px 1px 2px rgba(0, 0, 0, 0.3));\n",
              "      fill: #FFFFFF;\n",
              "    }\n",
              "  </style>\n",
              "\n",
              "      <script>\n",
              "        const buttonEl =\n",
              "          document.querySelector('#df-3dbea2f9-3137-447d-93a5-c8be562cf69b button.colab-df-convert');\n",
              "        buttonEl.style.display =\n",
              "          google.colab.kernel.accessAllowed ? 'block' : 'none';\n",
              "\n",
              "        async function convertToInteractive(key) {\n",
              "          const element = document.querySelector('#df-3dbea2f9-3137-447d-93a5-c8be562cf69b');\n",
              "          const dataTable =\n",
              "            await google.colab.kernel.invokeFunction('convertToInteractive',\n",
              "                                                     [key], {});\n",
              "          if (!dataTable) return;\n",
              "\n",
              "          const docLinkHtml = 'Like what you see? Visit the ' +\n",
              "            '<a target=\"_blank\" href=https://colab.research.google.com/notebooks/data_table.ipynb>data table notebook</a>'\n",
              "            + ' to learn more about interactive tables.';\n",
              "          element.innerHTML = '';\n",
              "          dataTable['output_type'] = 'display_data';\n",
              "          await google.colab.output.renderOutput(dataTable, element);\n",
              "          const docLink = document.createElement('div');\n",
              "          docLink.innerHTML = docLinkHtml;\n",
              "          element.appendChild(docLink);\n",
              "        }\n",
              "      </script>\n",
              "    </div>\n",
              "  </div>\n",
              "  "
            ]
          },
          "metadata": {},
          "execution_count": 86
        }
      ]
    },
    {
      "cell_type": "code",
      "source": [
        "# Create the gensim corpus\n",
        "corpusna = matutils.Sparse2Corpus(scipy.sparse.csr_matrix(data_dtmna.transpose()))\n",
        "\n",
        "# Create the vocabulary dictionary\n",
        "id2wordna = dict((v, k) for k, v in cvna.vocabulary_.items())"
      ],
      "metadata": {
        "id": "xz62qmEp4qOU"
      },
      "execution_count": 87,
      "outputs": []
    },
    {
      "cell_type": "code",
      "source": [
        "# Let's start with 2 topics\n",
        "ldana = models.LdaModel(corpus=corpusna, num_topics=2, id2word=id2wordna, passes=10)\n",
        "ldana.print_topics()"
      ],
      "metadata": {
        "id": "zL4wmSYr4wYY",
        "colab": {
          "base_uri": "https://localhost:8080/"
        },
        "outputId": "40575ba7-4a85-4fae-f674-0566c4a0edbe"
      },
      "execution_count": 88,
      "outputs": [
        {
          "output_type": "execute_result",
          "data": {
            "text/plain": [
              "[(0,\n",
              "  '0.039*\"midnight\" + 0.038*\"ae\" + 0.018*\"oppoaeoppoaeoppoaeoppoae\" + 0.016*\"oppoae\" + 0.015*\"hadiah\" + 0.015*\"bulan\" + 0.008*\"unfold\" + 0.008*\"hesintoherseason\" + 0.008*\"kilig\" + 0.007*\"chapter\"'),\n",
              " (1,\n",
              "  '0.016*\"rupiah\" + 0.008*\"clickgtgt\" + 0.008*\"summon\" + 0.007*\"jain\" + 0.007*\"nova\" + 0.006*\"furri\" + 0.006*\"manu\" + 0.006*\"mess\" + 0.006*\"absence\" + 0.006*\"ed\"')]"
            ]
          },
          "metadata": {},
          "execution_count": 88
        }
      ]
    },
    {
      "cell_type": "code",
      "source": [
        "# Let's try 3 topics\n",
        "ldana = models.LdaModel(corpus=corpusna, num_topics=3, id2word=id2wordna, passes=10)\n",
        "ldana.print_topics()"
      ],
      "metadata": {
        "id": "GK-W5tdn4xpK",
        "colab": {
          "base_uri": "https://localhost:8080/"
        },
        "outputId": "bd07c09d-342c-420e-a251-68f9ba6ac0ca"
      },
      "execution_count": 89,
      "outputs": [
        {
          "output_type": "execute_result",
          "data": {
            "text/plain": [
              "[(0,\n",
              "  '0.020*\"rupiah\" + 0.008*\"nova\" + 0.007*\"unfold\" + 0.007*\"hesintoherseason\" + 0.007*\"idriphone\" + 0.007*\"kilig\" + 0.007*\"chapter\" + 0.006*\"zea\" + 0.006*\"fundus\" + 0.005*\"sanction\"'),\n",
              " (1,\n",
              "  '0.016*\"summon\" + 0.016*\"clickgtgt\" + 0.014*\"jain\" + 0.013*\"furri\" + 0.012*\"manu\" + 0.012*\"mess\" + 0.012*\"absence\" + 0.012*\"ed\" + 0.012*\"kumar\" + 0.010*\"miui\"'),\n",
              " (2,\n",
              "  '0.064*\"midnight\" + 0.062*\"ae\" + 0.029*\"oppoaeoppoaeoppoaeoppoae\" + 0.026*\"oppoae\" + 0.025*\"bulan\" + 0.025*\"hadiah\" + 0.011*\"olsonforthea\" + 0.008*\"reno\" + 0.007*\"footbal\" + 0.007*\"sunday\"')]"
            ]
          },
          "metadata": {},
          "execution_count": 89
        }
      ]
    },
    {
      "cell_type": "code",
      "source": [
        "# Let's try 4 topics\n",
        "ldana = models.LdaModel(corpus=corpusna, num_topics=4, id2word=id2wordna, passes=10)\n",
        "ldana.print_topics()"
      ],
      "metadata": {
        "id": "kZXQuhIk4zGF",
        "colab": {
          "base_uri": "https://localhost:8080/"
        },
        "outputId": "777a7f56-a7f7-4db7-ecd6-2202ba06fa1e"
      },
      "execution_count": 90,
      "outputs": [
        {
          "output_type": "execute_result",
          "data": {
            "text/plain": [
              "[(0,\n",
              "  '0.014*\"nova\" + 0.011*\"zea\" + 0.010*\"fundus\" + 0.010*\"sanction\" + 0.009*\"ericsson\" + 0.009*\"wedomorewednesday\" + 0.009*\"mtn\" + 0.008*\"ban\" + 0.008*\"govern\" + 0.008*\"rct\"'),\n",
              " (1,\n",
              "  '0.106*\"rupiah\" + 0.037*\"idriphone\" + 0.026*\"correctli\" + 0.015*\"stamp\" + 0.015*\"ukrainian\" + 0.012*\"queue\" + 0.012*\"telegram\" + 0.012*\"mail\" + 0.009*\"kyc\" + 0.006*\"idr\"'),\n",
              " (2,\n",
              "  '0.012*\"clickgtgt\" + 0.011*\"summon\" + 0.009*\"jain\" + 0.009*\"furri\" + 0.008*\"kumar\" + 0.008*\"mess\" + 0.008*\"manu\" + 0.008*\"absence\" + 0.008*\"ed\" + 0.008*\"unfold\"'),\n",
              " (3,\n",
              "  '0.067*\"midnight\" + 0.066*\"ae\" + 0.031*\"oppoaeoppoaeoppoaeoppoae\" + 0.027*\"oppoae\" + 0.027*\"hadiah\" + 0.027*\"bulan\" + 0.012*\"olsonforthea\" + 0.008*\"reno\" + 0.008*\"footbal\" + 0.007*\"sunday\"')]"
            ]
          },
          "metadata": {},
          "execution_count": 90
        }
      ]
    },
    {
      "cell_type": "markdown",
      "source": [
        "## Identifying Topics in Each Document"
      ],
      "metadata": {
        "id": "DNNXEH1Q42gv"
      }
    },
    {
      "cell_type": "code",
      "source": [
        "# Our final LDA model (for now)\n",
        "ldana = models.LdaModel(corpus=corpusna, num_topics=4, id2word=id2wordna, passes=20)\n",
        "ldana.print_topics()"
      ],
      "metadata": {
        "id": "FOLPzMti41QC",
        "colab": {
          "base_uri": "https://localhost:8080/"
        },
        "outputId": "ba354121-a353-4b43-a7a5-91a273acd422"
      },
      "execution_count": 91,
      "outputs": [
        {
          "output_type": "execute_result",
          "data": {
            "text/plain": [
              "[(0,\n",
              "  '0.019*\"unfold\" + 0.019*\"hesintoherseason\" + 0.018*\"kilig\" + 0.018*\"chapter\" + 0.009*\"korean\" + 0.009*\"dr\" + 0.009*\"shoe\" + 0.009*\"italian\" + 0.009*\"nigerian\" + 0.009*\"weavon\"'),\n",
              " (1,\n",
              "  '0.017*\"summon\" + 0.016*\"clickgtgt\" + 0.014*\"jain\" + 0.014*\"furri\" + 0.013*\"manu\" + 0.013*\"mess\" + 0.013*\"absence\" + 0.013*\"ed\" + 0.013*\"kumar\" + 0.010*\"miui\"'),\n",
              " (2,\n",
              "  '0.067*\"midnight\" + 0.066*\"ae\" + 0.031*\"oppoaeoppoaeoppoaeoppoae\" + 0.027*\"oppoae\" + 0.027*\"hadiah\" + 0.027*\"bulan\" + 0.012*\"olsonforthea\" + 0.008*\"reno\" + 0.008*\"footbal\" + 0.007*\"sunday\"'),\n",
              " (3,\n",
              "  '0.030*\"rupiah\" + 0.012*\"nova\" + 0.010*\"idriphone\" + 0.009*\"zea\" + 0.008*\"fundus\" + 0.008*\"sanction\" + 0.008*\"ericsson\" + 0.007*\"correctli\" + 0.007*\"wedomorewednesday\" + 0.007*\"mtn\"')]"
            ]
          },
          "metadata": {},
          "execution_count": 91
        }
      ]
    },
    {
      "cell_type": "code",
      "source": [
        "# Let's take a look at which topics each transcript contains\n",
        "corpus_transformed = ldana[corpusna]\n",
        "list(zip([a for [(a,b)] in corpus_transformed], data_dtmna.index))"
      ],
      "metadata": {
        "id": "zuOhvRIg5E0_",
        "colab": {
          "base_uri": "https://localhost:8080/"
        },
        "outputId": "48c5432b-5f28-423e-d9db-ffcc0933c6ec"
      },
      "execution_count": 92,
      "outputs": [
        {
          "output_type": "execute_result",
          "data": {
            "text/plain": [
              "[(3, 'iPhone'), (0, 'Samsung'), (3, 'Huawei'), (1, 'Xiaomi'), (2, 'Oppo')]"
            ]
          },
          "metadata": {},
          "execution_count": 92
        }
      ]
    },
    {
      "cell_type": "markdown",
      "source": [
        "Our analysis shows that different manufacturer are assigned to different topics. For instance we see that Samsung has assigned to topic Unfold, Killing, Korean topics. This shows that the **Unfold** campaign is very succesful and has impacted the target audience. Similarly every manufacturer has some unique topic assigned.\n",
        "SImilarly Oppo also has a topic assigned to **Midnight** which is basically a model and has impacted the target audience.\n",
        "With topic modeling, we found that Huawei is associated with negative sentiments like **ban and sanctions ** which is in senergy with sanctions imposed on Huawei."
      ],
      "metadata": {
        "id": "zOw7b72S096j"
      }
    },
    {
      "cell_type": "markdown",
      "source": [
        "NLP techniques has provided us an oppourtunity to analyize sentiment of people from their Tweets. We have performed several tasks like cleaning the data, organising, visualize and analyize the data. \n",
        "We could get insight which manufacturer had negative sentiments and also found which manufacturer's advertisement campaign had good impact on the people. \n",
        "In future we would like continue our analysis with more than 1 millon tweets that we could not do because of the limitation of time.  "
      ],
      "metadata": {
        "id": "I-n1MwDp3TWz"
      }
    }
  ]
}