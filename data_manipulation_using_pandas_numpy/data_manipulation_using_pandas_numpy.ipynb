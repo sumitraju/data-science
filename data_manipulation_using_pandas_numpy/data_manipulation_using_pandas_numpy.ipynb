{
  "nbformat": 4,
  "nbformat_minor": 0,
  "metadata": {
    "colab": {
      "provenance": [],
      "collapsed_sections": []
    },
    "kernelspec": {
      "name": "python3",
      "display_name": "Python 3"
    },
    "language_info": {
      "name": "python"
    }
  },
  "cells": [
    {
      "cell_type": "markdown",
      "source": [
        "## NumPy\n",
        "Answer the following questions"
      ],
      "metadata": {
        "id": "alCY-wHQdfGZ"
      }
    },
    {
      "cell_type": "markdown",
      "source": [
        "### Create an Array\n",
        "1. Create a 4X2 integer array and print its attributes.\n",
        "\n",
        "  The element must be a type of unsigned int16"
      ],
      "metadata": {
        "id": "4Zv_XnnpdrLF"
      }
    },
    {
      "cell_type": "code",
      "execution_count": null,
      "metadata": {
        "id": "sY3XRkrGdKi8",
        "colab": {
          "base_uri": "https://localhost:8080/"
        },
        "outputId": "8947f6f4-8b36-493b-ce9c-b0eed7322485"
      },
      "outputs": [
        {
          "output_type": "stream",
          "name": "stdout",
          "text": [
            "4X2 Integer Array\n",
            "[[ 2  3]\n",
            " [ 5  7]\n",
            " [22 43]\n",
            " [41 66]]\n",
            "\n",
            " ******** \n",
            "\n",
            "Data Type:\n",
            "int16\n"
          ]
        }
      ],
      "source": [
        "import numpy as np\n",
        "from numpy import *\n",
        "\n",
        "NumArray = np.array([2,3,5,7,22,43,41,66], dtype='int16')\n",
        "NumArray = NumArray.reshape(4, 2)\n",
        "\n",
        "print(\"4X2 Integer Array\")\n",
        "print(NumArray)\n",
        "print(\"\\n ******** \\n\")\n",
        "print(\"Data Type:\")\n",
        "print(NumArray.dtype)"
      ]
    },
    {
      "cell_type": "markdown",
      "source": [
        "### Slice an Array\n",
        "\n",
        "2. Create a 5 rows by 4 columns numpy array of random float32 numbers and extract an array of odd rows and even columns from the numpy array."
      ],
      "metadata": {
        "id": "AJ8KQTJtdsof"
      }
    },
    {
      "cell_type": "code",
      "source": [
        "NumArray = random.rand(5, 4)\n",
        "NumArray = NumArray.astype(float32)\n",
        "print(NumArray.round(4))\n",
        "NumArray.dtype"
      ],
      "metadata": {
        "id": "Wi6iWHyudeJ8",
        "colab": {
          "base_uri": "https://localhost:8080/"
        },
        "outputId": "c0ce1b4d-5313-4ff0-83c3-f906788a3505"
      },
      "execution_count": null,
      "outputs": [
        {
          "output_type": "stream",
          "name": "stdout",
          "text": [
            "[[0.8555 0.3528 0.73   0.252 ]\n",
            " [0.7006 0.588  0.2372 0.1038]\n",
            " [0.7872 0.5305 0.3324 0.6107]\n",
            " [0.487  0.0159 0.1681 0.0944]\n",
            " [0.4737 0.3549 0.4798 0.4423]]\n"
          ]
        },
        {
          "output_type": "execute_result",
          "data": {
            "text/plain": [
              "dtype('float32')"
            ]
          },
          "metadata": {},
          "execution_count": 2
        }
      ]
    },
    {
      "cell_type": "code",
      "source": [
        "#NumArrayOddRow = NumArray[::2]\n",
        "#print(NumArrayOdd)"
      ],
      "metadata": {
        "id": "3D0aglNKWQSp"
      },
      "execution_count": null,
      "outputs": []
    },
    {
      "cell_type": "code",
      "source": [
        "#NumArrayEvenCol = NumArray[:, 1::2]\n",
        "#print(NumArrayEvenCol)"
      ],
      "metadata": {
        "id": "ODj1sXXwXNiP"
      },
      "execution_count": null,
      "outputs": []
    },
    {
      "cell_type": "code",
      "source": [
        "NumArrayEvenRowOddCol = NumArray[::2, 1::2]\n",
        "print(NumArrayEvenRowOddCol)"
      ],
      "metadata": {
        "colab": {
          "base_uri": "https://localhost:8080/"
        },
        "id": "TEZbDGBkYByK",
        "outputId": "6440c956-21b2-4579-b6cf-50a82ef8efed"
      },
      "execution_count": null,
      "outputs": [
        {
          "output_type": "stream",
          "name": "stdout",
          "text": [
            "[[0.3528118  0.25195724]\n",
            " [0.53049105 0.61068285]\n",
            " [0.3548543  0.442345  ]]\n"
          ]
        }
      ]
    },
    {
      "cell_type": "markdown",
      "source": [
        "### 2D Array Manipulation\n",
        "\n",
        "3. Create a two dimensional array of dimension 4 rows by 5 columns with random integers and replace all the values of the second column of the array with value 5."
      ],
      "metadata": {
        "id": "UhUdiPqpd8Ny"
      }
    },
    {
      "cell_type": "code",
      "source": [
        "NumArrayInt=random.randint(1000, size=(4,5))\n",
        "NumArrayInt[:,1]=5\n",
        "NumArrayInt"
      ],
      "metadata": {
        "id": "Q7B1gc2XeB3g",
        "colab": {
          "base_uri": "https://localhost:8080/"
        },
        "outputId": "05f93f6a-01d2-46dd-d0ed-9c61719ab623"
      },
      "execution_count": null,
      "outputs": [
        {
          "output_type": "execute_result",
          "data": {
            "text/plain": [
              "array([[606,   5, 243, 179, 487],\n",
              "       [913,   5, 968, 687, 217],\n",
              "       [648,   5, 337, 388, 747],\n",
              "       [769,   5,  46, 253, 190]])"
            ]
          },
          "metadata": {},
          "execution_count": 6
        }
      ]
    },
    {
      "cell_type": "markdown",
      "source": [
        "### Array Operations\n",
        "\n",
        "4. Add two numpy arrays of random int16 values and take square of each of the element of the resulting array."
      ],
      "metadata": {
        "id": "DiukrlhSeCB6"
      }
    },
    {
      "cell_type": "code",
      "source": [
        "NumArrayInt1=random.randint(20, size=(10)).astype(int16)\n",
        "NumArrayInt2=random.randint(20, size=(10)).astype(int16)\n",
        "print(NumArrayInt1)\n",
        "print(NumArrayInt2)\n",
        "NumArrayIntAdd=NumArrayInt1+NumArrayInt2\n",
        "print(\"----------\")\n",
        "print(NumArrayIntAdd)\n",
        "NumArrayIntSquare=np.square(NumArrayIntAdd)\n",
        "print(\"----------\")\n",
        "print(NumArrayIntSquare)\n"
      ],
      "metadata": {
        "id": "pTKe71MshF4_",
        "colab": {
          "base_uri": "https://localhost:8080/"
        },
        "outputId": "fb478fd7-472f-4b47-ce3f-28d354757caa"
      },
      "execution_count": null,
      "outputs": [
        {
          "output_type": "stream",
          "name": "stdout",
          "text": [
            "[10  3  7 12  0 17 13 12 15  0]\n",
            "[13 14 17  6  5 18 19  8  3 15]\n",
            "----------\n",
            "[23 17 24 18  5 35 32 20 18 15]\n",
            "----------\n",
            "[ 529  289  576  324   25 1225 1024  400  324  225]\n"
          ]
        }
      ]
    },
    {
      "cell_type": "markdown",
      "source": [
        "### Array of Random Numbers\n",
        "\n",
        "5. Generate two numpy lists of 20 random integers each. Create a new numpy list containing odd numbers from the first list and even numbers from the second list."
      ],
      "metadata": {
        "id": "oRk-W78ehGOU"
      }
    },
    {
      "cell_type": "code",
      "source": [
        "NumArrayInt1=random.randint(100, size=(20))\n",
        "NumArrayInt2=random.randint(100, size=(20))\n",
        "\n",
        "\n",
        "OddNumbers = NumArrayInt1[NumArrayInt1%2==1]\n",
        "EvenNumbers = NumArrayInt2[NumArrayInt2%2==0]\n",
        "\n",
        "print(NumArrayInt1)\n",
        "print(OddNumbers)\n",
        "print(\"------------------\")\n",
        "print(NumArrayInt2)\n",
        "print(EvenNumbers)\n",
        "print(\"------New List-----\")\n",
        "\n",
        "NewListOddEven=np.concatenate((OddNumbers, EvenNumbers))\n",
        "print(NewListOddEven)"
      ],
      "metadata": {
        "id": "rM8tfh5yhGf-",
        "colab": {
          "base_uri": "https://localhost:8080/"
        },
        "outputId": "b6155ef6-8341-4aaa-fec1-2caab67a4281"
      },
      "execution_count": null,
      "outputs": [
        {
          "output_type": "stream",
          "name": "stdout",
          "text": [
            "[68 70 71 48 43 38 68 84 46  5 90 30 64 43 70 75 30  8 88 23]\n",
            "[71 43  5 43 75 23]\n",
            "------------------\n",
            "[ 9 32 16 34 45  1 41 99 80 64 19  1  0 68 28 28 73 83 23 40]\n",
            "[32 16 34 80 64  0 68 28 28 40]\n",
            "------New List-----\n",
            "[71 43  5 43 75 23 32 16 34 80 64  0 68 28 28 40]\n"
          ]
        }
      ]
    },
    {
      "cell_type": "markdown",
      "source": [
        "# Data Manipulation using Pandas\n",
        "\n",
        "\n",
        "We will use the dataset from https://archive.ics.uci.edu/ml/datasets/bank+marketing for this assignment. \n",
        "\n",
        "You will click on the data folder link to download bank.zip file."
      ],
      "metadata": {
        "id": "Y67lZsq8exlN"
      }
    },
    {
      "cell_type": "markdown",
      "source": [
        "### Data IO\n",
        "a. Unzip the **bank.zip** file.\n",
        "\n",
        "b. Upload **bank.csv** on github.\n",
        "\n",
        "c. Import the file using url on github in a DataFrame named **bank**.\n",
        "\n",
        "d. Note that the delimiter is a semi-colon and not comma."
      ],
      "metadata": {
        "id": "naoVY3n_eakQ"
      }
    },
    {
      "cell_type": "code",
      "source": [
        "import os\n",
        "import pandas as pd\n",
        "from pandas import DataFrame\n",
        "\n",
        "gitHubFile ='https://raw.githubusercontent.com/sumitraju/BA2-Class/main/Class-2/Bank/bank.csv'\n",
        "\n",
        "bank = pd.read_csv(gitHubFile, sep=';')\n",
        "bank.head()"
      ],
      "metadata": {
        "id": "DcclZ5eOgFSe",
        "colab": {
          "base_uri": "https://localhost:8080/",
          "height": 270
        },
        "outputId": "3adcd3f5-ef14-40fd-8371-4b4ae4f4a911"
      },
      "execution_count": null,
      "outputs": [
        {
          "output_type": "execute_result",
          "data": {
            "text/html": [
              "\n",
              "  <div id=\"df-4dd2f4a4-a6e1-4bb2-97eb-02c8930213cf\">\n",
              "    <div class=\"colab-df-container\">\n",
              "      <div>\n",
              "<style scoped>\n",
              "    .dataframe tbody tr th:only-of-type {\n",
              "        vertical-align: middle;\n",
              "    }\n",
              "\n",
              "    .dataframe tbody tr th {\n",
              "        vertical-align: top;\n",
              "    }\n",
              "\n",
              "    .dataframe thead th {\n",
              "        text-align: right;\n",
              "    }\n",
              "</style>\n",
              "<table border=\"1\" class=\"dataframe\">\n",
              "  <thead>\n",
              "    <tr style=\"text-align: right;\">\n",
              "      <th></th>\n",
              "      <th>age</th>\n",
              "      <th>job</th>\n",
              "      <th>marital</th>\n",
              "      <th>education</th>\n",
              "      <th>default</th>\n",
              "      <th>balance</th>\n",
              "      <th>housing</th>\n",
              "      <th>loan</th>\n",
              "      <th>contact</th>\n",
              "      <th>day</th>\n",
              "      <th>month</th>\n",
              "      <th>duration</th>\n",
              "      <th>campaign</th>\n",
              "      <th>pdays</th>\n",
              "      <th>previous</th>\n",
              "      <th>poutcome</th>\n",
              "      <th>y</th>\n",
              "    </tr>\n",
              "  </thead>\n",
              "  <tbody>\n",
              "    <tr>\n",
              "      <th>0</th>\n",
              "      <td>30</td>\n",
              "      <td>unemployed</td>\n",
              "      <td>married</td>\n",
              "      <td>primary</td>\n",
              "      <td>no</td>\n",
              "      <td>1787</td>\n",
              "      <td>no</td>\n",
              "      <td>no</td>\n",
              "      <td>cellular</td>\n",
              "      <td>19</td>\n",
              "      <td>oct</td>\n",
              "      <td>79</td>\n",
              "      <td>1</td>\n",
              "      <td>-1</td>\n",
              "      <td>0</td>\n",
              "      <td>unknown</td>\n",
              "      <td>no</td>\n",
              "    </tr>\n",
              "    <tr>\n",
              "      <th>1</th>\n",
              "      <td>33</td>\n",
              "      <td>services</td>\n",
              "      <td>married</td>\n",
              "      <td>secondary</td>\n",
              "      <td>no</td>\n",
              "      <td>4789</td>\n",
              "      <td>yes</td>\n",
              "      <td>yes</td>\n",
              "      <td>cellular</td>\n",
              "      <td>11</td>\n",
              "      <td>may</td>\n",
              "      <td>220</td>\n",
              "      <td>1</td>\n",
              "      <td>339</td>\n",
              "      <td>4</td>\n",
              "      <td>failure</td>\n",
              "      <td>no</td>\n",
              "    </tr>\n",
              "    <tr>\n",
              "      <th>2</th>\n",
              "      <td>35</td>\n",
              "      <td>management</td>\n",
              "      <td>single</td>\n",
              "      <td>tertiary</td>\n",
              "      <td>no</td>\n",
              "      <td>1350</td>\n",
              "      <td>yes</td>\n",
              "      <td>no</td>\n",
              "      <td>cellular</td>\n",
              "      <td>16</td>\n",
              "      <td>apr</td>\n",
              "      <td>185</td>\n",
              "      <td>1</td>\n",
              "      <td>330</td>\n",
              "      <td>1</td>\n",
              "      <td>failure</td>\n",
              "      <td>no</td>\n",
              "    </tr>\n",
              "    <tr>\n",
              "      <th>3</th>\n",
              "      <td>30</td>\n",
              "      <td>management</td>\n",
              "      <td>married</td>\n",
              "      <td>tertiary</td>\n",
              "      <td>no</td>\n",
              "      <td>1476</td>\n",
              "      <td>yes</td>\n",
              "      <td>yes</td>\n",
              "      <td>unknown</td>\n",
              "      <td>3</td>\n",
              "      <td>jun</td>\n",
              "      <td>199</td>\n",
              "      <td>4</td>\n",
              "      <td>-1</td>\n",
              "      <td>0</td>\n",
              "      <td>unknown</td>\n",
              "      <td>no</td>\n",
              "    </tr>\n",
              "    <tr>\n",
              "      <th>4</th>\n",
              "      <td>59</td>\n",
              "      <td>blue-collar</td>\n",
              "      <td>married</td>\n",
              "      <td>secondary</td>\n",
              "      <td>no</td>\n",
              "      <td>0</td>\n",
              "      <td>yes</td>\n",
              "      <td>no</td>\n",
              "      <td>unknown</td>\n",
              "      <td>5</td>\n",
              "      <td>may</td>\n",
              "      <td>226</td>\n",
              "      <td>1</td>\n",
              "      <td>-1</td>\n",
              "      <td>0</td>\n",
              "      <td>unknown</td>\n",
              "      <td>no</td>\n",
              "    </tr>\n",
              "  </tbody>\n",
              "</table>\n",
              "</div>\n",
              "      <button class=\"colab-df-convert\" onclick=\"convertToInteractive('df-4dd2f4a4-a6e1-4bb2-97eb-02c8930213cf')\"\n",
              "              title=\"Convert this dataframe to an interactive table.\"\n",
              "              style=\"display:none;\">\n",
              "        \n",
              "  <svg xmlns=\"http://www.w3.org/2000/svg\" height=\"24px\"viewBox=\"0 0 24 24\"\n",
              "       width=\"24px\">\n",
              "    <path d=\"M0 0h24v24H0V0z\" fill=\"none\"/>\n",
              "    <path d=\"M18.56 5.44l.94 2.06.94-2.06 2.06-.94-2.06-.94-.94-2.06-.94 2.06-2.06.94zm-11 1L8.5 8.5l.94-2.06 2.06-.94-2.06-.94L8.5 2.5l-.94 2.06-2.06.94zm10 10l.94 2.06.94-2.06 2.06-.94-2.06-.94-.94-2.06-.94 2.06-2.06.94z\"/><path d=\"M17.41 7.96l-1.37-1.37c-.4-.4-.92-.59-1.43-.59-.52 0-1.04.2-1.43.59L10.3 9.45l-7.72 7.72c-.78.78-.78 2.05 0 2.83L4 21.41c.39.39.9.59 1.41.59.51 0 1.02-.2 1.41-.59l7.78-7.78 2.81-2.81c.8-.78.8-2.07 0-2.86zM5.41 20L4 18.59l7.72-7.72 1.47 1.35L5.41 20z\"/>\n",
              "  </svg>\n",
              "      </button>\n",
              "      \n",
              "  <style>\n",
              "    .colab-df-container {\n",
              "      display:flex;\n",
              "      flex-wrap:wrap;\n",
              "      gap: 12px;\n",
              "    }\n",
              "\n",
              "    .colab-df-convert {\n",
              "      background-color: #E8F0FE;\n",
              "      border: none;\n",
              "      border-radius: 50%;\n",
              "      cursor: pointer;\n",
              "      display: none;\n",
              "      fill: #1967D2;\n",
              "      height: 32px;\n",
              "      padding: 0 0 0 0;\n",
              "      width: 32px;\n",
              "    }\n",
              "\n",
              "    .colab-df-convert:hover {\n",
              "      background-color: #E2EBFA;\n",
              "      box-shadow: 0px 1px 2px rgba(60, 64, 67, 0.3), 0px 1px 3px 1px rgba(60, 64, 67, 0.15);\n",
              "      fill: #174EA6;\n",
              "    }\n",
              "\n",
              "    [theme=dark] .colab-df-convert {\n",
              "      background-color: #3B4455;\n",
              "      fill: #D2E3FC;\n",
              "    }\n",
              "\n",
              "    [theme=dark] .colab-df-convert:hover {\n",
              "      background-color: #434B5C;\n",
              "      box-shadow: 0px 1px 3px 1px rgba(0, 0, 0, 0.15);\n",
              "      filter: drop-shadow(0px 1px 2px rgba(0, 0, 0, 0.3));\n",
              "      fill: #FFFFFF;\n",
              "    }\n",
              "  </style>\n",
              "\n",
              "      <script>\n",
              "        const buttonEl =\n",
              "          document.querySelector('#df-4dd2f4a4-a6e1-4bb2-97eb-02c8930213cf button.colab-df-convert');\n",
              "        buttonEl.style.display =\n",
              "          google.colab.kernel.accessAllowed ? 'block' : 'none';\n",
              "\n",
              "        async function convertToInteractive(key) {\n",
              "          const element = document.querySelector('#df-4dd2f4a4-a6e1-4bb2-97eb-02c8930213cf');\n",
              "          const dataTable =\n",
              "            await google.colab.kernel.invokeFunction('convertToInteractive',\n",
              "                                                     [key], {});\n",
              "          if (!dataTable) return;\n",
              "\n",
              "          const docLinkHtml = 'Like what you see? Visit the ' +\n",
              "            '<a target=\"_blank\" href=https://colab.research.google.com/notebooks/data_table.ipynb>data table notebook</a>'\n",
              "            + ' to learn more about interactive tables.';\n",
              "          element.innerHTML = '';\n",
              "          dataTable['output_type'] = 'display_data';\n",
              "          await google.colab.output.renderOutput(dataTable, element);\n",
              "          const docLink = document.createElement('div');\n",
              "          docLink.innerHTML = docLinkHtml;\n",
              "          element.appendChild(docLink);\n",
              "        }\n",
              "      </script>\n",
              "    </div>\n",
              "  </div>\n",
              "  "
            ],
            "text/plain": [
              "   age          job  marital  education  ... pdays  previous poutcome   y\n",
              "0   30   unemployed  married    primary  ...    -1         0  unknown  no\n",
              "1   33     services  married  secondary  ...   339         4  failure  no\n",
              "2   35   management   single   tertiary  ...   330         1  failure  no\n",
              "3   30   management  married   tertiary  ...    -1         0  unknown  no\n",
              "4   59  blue-collar  married  secondary  ...    -1         0  unknown  no\n",
              "\n",
              "[5 rows x 17 columns]"
            ]
          },
          "metadata": {},
          "execution_count": 9
        }
      ]
    },
    {
      "cell_type": "code",
      "source": [
        "bank.shape"
      ],
      "metadata": {
        "colab": {
          "base_uri": "https://localhost:8080/"
        },
        "id": "WCb3r8Ol6jl9",
        "outputId": "7270eb1f-81fd-43a3-f1eb-d65fcc7e00ff"
      },
      "execution_count": null,
      "outputs": [
        {
          "output_type": "execute_result",
          "data": {
            "text/plain": [
              "(4521, 17)"
            ]
          },
          "metadata": {},
          "execution_count": 10
        }
      ]
    },
    {
      "cell_type": "markdown",
      "source": [
        "### Magic Command\n",
        "\n",
        "a. Create a new folder named **data** in Google Colab. Use magic command **mkdir**.\n",
        "\n",
        "b. Create a copy of DataFrame in the new folder as **bank01.csv**"
      ],
      "metadata": {
        "id": "Fmsq9Z7EdWHH"
      }
    },
    {
      "cell_type": "code",
      "source": [
        "!mkdir data\n",
        "\n",
        "bank.to_csv('./data/bank01.csv')"
      ],
      "metadata": {
        "id": "FcUFl5RUgaGb"
      },
      "execution_count": null,
      "outputs": []
    },
    {
      "cell_type": "markdown",
      "source": [
        "## DataFrame Subsetting\n",
        "\n",
        "a. Extract a DataFrame of records with **management** and **entrepreneur** job category only."
      ],
      "metadata": {
        "id": "DZ-LzIYZgaPC"
      }
    },
    {
      "cell_type": "code",
      "source": [
        "DataFrameJob = bank.loc[(bank['job'] == 'management') | (bank['job'] == 'entrepreneur')]\n",
        "DataFrameJob.shape"
      ],
      "metadata": {
        "id": "HS0CUuDLgn1P",
        "colab": {
          "base_uri": "https://localhost:8080/"
        },
        "outputId": "5915ef0f-d5af-470d-b79e-3c670de6e237"
      },
      "execution_count": null,
      "outputs": [
        {
          "output_type": "execute_result",
          "data": {
            "text/plain": [
              "(1137, 17)"
            ]
          },
          "metadata": {},
          "execution_count": 12
        }
      ]
    },
    {
      "cell_type": "code",
      "source": [
        "\n",
        "DataFrameJob.describe(include='object')"
      ],
      "metadata": {
        "colab": {
          "base_uri": "https://localhost:8080/",
          "height": 175
        },
        "id": "aMSaCHnn8lvu",
        "outputId": "e253b682-3930-4d99-b90c-3924c42ff3c3"
      },
      "execution_count": null,
      "outputs": [
        {
          "output_type": "execute_result",
          "data": {
            "text/html": [
              "\n",
              "  <div id=\"df-ff0ea8f6-695d-43b5-a8b3-6a8528d54b7e\">\n",
              "    <div class=\"colab-df-container\">\n",
              "      <div>\n",
              "<style scoped>\n",
              "    .dataframe tbody tr th:only-of-type {\n",
              "        vertical-align: middle;\n",
              "    }\n",
              "\n",
              "    .dataframe tbody tr th {\n",
              "        vertical-align: top;\n",
              "    }\n",
              "\n",
              "    .dataframe thead th {\n",
              "        text-align: right;\n",
              "    }\n",
              "</style>\n",
              "<table border=\"1\" class=\"dataframe\">\n",
              "  <thead>\n",
              "    <tr style=\"text-align: right;\">\n",
              "      <th></th>\n",
              "      <th>job</th>\n",
              "      <th>marital</th>\n",
              "      <th>education</th>\n",
              "      <th>default</th>\n",
              "      <th>housing</th>\n",
              "      <th>loan</th>\n",
              "      <th>contact</th>\n",
              "      <th>month</th>\n",
              "      <th>poutcome</th>\n",
              "      <th>y</th>\n",
              "    </tr>\n",
              "  </thead>\n",
              "  <tbody>\n",
              "    <tr>\n",
              "      <th>count</th>\n",
              "      <td>1137</td>\n",
              "      <td>1137</td>\n",
              "      <td>1137</td>\n",
              "      <td>1137</td>\n",
              "      <td>1137</td>\n",
              "      <td>1137</td>\n",
              "      <td>1137</td>\n",
              "      <td>1137</td>\n",
              "      <td>1137</td>\n",
              "      <td>1137</td>\n",
              "    </tr>\n",
              "    <tr>\n",
              "      <th>unique</th>\n",
              "      <td>2</td>\n",
              "      <td>3</td>\n",
              "      <td>4</td>\n",
              "      <td>2</td>\n",
              "      <td>2</td>\n",
              "      <td>2</td>\n",
              "      <td>3</td>\n",
              "      <td>12</td>\n",
              "      <td>4</td>\n",
              "      <td>2</td>\n",
              "    </tr>\n",
              "    <tr>\n",
              "      <th>top</th>\n",
              "      <td>management</td>\n",
              "      <td>married</td>\n",
              "      <td>tertiary</td>\n",
              "      <td>no</td>\n",
              "      <td>yes</td>\n",
              "      <td>no</td>\n",
              "      <td>cellular</td>\n",
              "      <td>may</td>\n",
              "      <td>unknown</td>\n",
              "      <td>no</td>\n",
              "    </tr>\n",
              "    <tr>\n",
              "      <th>freq</th>\n",
              "      <td>969</td>\n",
              "      <td>689</td>\n",
              "      <td>860</td>\n",
              "      <td>1116</td>\n",
              "      <td>597</td>\n",
              "      <td>976</td>\n",
              "      <td>816</td>\n",
              "      <td>279</td>\n",
              "      <td>928</td>\n",
              "      <td>991</td>\n",
              "    </tr>\n",
              "  </tbody>\n",
              "</table>\n",
              "</div>\n",
              "      <button class=\"colab-df-convert\" onclick=\"convertToInteractive('df-ff0ea8f6-695d-43b5-a8b3-6a8528d54b7e')\"\n",
              "              title=\"Convert this dataframe to an interactive table.\"\n",
              "              style=\"display:none;\">\n",
              "        \n",
              "  <svg xmlns=\"http://www.w3.org/2000/svg\" height=\"24px\"viewBox=\"0 0 24 24\"\n",
              "       width=\"24px\">\n",
              "    <path d=\"M0 0h24v24H0V0z\" fill=\"none\"/>\n",
              "    <path d=\"M18.56 5.44l.94 2.06.94-2.06 2.06-.94-2.06-.94-.94-2.06-.94 2.06-2.06.94zm-11 1L8.5 8.5l.94-2.06 2.06-.94-2.06-.94L8.5 2.5l-.94 2.06-2.06.94zm10 10l.94 2.06.94-2.06 2.06-.94-2.06-.94-.94-2.06-.94 2.06-2.06.94z\"/><path d=\"M17.41 7.96l-1.37-1.37c-.4-.4-.92-.59-1.43-.59-.52 0-1.04.2-1.43.59L10.3 9.45l-7.72 7.72c-.78.78-.78 2.05 0 2.83L4 21.41c.39.39.9.59 1.41.59.51 0 1.02-.2 1.41-.59l7.78-7.78 2.81-2.81c.8-.78.8-2.07 0-2.86zM5.41 20L4 18.59l7.72-7.72 1.47 1.35L5.41 20z\"/>\n",
              "  </svg>\n",
              "      </button>\n",
              "      \n",
              "  <style>\n",
              "    .colab-df-container {\n",
              "      display:flex;\n",
              "      flex-wrap:wrap;\n",
              "      gap: 12px;\n",
              "    }\n",
              "\n",
              "    .colab-df-convert {\n",
              "      background-color: #E8F0FE;\n",
              "      border: none;\n",
              "      border-radius: 50%;\n",
              "      cursor: pointer;\n",
              "      display: none;\n",
              "      fill: #1967D2;\n",
              "      height: 32px;\n",
              "      padding: 0 0 0 0;\n",
              "      width: 32px;\n",
              "    }\n",
              "\n",
              "    .colab-df-convert:hover {\n",
              "      background-color: #E2EBFA;\n",
              "      box-shadow: 0px 1px 2px rgba(60, 64, 67, 0.3), 0px 1px 3px 1px rgba(60, 64, 67, 0.15);\n",
              "      fill: #174EA6;\n",
              "    }\n",
              "\n",
              "    [theme=dark] .colab-df-convert {\n",
              "      background-color: #3B4455;\n",
              "      fill: #D2E3FC;\n",
              "    }\n",
              "\n",
              "    [theme=dark] .colab-df-convert:hover {\n",
              "      background-color: #434B5C;\n",
              "      box-shadow: 0px 1px 3px 1px rgba(0, 0, 0, 0.15);\n",
              "      filter: drop-shadow(0px 1px 2px rgba(0, 0, 0, 0.3));\n",
              "      fill: #FFFFFF;\n",
              "    }\n",
              "  </style>\n",
              "\n",
              "      <script>\n",
              "        const buttonEl =\n",
              "          document.querySelector('#df-ff0ea8f6-695d-43b5-a8b3-6a8528d54b7e button.colab-df-convert');\n",
              "        buttonEl.style.display =\n",
              "          google.colab.kernel.accessAllowed ? 'block' : 'none';\n",
              "\n",
              "        async function convertToInteractive(key) {\n",
              "          const element = document.querySelector('#df-ff0ea8f6-695d-43b5-a8b3-6a8528d54b7e');\n",
              "          const dataTable =\n",
              "            await google.colab.kernel.invokeFunction('convertToInteractive',\n",
              "                                                     [key], {});\n",
              "          if (!dataTable) return;\n",
              "\n",
              "          const docLinkHtml = 'Like what you see? Visit the ' +\n",
              "            '<a target=\"_blank\" href=https://colab.research.google.com/notebooks/data_table.ipynb>data table notebook</a>'\n",
              "            + ' to learn more about interactive tables.';\n",
              "          element.innerHTML = '';\n",
              "          dataTable['output_type'] = 'display_data';\n",
              "          await google.colab.output.renderOutput(dataTable, element);\n",
              "          const docLink = document.createElement('div');\n",
              "          docLink.innerHTML = docLinkHtml;\n",
              "          element.appendChild(docLink);\n",
              "        }\n",
              "      </script>\n",
              "    </div>\n",
              "  </div>\n",
              "  "
            ],
            "text/plain": [
              "               job  marital education default  ...   contact month poutcome     y\n",
              "count         1137     1137      1137    1137  ...      1137  1137     1137  1137\n",
              "unique           2        3         4       2  ...         3    12        4     2\n",
              "top     management  married  tertiary      no  ...  cellular   may  unknown    no\n",
              "freq           969      689       860    1116  ...       816   279      928   991\n",
              "\n",
              "[4 rows x 10 columns]"
            ]
          },
          "metadata": {},
          "execution_count": 13
        }
      ]
    }
  ]
}