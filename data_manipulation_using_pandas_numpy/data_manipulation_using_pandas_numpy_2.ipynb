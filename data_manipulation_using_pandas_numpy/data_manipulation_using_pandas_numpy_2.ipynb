{
  "cells": [
    {
      "cell_type": "markdown",
      "metadata": {
        "id": "alCY-wHQdfGZ"
      },
      "source": [
        "## NumPy\n",
        "Answer the following questions"
      ]
    },
    {
      "cell_type": "markdown",
      "metadata": {
        "id": "4Zv_XnnpdrLF"
      },
      "source": [
        "### Create an Array\n",
        "1. Create a 4X2 integer array and print its attributes.\n",
        "\n",
        "  The element must be a type of unsigned int16"
      ]
    },
    {
      "cell_type": "code",
      "execution_count": 1,
      "metadata": {
        "colab": {
          "base_uri": "https://localhost:8080/"
        },
        "id": "sY3XRkrGdKi8",
        "outputId": "8947f6f4-8b36-493b-ce9c-b0eed7322485"
      },
      "outputs": [
        {
          "name": "stdout",
          "output_type": "stream",
          "text": [
            "4X2 Integer Array\n",
            "[[ 2  3]\n",
            " [ 5  7]\n",
            " [22 43]\n",
            " [41 66]]\n",
            "\n",
            " ******** \n",
            "\n",
            "Data Type:\n",
            "int16\n"
          ]
        }
      ],
      "source": [
        "import numpy as np\n",
        "from numpy import *\n",
        "\n",
        "NumArray = np.array([2,3,5,7,22,43,41,66], dtype='int16')\n",
        "NumArray = NumArray.reshape(4, 2)\n",
        "\n",
        "print(\"4X2 Integer Array\")\n",
        "print(NumArray)\n",
        "print(\"\\n ******** \\n\")\n",
        "print(\"Data Type:\")\n",
        "print(NumArray.dtype)"
      ]
    },
    {
      "cell_type": "markdown",
      "metadata": {
        "id": "AJ8KQTJtdsof"
      },
      "source": [
        "### Slice an Array\n",
        "\n",
        "2. Create a 5 rows by 4 columns numpy array of random float32 numbers and extract an array of odd rows and even columns from the numpy array."
      ]
    },
    {
      "cell_type": "code",
      "execution_count": 2,
      "metadata": {
        "colab": {
          "base_uri": "https://localhost:8080/"
        },
        "id": "Wi6iWHyudeJ8",
        "outputId": "c0ce1b4d-5313-4ff0-83c3-f906788a3505"
      },
      "outputs": [
        {
          "name": "stdout",
          "output_type": "stream",
          "text": [
            "[[0.8207 0.3652 0.172  0.1304]\n",
            " [0.5291 0.3    0.9551 0.116 ]\n",
            " [0.7842 0.2447 0.682  0.3028]\n",
            " [0.6145 0.2999 0.1012 0.1627]\n",
            " [0.0564 0.3284 0.3185 0.6949]]\n"
          ]
        },
        {
          "data": {
            "text/plain": [
              "dtype('float32')"
            ]
          },
          "execution_count": 2,
          "metadata": {},
          "output_type": "execute_result"
        }
      ],
      "source": [
        "NumArray = random.rand(5, 4)\n",
        "NumArray = NumArray.astype(float32)\n",
        "print(NumArray.round(4))\n",
        "NumArray.dtype"
      ]
    },
    {
      "cell_type": "code",
      "execution_count": 3,
      "metadata": {
        "id": "3D0aglNKWQSp"
      },
      "outputs": [],
      "source": [
        "#NumArrayOddRow = NumArray[::2]\n",
        "#print(NumArrayOdd)"
      ]
    },
    {
      "cell_type": "code",
      "execution_count": 4,
      "metadata": {
        "id": "ODj1sXXwXNiP"
      },
      "outputs": [],
      "source": [
        "#NumArrayEvenCol = NumArray[:, 1::2]\n",
        "#print(NumArrayEvenCol)"
      ]
    },
    {
      "cell_type": "code",
      "execution_count": 5,
      "metadata": {
        "colab": {
          "base_uri": "https://localhost:8080/"
        },
        "id": "TEZbDGBkYByK",
        "outputId": "6440c956-21b2-4579-b6cf-50a82ef8efed"
      },
      "outputs": [
        {
          "name": "stdout",
          "output_type": "stream",
          "text": [
            "[[0.3651531  0.13035114]\n",
            " [0.24470253 0.30275318]\n",
            " [0.32843414 0.69488645]]\n"
          ]
        }
      ],
      "source": [
        "NumArrayEvenRowOddCol = NumArray[::2, 1::2]\n",
        "print(NumArrayEvenRowOddCol)"
      ]
    },
    {
      "cell_type": "markdown",
      "metadata": {
        "id": "UhUdiPqpd8Ny"
      },
      "source": [
        "### 2D Array Manipulation\n",
        "\n",
        "3. Create a two dimensional array of dimension 4 rows by 5 columns with random integers and replace all the values of the second column of the array with value 5."
      ]
    },
    {
      "cell_type": "code",
      "execution_count": 6,
      "metadata": {
        "colab": {
          "base_uri": "https://localhost:8080/"
        },
        "id": "Q7B1gc2XeB3g",
        "outputId": "05f93f6a-01d2-46dd-d0ed-9c61719ab623"
      },
      "outputs": [
        {
          "data": {
            "text/plain": [
              "array([[762,   5, 927, 942, 627],\n",
              "       [624,   5,   9, 955, 850],\n",
              "       [735,   5, 364, 962, 681],\n",
              "       [675,   5, 627, 832,  45]])"
            ]
          },
          "execution_count": 6,
          "metadata": {},
          "output_type": "execute_result"
        }
      ],
      "source": [
        "NumArrayInt=random.randint(1000, size=(4,5))\n",
        "NumArrayInt[:,1]=5\n",
        "NumArrayInt"
      ]
    },
    {
      "cell_type": "markdown",
      "metadata": {
        "id": "DiukrlhSeCB6"
      },
      "source": [
        "### Array Operations\n",
        "\n",
        "4. Add two numpy arrays of random int16 values and take square of each of the element of the resulting array."
      ]
    },
    {
      "cell_type": "code",
      "execution_count": 7,
      "metadata": {
        "colab": {
          "base_uri": "https://localhost:8080/"
        },
        "id": "pTKe71MshF4_",
        "outputId": "fb478fd7-472f-4b47-ce3f-28d354757caa"
      },
      "outputs": [
        {
          "name": "stdout",
          "output_type": "stream",
          "text": [
            "[14 14 14  0  6 19 19 15 13  2]\n",
            "[13 11 19  9  7 10 16 12  4  5]\n",
            "----------\n",
            "[27 25 33  9 13 29 35 27 17  7]\n",
            "----------\n",
            "[ 729  625 1089   81  169  841 1225  729  289   49]\n"
          ]
        }
      ],
      "source": [
        "NumArrayInt1=random.randint(20, size=(10)).astype(int16)\n",
        "NumArrayInt2=random.randint(20, size=(10)).astype(int16)\n",
        "print(NumArrayInt1)\n",
        "print(NumArrayInt2)\n",
        "NumArrayIntAdd=NumArrayInt1+NumArrayInt2\n",
        "print(\"----------\")\n",
        "print(NumArrayIntAdd)\n",
        "NumArrayIntSquare=np.square(NumArrayIntAdd)\n",
        "print(\"----------\")\n",
        "print(NumArrayIntSquare)\n"
      ]
    },
    {
      "cell_type": "markdown",
      "metadata": {
        "id": "oRk-W78ehGOU"
      },
      "source": [
        "### Array of Random Numbers\n",
        "\n",
        "5. Generate two numpy lists of 20 random integers each. Create a new numpy list containing odd numbers from the first list and even numbers from the second list."
      ]
    },
    {
      "cell_type": "code",
      "execution_count": 8,
      "metadata": {
        "colab": {
          "base_uri": "https://localhost:8080/"
        },
        "id": "rM8tfh5yhGf-",
        "outputId": "b6155ef6-8341-4aaa-fec1-2caab67a4281"
      },
      "outputs": [
        {
          "name": "stdout",
          "output_type": "stream",
          "text": [
            "[31 83 41 91 63 19  5 51 76 85 94 37 25 62 75  2 18 27 67 74]\n",
            "[31 83 41 91 63 19  5 51 85 37 25 75 27 67]\n",
            "------------------\n",
            "[22 48 64 99 11 57 35 75 44 54 17 74 16 34 92 53  4 97 27  3]\n",
            "[22 48 64 44 54 74 16 34 92  4]\n",
            "------New List-----\n",
            "[31 83 41 91 63 19  5 51 85 37 25 75 27 67 22 48 64 44 54 74 16 34 92  4]\n"
          ]
        }
      ],
      "source": [
        "NumArrayInt1=random.randint(100, size=(20))\n",
        "NumArrayInt2=random.randint(100, size=(20))\n",
        "\n",
        "\n",
        "OddNumbers = NumArrayInt1[NumArrayInt1%2==1]\n",
        "EvenNumbers = NumArrayInt2[NumArrayInt2%2==0]\n",
        "\n",
        "print(NumArrayInt1)\n",
        "print(OddNumbers)\n",
        "print(\"------------------\")\n",
        "print(NumArrayInt2)\n",
        "print(EvenNumbers)\n",
        "print(\"------New List-----\")\n",
        "\n",
        "NewListOddEven=np.concatenate((OddNumbers, EvenNumbers))\n",
        "print(NewListOddEven)"
      ]
    },
    {
      "cell_type": "markdown",
      "metadata": {
        "id": "Y67lZsq8exlN"
      },
      "source": [
        "# Data Manipulation using Pandas\n",
        "\n",
        "\n",
        "We will use the dataset from https://archive.ics.uci.edu/ml/datasets/bank+marketing for this assignment. \n",
        "\n",
        "You will click on the data folder link to download bank.zip file."
      ]
    },
    {
      "cell_type": "markdown",
      "metadata": {
        "id": "naoVY3n_eakQ"
      },
      "source": [
        "### Data IO\n",
        "a. Unzip the **bank.zip** file.\n",
        "\n",
        "b. Upload **bank.csv** on github.\n",
        "\n",
        "c. Import the file using url on github in a DataFrame named **bank**.\n",
        "\n",
        "d. Note that the delimiter is a semi-colon and not comma."
      ]
    },
    {
      "cell_type": "code",
      "execution_count": 9,
      "metadata": {
        "colab": {
          "base_uri": "https://localhost:8080/",
          "height": 270
        },
        "id": "DcclZ5eOgFSe",
        "outputId": "3adcd3f5-ef14-40fd-8371-4b4ae4f4a911"
      },
      "outputs": [
        {
          "data": {
            "text/html": [
              "<div>\n",
              "<style scoped>\n",
              "    .dataframe tbody tr th:only-of-type {\n",
              "        vertical-align: middle;\n",
              "    }\n",
              "\n",
              "    .dataframe tbody tr th {\n",
              "        vertical-align: top;\n",
              "    }\n",
              "\n",
              "    .dataframe thead th {\n",
              "        text-align: right;\n",
              "    }\n",
              "</style>\n",
              "<table border=\"1\" class=\"dataframe\">\n",
              "  <thead>\n",
              "    <tr style=\"text-align: right;\">\n",
              "      <th></th>\n",
              "      <th>age</th>\n",
              "      <th>job</th>\n",
              "      <th>marital</th>\n",
              "      <th>education</th>\n",
              "      <th>default</th>\n",
              "      <th>balance</th>\n",
              "      <th>housing</th>\n",
              "      <th>loan</th>\n",
              "      <th>contact</th>\n",
              "      <th>day</th>\n",
              "      <th>month</th>\n",
              "      <th>duration</th>\n",
              "      <th>campaign</th>\n",
              "      <th>pdays</th>\n",
              "      <th>previous</th>\n",
              "      <th>poutcome</th>\n",
              "      <th>y</th>\n",
              "    </tr>\n",
              "  </thead>\n",
              "  <tbody>\n",
              "    <tr>\n",
              "      <th>0</th>\n",
              "      <td>30</td>\n",
              "      <td>unemployed</td>\n",
              "      <td>married</td>\n",
              "      <td>primary</td>\n",
              "      <td>no</td>\n",
              "      <td>1787</td>\n",
              "      <td>no</td>\n",
              "      <td>no</td>\n",
              "      <td>cellular</td>\n",
              "      <td>19</td>\n",
              "      <td>oct</td>\n",
              "      <td>79</td>\n",
              "      <td>1</td>\n",
              "      <td>-1</td>\n",
              "      <td>0</td>\n",
              "      <td>unknown</td>\n",
              "      <td>no</td>\n",
              "    </tr>\n",
              "    <tr>\n",
              "      <th>1</th>\n",
              "      <td>33</td>\n",
              "      <td>services</td>\n",
              "      <td>married</td>\n",
              "      <td>secondary</td>\n",
              "      <td>no</td>\n",
              "      <td>4789</td>\n",
              "      <td>yes</td>\n",
              "      <td>yes</td>\n",
              "      <td>cellular</td>\n",
              "      <td>11</td>\n",
              "      <td>may</td>\n",
              "      <td>220</td>\n",
              "      <td>1</td>\n",
              "      <td>339</td>\n",
              "      <td>4</td>\n",
              "      <td>failure</td>\n",
              "      <td>no</td>\n",
              "    </tr>\n",
              "    <tr>\n",
              "      <th>2</th>\n",
              "      <td>35</td>\n",
              "      <td>management</td>\n",
              "      <td>single</td>\n",
              "      <td>tertiary</td>\n",
              "      <td>no</td>\n",
              "      <td>1350</td>\n",
              "      <td>yes</td>\n",
              "      <td>no</td>\n",
              "      <td>cellular</td>\n",
              "      <td>16</td>\n",
              "      <td>apr</td>\n",
              "      <td>185</td>\n",
              "      <td>1</td>\n",
              "      <td>330</td>\n",
              "      <td>1</td>\n",
              "      <td>failure</td>\n",
              "      <td>no</td>\n",
              "    </tr>\n",
              "    <tr>\n",
              "      <th>3</th>\n",
              "      <td>30</td>\n",
              "      <td>management</td>\n",
              "      <td>married</td>\n",
              "      <td>tertiary</td>\n",
              "      <td>no</td>\n",
              "      <td>1476</td>\n",
              "      <td>yes</td>\n",
              "      <td>yes</td>\n",
              "      <td>unknown</td>\n",
              "      <td>3</td>\n",
              "      <td>jun</td>\n",
              "      <td>199</td>\n",
              "      <td>4</td>\n",
              "      <td>-1</td>\n",
              "      <td>0</td>\n",
              "      <td>unknown</td>\n",
              "      <td>no</td>\n",
              "    </tr>\n",
              "    <tr>\n",
              "      <th>4</th>\n",
              "      <td>59</td>\n",
              "      <td>blue-collar</td>\n",
              "      <td>married</td>\n",
              "      <td>secondary</td>\n",
              "      <td>no</td>\n",
              "      <td>0</td>\n",
              "      <td>yes</td>\n",
              "      <td>no</td>\n",
              "      <td>unknown</td>\n",
              "      <td>5</td>\n",
              "      <td>may</td>\n",
              "      <td>226</td>\n",
              "      <td>1</td>\n",
              "      <td>-1</td>\n",
              "      <td>0</td>\n",
              "      <td>unknown</td>\n",
              "      <td>no</td>\n",
              "    </tr>\n",
              "  </tbody>\n",
              "</table>\n",
              "</div>"
            ],
            "text/plain": [
              "   age          job  marital  education default  balance housing loan  \\\n",
              "0   30   unemployed  married    primary      no     1787      no   no   \n",
              "1   33     services  married  secondary      no     4789     yes  yes   \n",
              "2   35   management   single   tertiary      no     1350     yes   no   \n",
              "3   30   management  married   tertiary      no     1476     yes  yes   \n",
              "4   59  blue-collar  married  secondary      no        0     yes   no   \n",
              "\n",
              "    contact  day month  duration  campaign  pdays  previous poutcome   y  \n",
              "0  cellular   19   oct        79         1     -1         0  unknown  no  \n",
              "1  cellular   11   may       220         1    339         4  failure  no  \n",
              "2  cellular   16   apr       185         1    330         1  failure  no  \n",
              "3   unknown    3   jun       199         4     -1         0  unknown  no  \n",
              "4   unknown    5   may       226         1     -1         0  unknown  no  "
            ]
          },
          "execution_count": 9,
          "metadata": {},
          "output_type": "execute_result"
        }
      ],
      "source": [
        "import os\n",
        "import pandas as pd\n",
        "from pandas import DataFrame\n",
        "\n",
        "gitHubFile ='https://raw.githubusercontent.com/sumitraju/data-science/main/data_manipulation_using_pandas_numpy/data/bank.csv'\n",
        "\n",
        "bank = pd.read_csv(gitHubFile, sep=';')\n",
        "bank.head()"
      ]
    },
    {
      "cell_type": "code",
      "execution_count": 10,
      "metadata": {
        "colab": {
          "base_uri": "https://localhost:8080/"
        },
        "id": "WCb3r8Ol6jl9",
        "outputId": "7270eb1f-81fd-43a3-f1eb-d65fcc7e00ff"
      },
      "outputs": [
        {
          "data": {
            "text/plain": [
              "(4521, 17)"
            ]
          },
          "execution_count": 10,
          "metadata": {},
          "output_type": "execute_result"
        }
      ],
      "source": [
        "bank.shape"
      ]
    },
    {
      "cell_type": "markdown",
      "metadata": {
        "id": "Fmsq9Z7EdWHH"
      },
      "source": [
        "### Magic Command\n",
        "\n",
        "a. Create a new folder named **data** in Google Colab. Use magic command **mkdir**.\n",
        "\n",
        "b. Create a copy of DataFrame in the new folder as **bank01.csv**"
      ]
    },
    {
      "cell_type": "code",
      "execution_count": 11,
      "metadata": {
        "id": "FcUFl5RUgaGb"
      },
      "outputs": [
        {
          "name": "stderr",
          "output_type": "stream",
          "text": [
            "A subdirectory or file data already exists.\n"
          ]
        }
      ],
      "source": [
        "!mkdir data\n",
        "\n",
        "bank.to_csv('./data/bank01.csv')"
      ]
    },
    {
      "cell_type": "markdown",
      "metadata": {
        "id": "DZ-LzIYZgaPC"
      },
      "source": [
        "## DataFrame Subsetting\n",
        "\n",
        "a. Extract a DataFrame of records with **management** and **entrepreneur** job category only."
      ]
    },
    {
      "cell_type": "code",
      "execution_count": 12,
      "metadata": {
        "colab": {
          "base_uri": "https://localhost:8080/"
        },
        "id": "HS0CUuDLgn1P",
        "outputId": "5915ef0f-d5af-470d-b79e-3c670de6e237"
      },
      "outputs": [
        {
          "data": {
            "text/plain": [
              "(1137, 17)"
            ]
          },
          "execution_count": 12,
          "metadata": {},
          "output_type": "execute_result"
        }
      ],
      "source": [
        "DataFrameJob = bank.loc[(bank['job'] == 'management') | (bank['job'] == 'entrepreneur')]\n",
        "DataFrameJob.shape"
      ]
    },
    {
      "cell_type": "code",
      "execution_count": 13,
      "metadata": {
        "colab": {
          "base_uri": "https://localhost:8080/",
          "height": 175
        },
        "id": "aMSaCHnn8lvu",
        "outputId": "e253b682-3930-4d99-b90c-3924c42ff3c3"
      },
      "outputs": [
        {
          "data": {
            "text/html": [
              "<div>\n",
              "<style scoped>\n",
              "    .dataframe tbody tr th:only-of-type {\n",
              "        vertical-align: middle;\n",
              "    }\n",
              "\n",
              "    .dataframe tbody tr th {\n",
              "        vertical-align: top;\n",
              "    }\n",
              "\n",
              "    .dataframe thead th {\n",
              "        text-align: right;\n",
              "    }\n",
              "</style>\n",
              "<table border=\"1\" class=\"dataframe\">\n",
              "  <thead>\n",
              "    <tr style=\"text-align: right;\">\n",
              "      <th></th>\n",
              "      <th>job</th>\n",
              "      <th>marital</th>\n",
              "      <th>education</th>\n",
              "      <th>default</th>\n",
              "      <th>housing</th>\n",
              "      <th>loan</th>\n",
              "      <th>contact</th>\n",
              "      <th>month</th>\n",
              "      <th>poutcome</th>\n",
              "      <th>y</th>\n",
              "    </tr>\n",
              "  </thead>\n",
              "  <tbody>\n",
              "    <tr>\n",
              "      <th>count</th>\n",
              "      <td>1137</td>\n",
              "      <td>1137</td>\n",
              "      <td>1137</td>\n",
              "      <td>1137</td>\n",
              "      <td>1137</td>\n",
              "      <td>1137</td>\n",
              "      <td>1137</td>\n",
              "      <td>1137</td>\n",
              "      <td>1137</td>\n",
              "      <td>1137</td>\n",
              "    </tr>\n",
              "    <tr>\n",
              "      <th>unique</th>\n",
              "      <td>2</td>\n",
              "      <td>3</td>\n",
              "      <td>4</td>\n",
              "      <td>2</td>\n",
              "      <td>2</td>\n",
              "      <td>2</td>\n",
              "      <td>3</td>\n",
              "      <td>12</td>\n",
              "      <td>4</td>\n",
              "      <td>2</td>\n",
              "    </tr>\n",
              "    <tr>\n",
              "      <th>top</th>\n",
              "      <td>management</td>\n",
              "      <td>married</td>\n",
              "      <td>tertiary</td>\n",
              "      <td>no</td>\n",
              "      <td>yes</td>\n",
              "      <td>no</td>\n",
              "      <td>cellular</td>\n",
              "      <td>may</td>\n",
              "      <td>unknown</td>\n",
              "      <td>no</td>\n",
              "    </tr>\n",
              "    <tr>\n",
              "      <th>freq</th>\n",
              "      <td>969</td>\n",
              "      <td>689</td>\n",
              "      <td>860</td>\n",
              "      <td>1116</td>\n",
              "      <td>597</td>\n",
              "      <td>976</td>\n",
              "      <td>816</td>\n",
              "      <td>279</td>\n",
              "      <td>928</td>\n",
              "      <td>991</td>\n",
              "    </tr>\n",
              "  </tbody>\n",
              "</table>\n",
              "</div>"
            ],
            "text/plain": [
              "               job  marital education default housing  loan   contact month  \\\n",
              "count         1137     1137      1137    1137    1137  1137      1137  1137   \n",
              "unique           2        3         4       2       2     2         3    12   \n",
              "top     management  married  tertiary      no     yes    no  cellular   may   \n",
              "freq           969      689       860    1116     597   976       816   279   \n",
              "\n",
              "       poutcome     y  \n",
              "count      1137  1137  \n",
              "unique        4     2  \n",
              "top     unknown    no  \n",
              "freq        928   991  "
            ]
          },
          "execution_count": 13,
          "metadata": {},
          "output_type": "execute_result"
        }
      ],
      "source": [
        "\n",
        "DataFrameJob.describe(include='object')"
      ]
    }
  ],
  "metadata": {
    "colab": {
      "collapsed_sections": [],
      "provenance": []
    },
    "kernelspec": {
      "display_name": "Python 3.9.8 64-bit",
      "language": "python",
      "name": "python3"
    },
    "language_info": {
      "codemirror_mode": {
        "name": "ipython",
        "version": 3
      },
      "file_extension": ".py",
      "mimetype": "text/x-python",
      "name": "python",
      "nbconvert_exporter": "python",
      "pygments_lexer": "ipython3",
      "version": "3.9.8"
    },
    "vscode": {
      "interpreter": {
        "hash": "a153b24b7be182ffe9ad34cbe4e2fd92a12934083bdbc60746e07359531e99bd"
      }
    }
  },
  "nbformat": 4,
  "nbformat_minor": 0
}
