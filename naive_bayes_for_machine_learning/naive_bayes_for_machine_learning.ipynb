{
  "cells": [
    {
      "cell_type": "markdown",
      "metadata": {
        "id": "4iUxOFhBLJrP"
      },
      "source": [
        "## Naive Bayes for Machine Learning\n",
        "Dataset: pima-indian-diabetes dataset\n",
        "\n",
        "### Naive Bayes (Regular - Discrete)\n",
        "### Naive Bayes (Gaussian - Continuous)\n",
        "### Naive Bayes (Multinomial - Frequency)"
      ]
    },
    {
      "cell_type": "markdown",
      "metadata": {
        "id": "HnTcvbCoZzpU"
      },
      "source": [
        "Feature Space is not about occurence or not occurence of an event:\n",
        "\n",
        "\n",
        "Spam Classifier: ($: 1 - 0), (Lottery) Regular\n",
        "\n",
        "Spam Classifier: ($: 0-1-2-3-4), Multinomial Bayes Classifier\n",
        "\n",
        "IRIS Flower classifier: Length and width of the petals & Sepals. (Mu and Sigma)"
      ]
    },
    {
      "cell_type": "markdown",
      "metadata": {
        "id": "vjhYP4rVLJrS"
      },
      "source": [
        "### Dataset: https://raw.githubusercontent.com/sumitraju/data-science/main/naive_bayes_for_machine_learning/data/pima-indians-diabetes.data.csv"
      ]
    },
    {
      "cell_type": "markdown",
      "metadata": {
        "id": "1G8us2ejLJrT"
      },
      "source": [
        "#### The datasets consists of several medical predictor variables and one target variable, Outcome. Predictor variables includes the number of pregnancies the patient has had, their BMI, insulin level, age, and so on.\n",
        "\n",
        " -  Pregnancies: Number of times pregnant <br>\n",
        " -  Glucose: Plasma glucose concentration a 2 hours in an oral glucose tolerance test <br>\n",
        " -  BloodPressure: Diastolic blood pressure (mm Hg) <br>\n",
        " -  SkinThickness: Triceps skin fold thickness (mm) <br>\n",
        " -  Insulin: 2-Hour serum insulin (mu U/ml) <br>\n",
        " -  BMI: Body mass index (weight in kg/(height in m)^2) <br>\n",
        " -  DiabetesPedigreeFunction: Diabetes pedigree function <br>\n",
        " -  Age: Age (years) <br>\n",
        " -  Outcome: Class variable (0 or 1) <br>"
      ]
    },
    {
      "cell_type": "code",
      "execution_count": 1,
      "metadata": {
        "id": "MtWwuSqgLJrU"
      },
      "outputs": [],
      "source": [
        "# import dependencies\n",
        "import numpy as np\n",
        "import pandas as pd\n",
        "\n",
        "# other dependencies for publishing image in notebook\n",
        "from IPython.display import Image\n",
        "from IPython.core.display import HTML \n",
        "%matplotlib  inline"
      ]
    },
    {
      "cell_type": "code",
      "execution_count": 2,
      "metadata": {
        "id": "Sx3VRGT3LJrV"
      },
      "outputs": [],
      "source": [
        "# column has all the name of column name \n",
        "# our data is stored in dataframe: data\n",
        "\n",
        "column = [\"Pregnancies\",\"Glucose\",\"BloodPressure\",\"SkinThickness\",\"Insulin\",\"BMI\",\"DiabetesPedigreeFunction\",\"Age\",\"Outcome\"]\n",
        "data = pd.read_csv('https://raw.githubusercontent.com/sumitraju/data-science/main/naive_bayes_for_machine_learning/data/pima-indians-diabetes.data.csv',names=column)"
      ]
    },
    {
      "cell_type": "code",
      "execution_count": 3,
      "metadata": {
        "colab": {
          "base_uri": "https://localhost:8080/",
          "height": 206
        },
        "id": "uAINYYo2LJrW",
        "outputId": "be5f66db-6eec-45f4-dca4-56abab3fdfbe"
      },
      "outputs": [
        {
          "data": {
            "text/html": [
              "\n",
              "  <div id=\"df-95f4303d-457c-4c8b-8d72-014650c98eb6\">\n",
              "    <div class=\"colab-df-container\">\n",
              "      <div>\n",
              "<style scoped>\n",
              "    .dataframe tbody tr th:only-of-type {\n",
              "        vertical-align: middle;\n",
              "    }\n",
              "\n",
              "    .dataframe tbody tr th {\n",
              "        vertical-align: top;\n",
              "    }\n",
              "\n",
              "    .dataframe thead th {\n",
              "        text-align: right;\n",
              "    }\n",
              "</style>\n",
              "<table border=\"1\" class=\"dataframe\">\n",
              "  <thead>\n",
              "    <tr style=\"text-align: right;\">\n",
              "      <th></th>\n",
              "      <th>Pregnancies</th>\n",
              "      <th>Glucose</th>\n",
              "      <th>BloodPressure</th>\n",
              "      <th>SkinThickness</th>\n",
              "      <th>Insulin</th>\n",
              "      <th>BMI</th>\n",
              "      <th>DiabetesPedigreeFunction</th>\n",
              "      <th>Age</th>\n",
              "      <th>Outcome</th>\n",
              "    </tr>\n",
              "  </thead>\n",
              "  <tbody>\n",
              "    <tr>\n",
              "      <th>0</th>\n",
              "      <td>6</td>\n",
              "      <td>148</td>\n",
              "      <td>72</td>\n",
              "      <td>35</td>\n",
              "      <td>0</td>\n",
              "      <td>33.6</td>\n",
              "      <td>0.627</td>\n",
              "      <td>50</td>\n",
              "      <td>1</td>\n",
              "    </tr>\n",
              "    <tr>\n",
              "      <th>1</th>\n",
              "      <td>1</td>\n",
              "      <td>85</td>\n",
              "      <td>66</td>\n",
              "      <td>29</td>\n",
              "      <td>0</td>\n",
              "      <td>26.6</td>\n",
              "      <td>0.351</td>\n",
              "      <td>31</td>\n",
              "      <td>0</td>\n",
              "    </tr>\n",
              "    <tr>\n",
              "      <th>2</th>\n",
              "      <td>8</td>\n",
              "      <td>183</td>\n",
              "      <td>64</td>\n",
              "      <td>0</td>\n",
              "      <td>0</td>\n",
              "      <td>23.3</td>\n",
              "      <td>0.672</td>\n",
              "      <td>32</td>\n",
              "      <td>1</td>\n",
              "    </tr>\n",
              "    <tr>\n",
              "      <th>3</th>\n",
              "      <td>1</td>\n",
              "      <td>89</td>\n",
              "      <td>66</td>\n",
              "      <td>23</td>\n",
              "      <td>94</td>\n",
              "      <td>28.1</td>\n",
              "      <td>0.167</td>\n",
              "      <td>21</td>\n",
              "      <td>0</td>\n",
              "    </tr>\n",
              "    <tr>\n",
              "      <th>4</th>\n",
              "      <td>0</td>\n",
              "      <td>137</td>\n",
              "      <td>40</td>\n",
              "      <td>35</td>\n",
              "      <td>168</td>\n",
              "      <td>43.1</td>\n",
              "      <td>2.288</td>\n",
              "      <td>33</td>\n",
              "      <td>1</td>\n",
              "    </tr>\n",
              "  </tbody>\n",
              "</table>\n",
              "</div>\n",
              "      <button class=\"colab-df-convert\" onclick=\"convertToInteractive('df-95f4303d-457c-4c8b-8d72-014650c98eb6')\"\n",
              "              title=\"Convert this dataframe to an interactive table.\"\n",
              "              style=\"display:none;\">\n",
              "        \n",
              "  <svg xmlns=\"http://www.w3.org/2000/svg\" height=\"24px\"viewBox=\"0 0 24 24\"\n",
              "       width=\"24px\">\n",
              "    <path d=\"M0 0h24v24H0V0z\" fill=\"none\"/>\n",
              "    <path d=\"M18.56 5.44l.94 2.06.94-2.06 2.06-.94-2.06-.94-.94-2.06-.94 2.06-2.06.94zm-11 1L8.5 8.5l.94-2.06 2.06-.94-2.06-.94L8.5 2.5l-.94 2.06-2.06.94zm10 10l.94 2.06.94-2.06 2.06-.94-2.06-.94-.94-2.06-.94 2.06-2.06.94z\"/><path d=\"M17.41 7.96l-1.37-1.37c-.4-.4-.92-.59-1.43-.59-.52 0-1.04.2-1.43.59L10.3 9.45l-7.72 7.72c-.78.78-.78 2.05 0 2.83L4 21.41c.39.39.9.59 1.41.59.51 0 1.02-.2 1.41-.59l7.78-7.78 2.81-2.81c.8-.78.8-2.07 0-2.86zM5.41 20L4 18.59l7.72-7.72 1.47 1.35L5.41 20z\"/>\n",
              "  </svg>\n",
              "      </button>\n",
              "      \n",
              "  <style>\n",
              "    .colab-df-container {\n",
              "      display:flex;\n",
              "      flex-wrap:wrap;\n",
              "      gap: 12px;\n",
              "    }\n",
              "\n",
              "    .colab-df-convert {\n",
              "      background-color: #E8F0FE;\n",
              "      border: none;\n",
              "      border-radius: 50%;\n",
              "      cursor: pointer;\n",
              "      display: none;\n",
              "      fill: #1967D2;\n",
              "      height: 32px;\n",
              "      padding: 0 0 0 0;\n",
              "      width: 32px;\n",
              "    }\n",
              "\n",
              "    .colab-df-convert:hover {\n",
              "      background-color: #E2EBFA;\n",
              "      box-shadow: 0px 1px 2px rgba(60, 64, 67, 0.3), 0px 1px 3px 1px rgba(60, 64, 67, 0.15);\n",
              "      fill: #174EA6;\n",
              "    }\n",
              "\n",
              "    [theme=dark] .colab-df-convert {\n",
              "      background-color: #3B4455;\n",
              "      fill: #D2E3FC;\n",
              "    }\n",
              "\n",
              "    [theme=dark] .colab-df-convert:hover {\n",
              "      background-color: #434B5C;\n",
              "      box-shadow: 0px 1px 3px 1px rgba(0, 0, 0, 0.15);\n",
              "      filter: drop-shadow(0px 1px 2px rgba(0, 0, 0, 0.3));\n",
              "      fill: #FFFFFF;\n",
              "    }\n",
              "  </style>\n",
              "\n",
              "      <script>\n",
              "        const buttonEl =\n",
              "          document.querySelector('#df-95f4303d-457c-4c8b-8d72-014650c98eb6 button.colab-df-convert');\n",
              "        buttonEl.style.display =\n",
              "          google.colab.kernel.accessAllowed ? 'block' : 'none';\n",
              "\n",
              "        async function convertToInteractive(key) {\n",
              "          const element = document.querySelector('#df-95f4303d-457c-4c8b-8d72-014650c98eb6');\n",
              "          const dataTable =\n",
              "            await google.colab.kernel.invokeFunction('convertToInteractive',\n",
              "                                                     [key], {});\n",
              "          if (!dataTable) return;\n",
              "\n",
              "          const docLinkHtml = 'Like what you see? Visit the ' +\n",
              "            '<a target=\"_blank\" href=https://colab.research.google.com/notebooks/data_table.ipynb>data table notebook</a>'\n",
              "            + ' to learn more about interactive tables.';\n",
              "          element.innerHTML = '';\n",
              "          dataTable['output_type'] = 'display_data';\n",
              "          await google.colab.output.renderOutput(dataTable, element);\n",
              "          const docLink = document.createElement('div');\n",
              "          docLink.innerHTML = docLinkHtml;\n",
              "          element.appendChild(docLink);\n",
              "        }\n",
              "      </script>\n",
              "    </div>\n",
              "  </div>\n",
              "  "
            ],
            "text/plain": [
              "   Pregnancies  Glucose  BloodPressure  SkinThickness  Insulin   BMI  \\\n",
              "0            6      148             72             35        0  33.6   \n",
              "1            1       85             66             29        0  26.6   \n",
              "2            8      183             64              0        0  23.3   \n",
              "3            1       89             66             23       94  28.1   \n",
              "4            0      137             40             35      168  43.1   \n",
              "\n",
              "   DiabetesPedigreeFunction  Age  Outcome  \n",
              "0                     0.627   50        1  \n",
              "1                     0.351   31        0  \n",
              "2                     0.672   32        1  \n",
              "3                     0.167   21        0  \n",
              "4                     2.288   33        1  "
            ]
          },
          "execution_count": 3,
          "metadata": {},
          "output_type": "execute_result"
        }
      ],
      "source": [
        "data.head()"
      ]
    },
    {
      "cell_type": "markdown",
      "metadata": {
        "id": "k18tMRYnNv__"
      },
      "source": [
        "## Bayesian formula\n",
        "\n",
        "![Naive Bayes Formula](https://raw.githubusercontent.com/dearbharat/NBBayes/main/bayes.PNG)"
      ]
    },
    {
      "cell_type": "markdown",
      "metadata": {
        "id": "7kylv_zrLJrX"
      },
      "source": [
        "*Where*,\n",
        " - P(c|x) is the posterior probability of class c given predictor ( features).\n",
        " - P(c) is the probability of class.\n",
        " - P(x|c) is the likelihood which is the probability of predictor given class.\n",
        " - P(x) is the prior probability of predictor."
      ]
    },
    {
      "cell_type": "markdown",
      "metadata": {
        "id": "OFkzok9cLJra"
      },
      "source": [
        "### In a bayes classifier, we calculate the posterior for every class for each observation. Then, classify the observation based on the class with the largest posterior value. we have two classes of outcome So we will calculate two posteriors: one for Outcome 1 and one for Outcome 0."
      ]
    },
    {
      "cell_type": "markdown",
      "metadata": {
        "id": "bR9Ui0DpLJrc"
      },
      "source": [
        "# Gaussian Naive Bayes Classifier"
      ]
    },
    {
      "cell_type": "markdown",
      "metadata": {
        "id": "SoUX3yGIP-4U"
      },
      "source": [
        "# Outcome column has two sets namely Outcome 1 and outcome 0\n",
        "# Naive bayesian of outcome1 is\n",
        "![Outcome1](https://raw.githubusercontent.com/dearbharat/NBBayes/main/outcome1.PNG)"
      ]
    },
    {
      "cell_type": "markdown",
      "metadata": {
        "id": "IOa7hKjtQaTk"
      },
      "source": [
        "![Outcome1](https://raw.githubusercontent.com/dearbharat/NBBayes/main/outcome0.PNG)"
      ]
    },
    {
      "cell_type": "markdown",
      "metadata": {
        "id": "FtJ58m-oLJre"
      },
      "source": [
        "## Now simplify the equation above:\n",
        "\n",
        " - P(Outcome1)is the prior probabilities. It is, as you can see, simply the probability an observation is \"1\" . This is just the number of person of outcome1 in the dataset divided by the total number of people in the dataset. <br><br>\n",
        "\n",
        " - p(pregnancies∣outcome1) * p(Glucose∣Outcome1) * p(Blood Pressure∣Outcome1)...  is the likelihood. Notice that we have unpacked person’s data. so it is now every feature in the dataset. The “gaussian” and “naive” come from two assumptions present in this likelihood: <br><br>  \n",
        " \n",
        " -  If you look each term in the likelihood you will notice that we assume each feature is uncorrelated from each other. That is, Pregnancies is independent of Glucose or BMI etc.. This is obviously not true, and is a “naive” assumption - hence the name “naive bayes.” <br><br>\n"
      ]
    },
    {
      "cell_type": "markdown",
      "metadata": {
        "id": "rP6llJquLJre"
      },
      "source": [
        " ##### ------------------------------------------------------------------------------------------------------------------------------------------------------------------\n",
        " \n",
        "## as the formula our goal is divided into 5 types\n",
        "\n",
        "1. Calculate Priors\n",
        "2. Calculate Likelihood\n",
        "3. Calculate Marginal Probability\n",
        "4. Apply Bayes Classifier To New Data Point\n",
        "5. understand what has just happen"
      ]
    },
    {
      "cell_type": "markdown",
      "metadata": {
        "id": "8E3tgHS0LJrf"
      },
      "source": [
        "### 1.Calculate Priors"
      ]
    },
    {
      "cell_type": "markdown",
      "metadata": {
        "id": "GOaVEDGmLJrf"
      },
      "source": [
        "#### Priors can be either constants or probability distributions. In our example, this is simply the probability of outcome of patients. "
      ]
    },
    {
      "cell_type": "code",
      "execution_count": 4,
      "metadata": {
        "colab": {
          "base_uri": "https://localhost:8080/"
        },
        "id": "Auim95VHLJrg",
        "outputId": "ea3197ac-c264-41de-ac1b-6006ef155202"
      },
      "outputs": [
        {
          "data": {
            "text/plain": [
              "268"
            ]
          },
          "execution_count": 4,
          "metadata": {},
          "output_type": "execute_result"
        }
      ],
      "source": [
        "# Number of patients of outcome 1\n",
        "n_outcome1 = data['Outcome'][data['Outcome'] == 1].count()\n",
        "n_outcome1"
      ]
    },
    {
      "cell_type": "code",
      "execution_count": 5,
      "metadata": {
        "colab": {
          "base_uri": "https://localhost:8080/"
        },
        "id": "60QZ39K_W6EZ",
        "outputId": "7adf7246-67a0-4396-ffa2-2d3216380bda"
      },
      "outputs": [
        {
          "data": {
            "text/plain": [
              "500"
            ]
          },
          "execution_count": 5,
          "metadata": {},
          "output_type": "execute_result"
        }
      ],
      "source": [
        "# Number of patients of outcome 0\n",
        "n_outcome0 = data['Outcome'][data['Outcome'] == 0].count()\n",
        "n_outcome0"
      ]
    },
    {
      "cell_type": "code",
      "execution_count": 6,
      "metadata": {
        "colab": {
          "base_uri": "https://localhost:8080/"
        },
        "id": "hL_wmFngW7lg",
        "outputId": "98e20fdc-df2a-41e7-c248-fc5e8cc6c8d1"
      },
      "outputs": [
        {
          "data": {
            "text/plain": [
              "768"
            ]
          },
          "execution_count": 6,
          "metadata": {},
          "output_type": "execute_result"
        }
      ],
      "source": [
        "# Total people\n",
        "total_ppl = data['Outcome'].count()\n",
        "total_ppl"
      ]
    },
    {
      "cell_type": "code",
      "execution_count": 7,
      "metadata": {
        "colab": {
          "base_uri": "https://localhost:8080/"
        },
        "id": "2PM9Bc9GLJrg",
        "outputId": "6855adc1-a08a-4f4a-d86c-3d782154bee7"
      },
      "outputs": [
        {
          "data": {
            "text/plain": [
              "0.3489583333333333"
            ]
          },
          "execution_count": 7,
          "metadata": {},
          "output_type": "execute_result"
        }
      ],
      "source": [
        "# Number of people of outcome1 divided by the total people\n",
        "P_outcome1 = n_outcome1/total_ppl\n",
        "P_outcome1"
      ]
    },
    {
      "cell_type": "code",
      "execution_count": 8,
      "metadata": {
        "colab": {
          "base_uri": "https://localhost:8080/"
        },
        "id": "CNOPZuW4Q2V7",
        "outputId": "e2727c0d-e556-4bd7-f06f-d5bb3c13f6f3"
      },
      "outputs": [
        {
          "data": {
            "text/plain": [
              "0.6510416666666666"
            ]
          },
          "execution_count": 8,
          "metadata": {},
          "output_type": "execute_result"
        }
      ],
      "source": [
        "# Number of people of outcome0 divided by the total people\n",
        "P_outcome0 = n_outcome0/total_ppl\n",
        "P_outcome0"
      ]
    },
    {
      "cell_type": "markdown",
      "metadata": {
        "id": "i0SX2ypaLJrh"
      },
      "source": [
        "### 2.Calculate Likelihood"
      ]
    },
    {
      "cell_type": "markdown",
      "metadata": {
        "id": "xxCzoON0LJrh"
      },
      "source": [
        " - We assume have that the value of the features (e.g. the Pregnancy of Outcome1, the Glucose of Outcome1) are normally (gaussian) distributed. <br><br>\n",
        " -  This means that p (Pregnancy∣Outcome1) is calculated by inputing the required parameters into the probability density function of the normal distribution:<br><br>\n",
        " - Now as per the formula for probability density function, our likelihood will be"
      ]
    },
    {
      "cell_type": "markdown",
      "metadata": {
        "id": "4HJN7rpMQ_6t"
      },
      "source": [
        "# Number of people of outcome0 divided by the total people\n",
        "P_outcome0 = n_outcome0/total_ppl\n",
        "P_outcome0"
      ]
    },
    {
      "cell_type": "markdown",
      "metadata": {
        "id": "vZBEYqG4RFkP"
      },
      "source": [
        "![bay1](https://raw.githubusercontent.com/dearbharat/NBBayes/main/bay1.png)"
      ]
    },
    {
      "cell_type": "code",
      "execution_count": 9,
      "metadata": {
        "colab": {
          "base_uri": "https://localhost:8080/",
          "height": 143
        },
        "id": "VG-shP1sLJri",
        "outputId": "ba0fc18e-b273-4cff-8a1a-a5dd93489af0"
      },
      "outputs": [
        {
          "data": {
            "text/html": [
              "\n",
              "  <div id=\"df-4bcd4fe3-7e64-4e32-993a-dc9825a8e756\">\n",
              "    <div class=\"colab-df-container\">\n",
              "      <div>\n",
              "<style scoped>\n",
              "    .dataframe tbody tr th:only-of-type {\n",
              "        vertical-align: middle;\n",
              "    }\n",
              "\n",
              "    .dataframe tbody tr th {\n",
              "        vertical-align: top;\n",
              "    }\n",
              "\n",
              "    .dataframe thead th {\n",
              "        text-align: right;\n",
              "    }\n",
              "</style>\n",
              "<table border=\"1\" class=\"dataframe\">\n",
              "  <thead>\n",
              "    <tr style=\"text-align: right;\">\n",
              "      <th></th>\n",
              "      <th>Pregnancies</th>\n",
              "      <th>Glucose</th>\n",
              "      <th>BloodPressure</th>\n",
              "      <th>SkinThickness</th>\n",
              "      <th>Insulin</th>\n",
              "      <th>BMI</th>\n",
              "      <th>DiabetesPedigreeFunction</th>\n",
              "      <th>Age</th>\n",
              "    </tr>\n",
              "    <tr>\n",
              "      <th>Outcome</th>\n",
              "      <th></th>\n",
              "      <th></th>\n",
              "      <th></th>\n",
              "      <th></th>\n",
              "      <th></th>\n",
              "      <th></th>\n",
              "      <th></th>\n",
              "      <th></th>\n",
              "    </tr>\n",
              "  </thead>\n",
              "  <tbody>\n",
              "    <tr>\n",
              "      <th>0</th>\n",
              "      <td>3.298000</td>\n",
              "      <td>109.980000</td>\n",
              "      <td>68.184000</td>\n",
              "      <td>19.664000</td>\n",
              "      <td>68.792000</td>\n",
              "      <td>30.304200</td>\n",
              "      <td>0.429734</td>\n",
              "      <td>31.190000</td>\n",
              "    </tr>\n",
              "    <tr>\n",
              "      <th>1</th>\n",
              "      <td>4.865672</td>\n",
              "      <td>141.257463</td>\n",
              "      <td>70.824627</td>\n",
              "      <td>22.164179</td>\n",
              "      <td>100.335821</td>\n",
              "      <td>35.142537</td>\n",
              "      <td>0.550500</td>\n",
              "      <td>37.067164</td>\n",
              "    </tr>\n",
              "  </tbody>\n",
              "</table>\n",
              "</div>\n",
              "      <button class=\"colab-df-convert\" onclick=\"convertToInteractive('df-4bcd4fe3-7e64-4e32-993a-dc9825a8e756')\"\n",
              "              title=\"Convert this dataframe to an interactive table.\"\n",
              "              style=\"display:none;\">\n",
              "        \n",
              "  <svg xmlns=\"http://www.w3.org/2000/svg\" height=\"24px\"viewBox=\"0 0 24 24\"\n",
              "       width=\"24px\">\n",
              "    <path d=\"M0 0h24v24H0V0z\" fill=\"none\"/>\n",
              "    <path d=\"M18.56 5.44l.94 2.06.94-2.06 2.06-.94-2.06-.94-.94-2.06-.94 2.06-2.06.94zm-11 1L8.5 8.5l.94-2.06 2.06-.94-2.06-.94L8.5 2.5l-.94 2.06-2.06.94zm10 10l.94 2.06.94-2.06 2.06-.94-2.06-.94-.94-2.06-.94 2.06-2.06.94z\"/><path d=\"M17.41 7.96l-1.37-1.37c-.4-.4-.92-.59-1.43-.59-.52 0-1.04.2-1.43.59L10.3 9.45l-7.72 7.72c-.78.78-.78 2.05 0 2.83L4 21.41c.39.39.9.59 1.41.59.51 0 1.02-.2 1.41-.59l7.78-7.78 2.81-2.81c.8-.78.8-2.07 0-2.86zM5.41 20L4 18.59l7.72-7.72 1.47 1.35L5.41 20z\"/>\n",
              "  </svg>\n",
              "      </button>\n",
              "      \n",
              "  <style>\n",
              "    .colab-df-container {\n",
              "      display:flex;\n",
              "      flex-wrap:wrap;\n",
              "      gap: 12px;\n",
              "    }\n",
              "\n",
              "    .colab-df-convert {\n",
              "      background-color: #E8F0FE;\n",
              "      border: none;\n",
              "      border-radius: 50%;\n",
              "      cursor: pointer;\n",
              "      display: none;\n",
              "      fill: #1967D2;\n",
              "      height: 32px;\n",
              "      padding: 0 0 0 0;\n",
              "      width: 32px;\n",
              "    }\n",
              "\n",
              "    .colab-df-convert:hover {\n",
              "      background-color: #E2EBFA;\n",
              "      box-shadow: 0px 1px 2px rgba(60, 64, 67, 0.3), 0px 1px 3px 1px rgba(60, 64, 67, 0.15);\n",
              "      fill: #174EA6;\n",
              "    }\n",
              "\n",
              "    [theme=dark] .colab-df-convert {\n",
              "      background-color: #3B4455;\n",
              "      fill: #D2E3FC;\n",
              "    }\n",
              "\n",
              "    [theme=dark] .colab-df-convert:hover {\n",
              "      background-color: #434B5C;\n",
              "      box-shadow: 0px 1px 3px 1px rgba(0, 0, 0, 0.15);\n",
              "      filter: drop-shadow(0px 1px 2px rgba(0, 0, 0, 0.3));\n",
              "      fill: #FFFFFF;\n",
              "    }\n",
              "  </style>\n",
              "\n",
              "      <script>\n",
              "        const buttonEl =\n",
              "          document.querySelector('#df-4bcd4fe3-7e64-4e32-993a-dc9825a8e756 button.colab-df-convert');\n",
              "        buttonEl.style.display =\n",
              "          google.colab.kernel.accessAllowed ? 'block' : 'none';\n",
              "\n",
              "        async function convertToInteractive(key) {\n",
              "          const element = document.querySelector('#df-4bcd4fe3-7e64-4e32-993a-dc9825a8e756');\n",
              "          const dataTable =\n",
              "            await google.colab.kernel.invokeFunction('convertToInteractive',\n",
              "                                                     [key], {});\n",
              "          if (!dataTable) return;\n",
              "\n",
              "          const docLinkHtml = 'Like what you see? Visit the ' +\n",
              "            '<a target=\"_blank\" href=https://colab.research.google.com/notebooks/data_table.ipynb>data table notebook</a>'\n",
              "            + ' to learn more about interactive tables.';\n",
              "          element.innerHTML = '';\n",
              "          dataTable['output_type'] = 'display_data';\n",
              "          await google.colab.output.renderOutput(dataTable, element);\n",
              "          const docLink = document.createElement('div');\n",
              "          docLink.innerHTML = docLinkHtml;\n",
              "          element.appendChild(docLink);\n",
              "        }\n",
              "      </script>\n",
              "    </div>\n",
              "  </div>\n",
              "  "
            ],
            "text/plain": [
              "         Pregnancies     Glucose  BloodPressure  SkinThickness     Insulin  \\\n",
              "Outcome                                                                      \n",
              "0           3.298000  109.980000      68.184000      19.664000   68.792000   \n",
              "1           4.865672  141.257463      70.824627      22.164179  100.335821   \n",
              "\n",
              "               BMI  DiabetesPedigreeFunction        Age  \n",
              "Outcome                                                  \n",
              "0        30.304200                  0.429734  31.190000  \n",
              "1        35.142537                  0.550500  37.067164  "
            ]
          },
          "execution_count": 9,
          "metadata": {},
          "output_type": "execute_result"
        }
      ],
      "source": [
        "# Now first calculate the means of the data according to outcome\n",
        "\n",
        "# Group the data by gender and calculate the means of each feature\n",
        "data_means = data.groupby('Outcome').mean()\n",
        "\n",
        "# View the values\n",
        "data_means"
      ]
    },
    {
      "cell_type": "code",
      "execution_count": 10,
      "metadata": {
        "colab": {
          "base_uri": "https://localhost:8080/",
          "height": 143
        },
        "id": "3rYstMx_LJri",
        "outputId": "db85d242-d3df-4b4a-dc73-777b669dd0a5"
      },
      "outputs": [
        {
          "data": {
            "text/html": [
              "\n",
              "  <div id=\"df-49e4046a-b91b-400d-930c-b2d1a5af7bbc\">\n",
              "    <div class=\"colab-df-container\">\n",
              "      <div>\n",
              "<style scoped>\n",
              "    .dataframe tbody tr th:only-of-type {\n",
              "        vertical-align: middle;\n",
              "    }\n",
              "\n",
              "    .dataframe tbody tr th {\n",
              "        vertical-align: top;\n",
              "    }\n",
              "\n",
              "    .dataframe thead th {\n",
              "        text-align: right;\n",
              "    }\n",
              "</style>\n",
              "<table border=\"1\" class=\"dataframe\">\n",
              "  <thead>\n",
              "    <tr style=\"text-align: right;\">\n",
              "      <th></th>\n",
              "      <th>Pregnancies</th>\n",
              "      <th>Glucose</th>\n",
              "      <th>BloodPressure</th>\n",
              "      <th>SkinThickness</th>\n",
              "      <th>Insulin</th>\n",
              "      <th>BMI</th>\n",
              "      <th>DiabetesPedigreeFunction</th>\n",
              "      <th>Age</th>\n",
              "    </tr>\n",
              "    <tr>\n",
              "      <th>Outcome</th>\n",
              "      <th></th>\n",
              "      <th></th>\n",
              "      <th></th>\n",
              "      <th></th>\n",
              "      <th></th>\n",
              "      <th></th>\n",
              "      <th></th>\n",
              "      <th></th>\n",
              "    </tr>\n",
              "  </thead>\n",
              "  <tbody>\n",
              "    <tr>\n",
              "      <th>0</th>\n",
              "      <td>9.103403</td>\n",
              "      <td>683.362325</td>\n",
              "      <td>326.274693</td>\n",
              "      <td>221.710525</td>\n",
              "      <td>9774.345427</td>\n",
              "      <td>59.133870</td>\n",
              "      <td>0.089452</td>\n",
              "      <td>136.134168</td>\n",
              "    </tr>\n",
              "    <tr>\n",
              "      <th>1</th>\n",
              "      <td>13.996870</td>\n",
              "      <td>1020.139457</td>\n",
              "      <td>461.897968</td>\n",
              "      <td>312.572195</td>\n",
              "      <td>19234.673319</td>\n",
              "      <td>52.750693</td>\n",
              "      <td>0.138648</td>\n",
              "      <td>120.302588</td>\n",
              "    </tr>\n",
              "  </tbody>\n",
              "</table>\n",
              "</div>\n",
              "      <button class=\"colab-df-convert\" onclick=\"convertToInteractive('df-49e4046a-b91b-400d-930c-b2d1a5af7bbc')\"\n",
              "              title=\"Convert this dataframe to an interactive table.\"\n",
              "              style=\"display:none;\">\n",
              "        \n",
              "  <svg xmlns=\"http://www.w3.org/2000/svg\" height=\"24px\"viewBox=\"0 0 24 24\"\n",
              "       width=\"24px\">\n",
              "    <path d=\"M0 0h24v24H0V0z\" fill=\"none\"/>\n",
              "    <path d=\"M18.56 5.44l.94 2.06.94-2.06 2.06-.94-2.06-.94-.94-2.06-.94 2.06-2.06.94zm-11 1L8.5 8.5l.94-2.06 2.06-.94-2.06-.94L8.5 2.5l-.94 2.06-2.06.94zm10 10l.94 2.06.94-2.06 2.06-.94-2.06-.94-.94-2.06-.94 2.06-2.06.94z\"/><path d=\"M17.41 7.96l-1.37-1.37c-.4-.4-.92-.59-1.43-.59-.52 0-1.04.2-1.43.59L10.3 9.45l-7.72 7.72c-.78.78-.78 2.05 0 2.83L4 21.41c.39.39.9.59 1.41.59.51 0 1.02-.2 1.41-.59l7.78-7.78 2.81-2.81c.8-.78.8-2.07 0-2.86zM5.41 20L4 18.59l7.72-7.72 1.47 1.35L5.41 20z\"/>\n",
              "  </svg>\n",
              "      </button>\n",
              "      \n",
              "  <style>\n",
              "    .colab-df-container {\n",
              "      display:flex;\n",
              "      flex-wrap:wrap;\n",
              "      gap: 12px;\n",
              "    }\n",
              "\n",
              "    .colab-df-convert {\n",
              "      background-color: #E8F0FE;\n",
              "      border: none;\n",
              "      border-radius: 50%;\n",
              "      cursor: pointer;\n",
              "      display: none;\n",
              "      fill: #1967D2;\n",
              "      height: 32px;\n",
              "      padding: 0 0 0 0;\n",
              "      width: 32px;\n",
              "    }\n",
              "\n",
              "    .colab-df-convert:hover {\n",
              "      background-color: #E2EBFA;\n",
              "      box-shadow: 0px 1px 2px rgba(60, 64, 67, 0.3), 0px 1px 3px 1px rgba(60, 64, 67, 0.15);\n",
              "      fill: #174EA6;\n",
              "    }\n",
              "\n",
              "    [theme=dark] .colab-df-convert {\n",
              "      background-color: #3B4455;\n",
              "      fill: #D2E3FC;\n",
              "    }\n",
              "\n",
              "    [theme=dark] .colab-df-convert:hover {\n",
              "      background-color: #434B5C;\n",
              "      box-shadow: 0px 1px 3px 1px rgba(0, 0, 0, 0.15);\n",
              "      filter: drop-shadow(0px 1px 2px rgba(0, 0, 0, 0.3));\n",
              "      fill: #FFFFFF;\n",
              "    }\n",
              "  </style>\n",
              "\n",
              "      <script>\n",
              "        const buttonEl =\n",
              "          document.querySelector('#df-49e4046a-b91b-400d-930c-b2d1a5af7bbc button.colab-df-convert');\n",
              "        buttonEl.style.display =\n",
              "          google.colab.kernel.accessAllowed ? 'block' : 'none';\n",
              "\n",
              "        async function convertToInteractive(key) {\n",
              "          const element = document.querySelector('#df-49e4046a-b91b-400d-930c-b2d1a5af7bbc');\n",
              "          const dataTable =\n",
              "            await google.colab.kernel.invokeFunction('convertToInteractive',\n",
              "                                                     [key], {});\n",
              "          if (!dataTable) return;\n",
              "\n",
              "          const docLinkHtml = 'Like what you see? Visit the ' +\n",
              "            '<a target=\"_blank\" href=https://colab.research.google.com/notebooks/data_table.ipynb>data table notebook</a>'\n",
              "            + ' to learn more about interactive tables.';\n",
              "          element.innerHTML = '';\n",
              "          dataTable['output_type'] = 'display_data';\n",
              "          await google.colab.output.renderOutput(dataTable, element);\n",
              "          const docLink = document.createElement('div');\n",
              "          docLink.innerHTML = docLinkHtml;\n",
              "          element.appendChild(docLink);\n",
              "        }\n",
              "      </script>\n",
              "    </div>\n",
              "  </div>\n",
              "  "
            ],
            "text/plain": [
              "         Pregnancies      Glucose  BloodPressure  SkinThickness       Insulin  \\\n",
              "Outcome                                                                         \n",
              "0           9.103403   683.362325     326.274693     221.710525   9774.345427   \n",
              "1          13.996870  1020.139457     461.897968     312.572195  19234.673319   \n",
              "\n",
              "               BMI  DiabetesPedigreeFunction         Age  \n",
              "Outcome                                                   \n",
              "0        59.133870                  0.089452  136.134168  \n",
              "1        52.750693                  0.138648  120.302588  "
            ]
          },
          "execution_count": 10,
          "metadata": {},
          "output_type": "execute_result"
        }
      ],
      "source": [
        "# Second calculate the variance of the data according to outcome\n",
        "\n",
        "# Group the data by gender and calculate the variance of each feature\n",
        "data_variance = data.groupby('Outcome').var()\n",
        "\n",
        "# View the values\n",
        "data_variance"
      ]
    },
    {
      "cell_type": "markdown",
      "metadata": {
        "id": "1J3EgaV1LJri"
      },
      "source": [
        " #### so you have got the means and variance of the data.\n",
        " now just as this formula is for one feature:"
      ]
    },
    {
      "cell_type": "markdown",
      "metadata": {
        "id": "MfVekhLOSE1E"
      },
      "source": [
        "![bay1](https://raw.githubusercontent.com/dearbharat/NBBayes/main/bay1.png)"
      ]
    },
    {
      "cell_type": "markdown",
      "metadata": {
        "id": "Z3F5ApjlLJrk"
      },
      "source": [
        "##### we have to find the values of all the features and to find it, we have to calculate the mean and variance of all the features."
      ]
    },
    {
      "cell_type": "code",
      "execution_count": 11,
      "metadata": {
        "id": "eJ9kZMKGLJrk"
      },
      "outputs": [],
      "source": [
        "# Means for outcome1 for all features\n",
        "outcome1_Pregnancies_mean = data_means['Pregnancies'][data_variance.index == 1].values[0]\n",
        "outcome1_Glucose_mean = data_means['Glucose'][data_variance.index == 1].values[0]\n",
        "outcome1_BloodPressure_mean = data_means['BloodPressure'][data_variance.index == 1].values[0]\n",
        "outcome1_SkinThickness_mean = data_means['SkinThickness'][data_variance.index == 1].values[0]\n",
        "outcome1_Insulin_mean = data_means['Insulin'][data_variance.index == 1].values[0]\n",
        "outcome1_BMI_mean = data_means['BMI'][data_variance.index == 1].values[0]\n",
        "outcome1_DiabetesPedigreeFunction_mean = data_means['DiabetesPedigreeFunction'][data_variance.index == 1].values[0]\n",
        "outcome1_Age_mean = data_means['Age'][data_variance.index == 1].values[0]\n",
        "\n",
        "\n",
        "# Variance for outcome1 for all features\n",
        "outcome1_Pregnancies_variance = data_variance['Pregnancies'][data_variance.index == 1].values[0]\n",
        "outcome1_Glucose_variance= data_variance['Glucose'][data_variance.index == 1].values[0]\n",
        "outcome1_BloodPressure_variance = data_variance['BloodPressure'][data_variance.index == 1].values[0]\n",
        "outcome1_SkinThickness_variance = data_variance['SkinThickness'][data_variance.index == 1].values[0]\n",
        "outcome1_Insulin_variance = data_variance['Insulin'][data_variance.index == 1].values[0]\n",
        "outcome1_BMI_variance = data_variance['BMI'][data_variance.index == 1].values[0]\n",
        "outcome1_DiabetesPedigreeFunction_variance = data_variance['DiabetesPedigreeFunction'][data_variance.index == 1].values[0]\n",
        "outcome1_Age_variance = data_variance['Age'][data_variance.index == 1].values[0]\n",
        "\n",
        "# Means for outcome0 for all features\n",
        "outcome0_Pregnancies_mean = data_means['Pregnancies'][data_variance.index == 0].values[0]\n",
        "outcome0_Glucose_mean = data_means['Glucose'][data_variance.index == 0].values[0]\n",
        "outcome0_BloodPressure_mean = data_means['BloodPressure'][data_variance.index == 0].values[0]\n",
        "outcome0_SkinThickness_mean = data_means['SkinThickness'][data_variance.index == 0].values[0]\n",
        "outcome0_Insulin_mean = data_means['Insulin'][data_variance.index == 0].values[0]\n",
        "outcome0_BMI_mean = data_means['BMI'][data_variance.index == 0].values[0]\n",
        "outcome0_DiabetesPedigreeFunction_mean = data_means['DiabetesPedigreeFunction'][data_variance.index == 0].values[0]\n",
        "outcome0_Age_mean = data_means['Age'][data_variance.index == 0].values[0]\n",
        "\n",
        "# Variance for outcome0 for all features\n",
        "outcome0_Pregnancies_variance = data_variance['Pregnancies'][data_variance.index == 0].values[0]\n",
        "outcome0_Glucose_variance = data_variance['Glucose'][data_variance.index == 0].values[0]\n",
        "outcome0_BloodPressure_variance = data_variance['BloodPressure'][data_variance.index == 0].values[0]\n",
        "outcome0_SkinThickness_variance = data_variance['SkinThickness'][data_variance.index == 0].values[0]\n",
        "outcome0_Insulin_variance = data_variance['Insulin'][data_variance.index == 0].values[0]\n",
        "outcome0_BMI_variance = data_variance['BMI'][data_variance.index == 0].values[0]\n",
        "outcome0_DiabetesPedigreeFunction_variance = data_variance['DiabetesPedigreeFunction'][data_variance.index == 0].values[0]\n",
        "outcome0_Age_variance = data_variance['Age'][data_variance.index == 0].values[0]"
      ]
    },
    {
      "cell_type": "markdown",
      "metadata": {
        "id": "BNbaulvQLJrk"
      },
      "source": [
        "### 3.Marginal probability"
      ]
    },
    {
      "cell_type": "markdown",
      "metadata": {
        "id": "38ak4ZvNLJrk"
      },
      "source": [
        "##### It is probably one of the most confusing parts of bayesian approaches. In some examples it is completely possible to calculate the marginal probability. \n",
        "##### However, in many real-world cases, it is either extremely difficult or impossible to find the value of the marginal probability (explaining why is beyond the scope of this tutorial). \n",
        "##### This is not as much of a problem for our classifier as you might think. Why? Because we don’t care what the true posterior value is, we only care which class has a the highest posterior value.\n",
        "##### And because the marginal probability is the same for all classes \n",
        "1) we can ignore the denominator <br><br>\n",
        "2) calculate only the posterior’s numerator for each class  <br><br>\n",
        "3) pick the largest numerator. That is, we can ignore the posterior’s denominator and make a prediction solely on the relative values of the posterior’s numerator.<br><br>"
      ]
    },
    {
      "cell_type": "markdown",
      "metadata": {
        "id": "io42xGMxLJrl"
      },
      "source": [
        "### 4. Apply Bayes Classifier To New Data Point"
      ]
    },
    {
      "cell_type": "code",
      "execution_count": 12,
      "metadata": {
        "colab": {
          "base_uri": "https://localhost:8080/",
          "height": 81
        },
        "id": "4FY46bKNLJrl",
        "outputId": "3db4a692-0722-4820-c693-a905a5755cfc"
      },
      "outputs": [
        {
          "data": {
            "text/html": [
              "\n",
              "  <div id=\"df-1c1db625-9fac-4ac9-9afe-66169df29b02\">\n",
              "    <div class=\"colab-df-container\">\n",
              "      <div>\n",
              "<style scoped>\n",
              "    .dataframe tbody tr th:only-of-type {\n",
              "        vertical-align: middle;\n",
              "    }\n",
              "\n",
              "    .dataframe tbody tr th {\n",
              "        vertical-align: top;\n",
              "    }\n",
              "\n",
              "    .dataframe thead th {\n",
              "        text-align: right;\n",
              "    }\n",
              "</style>\n",
              "<table border=\"1\" class=\"dataframe\">\n",
              "  <thead>\n",
              "    <tr style=\"text-align: right;\">\n",
              "      <th></th>\n",
              "      <th>Pregnancies</th>\n",
              "      <th>Glucose</th>\n",
              "      <th>BloodPressure</th>\n",
              "      <th>SkinThickness</th>\n",
              "      <th>Insulin</th>\n",
              "      <th>BMI</th>\n",
              "      <th>DiabetesPedigreeFunction</th>\n",
              "      <th>Age</th>\n",
              "    </tr>\n",
              "  </thead>\n",
              "  <tbody>\n",
              "    <tr>\n",
              "      <th>0</th>\n",
              "      <td>7</td>\n",
              "      <td>130</td>\n",
              "      <td>86</td>\n",
              "      <td>34</td>\n",
              "      <td>0</td>\n",
              "      <td>33.5</td>\n",
              "      <td>0.564</td>\n",
              "      <td>50</td>\n",
              "    </tr>\n",
              "  </tbody>\n",
              "</table>\n",
              "</div>\n",
              "      <button class=\"colab-df-convert\" onclick=\"convertToInteractive('df-1c1db625-9fac-4ac9-9afe-66169df29b02')\"\n",
              "              title=\"Convert this dataframe to an interactive table.\"\n",
              "              style=\"display:none;\">\n",
              "        \n",
              "  <svg xmlns=\"http://www.w3.org/2000/svg\" height=\"24px\"viewBox=\"0 0 24 24\"\n",
              "       width=\"24px\">\n",
              "    <path d=\"M0 0h24v24H0V0z\" fill=\"none\"/>\n",
              "    <path d=\"M18.56 5.44l.94 2.06.94-2.06 2.06-.94-2.06-.94-.94-2.06-.94 2.06-2.06.94zm-11 1L8.5 8.5l.94-2.06 2.06-.94-2.06-.94L8.5 2.5l-.94 2.06-2.06.94zm10 10l.94 2.06.94-2.06 2.06-.94-2.06-.94-.94-2.06-.94 2.06-2.06.94z\"/><path d=\"M17.41 7.96l-1.37-1.37c-.4-.4-.92-.59-1.43-.59-.52 0-1.04.2-1.43.59L10.3 9.45l-7.72 7.72c-.78.78-.78 2.05 0 2.83L4 21.41c.39.39.9.59 1.41.59.51 0 1.02-.2 1.41-.59l7.78-7.78 2.81-2.81c.8-.78.8-2.07 0-2.86zM5.41 20L4 18.59l7.72-7.72 1.47 1.35L5.41 20z\"/>\n",
              "  </svg>\n",
              "      </button>\n",
              "      \n",
              "  <style>\n",
              "    .colab-df-container {\n",
              "      display:flex;\n",
              "      flex-wrap:wrap;\n",
              "      gap: 12px;\n",
              "    }\n",
              "\n",
              "    .colab-df-convert {\n",
              "      background-color: #E8F0FE;\n",
              "      border: none;\n",
              "      border-radius: 50%;\n",
              "      cursor: pointer;\n",
              "      display: none;\n",
              "      fill: #1967D2;\n",
              "      height: 32px;\n",
              "      padding: 0 0 0 0;\n",
              "      width: 32px;\n",
              "    }\n",
              "\n",
              "    .colab-df-convert:hover {\n",
              "      background-color: #E2EBFA;\n",
              "      box-shadow: 0px 1px 2px rgba(60, 64, 67, 0.3), 0px 1px 3px 1px rgba(60, 64, 67, 0.15);\n",
              "      fill: #174EA6;\n",
              "    }\n",
              "\n",
              "    [theme=dark] .colab-df-convert {\n",
              "      background-color: #3B4455;\n",
              "      fill: #D2E3FC;\n",
              "    }\n",
              "\n",
              "    [theme=dark] .colab-df-convert:hover {\n",
              "      background-color: #434B5C;\n",
              "      box-shadow: 0px 1px 3px 1px rgba(0, 0, 0, 0.15);\n",
              "      filter: drop-shadow(0px 1px 2px rgba(0, 0, 0, 0.3));\n",
              "      fill: #FFFFFF;\n",
              "    }\n",
              "  </style>\n",
              "\n",
              "      <script>\n",
              "        const buttonEl =\n",
              "          document.querySelector('#df-1c1db625-9fac-4ac9-9afe-66169df29b02 button.colab-df-convert');\n",
              "        buttonEl.style.display =\n",
              "          google.colab.kernel.accessAllowed ? 'block' : 'none';\n",
              "\n",
              "        async function convertToInteractive(key) {\n",
              "          const element = document.querySelector('#df-1c1db625-9fac-4ac9-9afe-66169df29b02');\n",
              "          const dataTable =\n",
              "            await google.colab.kernel.invokeFunction('convertToInteractive',\n",
              "                                                     [key], {});\n",
              "          if (!dataTable) return;\n",
              "\n",
              "          const docLinkHtml = 'Like what you see? Visit the ' +\n",
              "            '<a target=\"_blank\" href=https://colab.research.google.com/notebooks/data_table.ipynb>data table notebook</a>'\n",
              "            + ' to learn more about interactive tables.';\n",
              "          element.innerHTML = '';\n",
              "          dataTable['output_type'] = 'display_data';\n",
              "          await google.colab.output.renderOutput(dataTable, element);\n",
              "          const docLink = document.createElement('div');\n",
              "          docLink.innerHTML = docLinkHtml;\n",
              "          element.appendChild(docLink);\n",
              "        }\n",
              "      </script>\n",
              "    </div>\n",
              "  </div>\n",
              "  "
            ],
            "text/plain": [
              "   Pregnancies  Glucose  BloodPressure  SkinThickness  Insulin   BMI  \\\n",
              "0            7      130             86             34        0  33.5   \n",
              "\n",
              "   DiabetesPedigreeFunction  Age  \n",
              "0                     0.564   50  "
            ]
          },
          "execution_count": 12,
          "metadata": {},
          "output_type": "execute_result"
        }
      ],
      "source": [
        "# Create an empty dataframe that we have to predict \n",
        "person = pd.DataFrame()\n",
        "\n",
        "# Create some feature values for this single row\n",
        "person['Pregnancies'] = [7]\n",
        "person['Glucose'] = [130]\n",
        "person['BloodPressure'] = [86]\n",
        "person['SkinThickness'] = [34]\n",
        "person['Insulin'] = [0]\n",
        "person['BMI'] = [33.5]\n",
        "person['DiabetesPedigreeFunction'] = [0.564]\n",
        "person['Age'] = [50]\n",
        "# View the data \n",
        "person"
      ]
    },
    {
      "cell_type": "code",
      "execution_count": 13,
      "metadata": {
        "id": "Zffe78jfLJrl"
      },
      "outputs": [],
      "source": [
        "# Create a function that calculates p(x | y):\n",
        "def p_x_given_y(x, mean_y, variance_y):\n",
        "\n",
        "    # Input the arguments into a probability density function\n",
        "    p = 1/(np.sqrt(2*np.pi*variance_y)) * np.exp((-(x-mean_y)**2)/(2*variance_y))\n",
        "    \n",
        "    # return p\n",
        "    return p"
      ]
    },
    {
      "cell_type": "markdown",
      "metadata": {
        "id": "rK1Ri97cLJrm"
      },
      "source": [
        "### for now we are ignoring the marginal property aka prior probability"
      ]
    },
    {
      "cell_type": "markdown",
      "metadata": {
        "id": "PsByLcFLSQpM"
      },
      "source": [
        "#formula again for reference\n",
        "![Bayes](https://raw.githubusercontent.com/dearbharat/NBBayes/main/bayes.PNG)"
      ]
    },
    {
      "cell_type": "code",
      "execution_count": 14,
      "metadata": {
        "id": "-BOxmXR0LJrn"
      },
      "outputs": [],
      "source": [
        "\n",
        "\n",
        "# Where,\n",
        "#      P(c|x) is the posterior probability of class c given predictor ( features).\n",
        "#      P(c) is the probability of class.\n",
        "#      P(x|c) is the likelihood which is the probability of predictor given class.\n",
        "#      P(x) is the prior probability of predictor."
      ]
    },
    {
      "cell_type": "markdown",
      "metadata": {
        "id": "GtB-3o6JSiFT"
      },
      "source": [
        "![Outcome1](https://raw.githubusercontent.com/dearbharat/NBBayes/main/outcome1.PNG)"
      ]
    },
    {
      "cell_type": "code",
      "execution_count": 15,
      "metadata": {
        "id": "8IBw3pqgLJrn"
      },
      "outputs": [],
      "source": [
        "# So for now we will only calculate the numerator of the data and will predict based on numerator only\n",
        "\n",
        "# Numerator of the posterior probability if the unclassified observation is a Outcome1\n",
        "d_out1 = P_outcome1 * \\\n",
        "p_x_given_y(person['Pregnancies'][0], outcome1_Pregnancies_mean, outcome1_Pregnancies_variance) * \\\n",
        "p_x_given_y(person['Glucose'][0], outcome1_Glucose_mean, outcome1_Glucose_variance) * \\\n",
        "p_x_given_y(person['BloodPressure'][0], outcome1_BloodPressure_mean, outcome1_BloodPressure_variance) * \\\n",
        "p_x_given_y(person['SkinThickness'][0], outcome1_SkinThickness_mean, outcome1_SkinThickness_variance) * \\\n",
        "p_x_given_y(person['Insulin'][0], outcome1_Insulin_mean, outcome1_Insulin_variance) * \\\n",
        "p_x_given_y(person['BMI'][0], outcome1_BMI_mean, outcome1_BMI_variance) * \\\n",
        "p_x_given_y(person['DiabetesPedigreeFunction'][0], outcome1_DiabetesPedigreeFunction_mean, outcome1_DiabetesPedigreeFunction_variance) *\\\n",
        "p_x_given_y(person['Age'][0], outcome1_Age_mean, outcome1_Age_variance) "
      ]
    },
    {
      "cell_type": "code",
      "execution_count": 16,
      "metadata": {
        "colab": {
          "base_uri": "https://localhost:8080/"
        },
        "id": "7msQZH2wLJro",
        "outputId": "cc3d99c9-67b5-4c11-b77a-c3842e28104d"
      },
      "outputs": [
        {
          "data": {
            "text/plain": [
              "2.2311606712297367e-13"
            ]
          },
          "execution_count": 16,
          "metadata": {},
          "output_type": "execute_result"
        }
      ],
      "source": [
        "d_out1"
      ]
    },
    {
      "cell_type": "markdown",
      "metadata": {
        "id": "G2aQeUXJSk-9"
      },
      "source": [
        "![Outcome0](https://raw.githubusercontent.com/dearbharat/NBBayes/main/outcome0.PNG)"
      ]
    },
    {
      "cell_type": "code",
      "execution_count": 17,
      "metadata": {
        "id": "OXr4hV7yLJrp"
      },
      "outputs": [],
      "source": [
        "# Numerator of the posterior probability if the unclassified observation is a Outcome0\n",
        "d_out2 = P_outcome0 * \\\n",
        "p_x_given_y(person['Pregnancies'][0], outcome0_Pregnancies_mean, outcome0_Pregnancies_variance) * \\\n",
        "p_x_given_y(person['Glucose'][0], outcome0_Glucose_mean, outcome0_Glucose_variance) * \\\n",
        "p_x_given_y(person['BloodPressure'][0], outcome0_BloodPressure_mean, outcome0_BloodPressure_variance) * \\\n",
        "p_x_given_y(person['SkinThickness'][0], outcome0_SkinThickness_mean, outcome0_SkinThickness_variance) * \\\n",
        "p_x_given_y(person['Insulin'][0], outcome0_Insulin_mean, outcome0_Insulin_variance) * \\\n",
        "p_x_given_y(person['BMI'][0], outcome0_BMI_mean, outcome0_BMI_variance) * \\\n",
        "p_x_given_y(person['DiabetesPedigreeFunction'][0], outcome0_DiabetesPedigreeFunction_mean, outcome0_DiabetesPedigreeFunction_variance) *\\\n",
        "p_x_given_y(person['Age'][0], outcome0_Age_mean, outcome0_Age_variance) "
      ]
    },
    {
      "cell_type": "code",
      "execution_count": 18,
      "metadata": {
        "colab": {
          "base_uri": "https://localhost:8080/"
        },
        "id": "Bgls5V07LJrp",
        "outputId": "a7972a53-393f-491c-b754-b685e995c14d"
      },
      "outputs": [
        {
          "data": {
            "text/plain": [
              "1.7904471741735335e-13"
            ]
          },
          "execution_count": 18,
          "metadata": {},
          "output_type": "execute_result"
        }
      ],
      "source": [
        "d_out2"
      ]
    },
    {
      "cell_type": "markdown",
      "metadata": {
        "id": "V34WeIfALJrp"
      },
      "source": [
        "### now as we compare this value with outcome1 and outcome0, we can definitely say that the given data that we inserted is infact of type outcome1"
      ]
    },
    {
      "cell_type": "markdown",
      "metadata": {
        "id": "r8u8Nh8gLJrq"
      },
      "source": [
        "<br><br><br><br>\n",
        "This is just a very simple way of nderstanding the Naive bayes from scratch.\n",
        "This technique was adapated from here.https://chrisalbon.com/machine_learning/naive_bayes/naive_bayes_classifier_from_scratch/\n"
      ]
    },
    {
      "cell_type": "markdown",
      "metadata": {
        "id": "AZZRcE50LJrq"
      },
      "source": [
        "# -------------------------------------------------------------------------------------------------------------\n",
        "\n",
        "\n",
        "# Naive bayes using Scikit learn"
      ]
    },
    {
      "cell_type": "markdown",
      "metadata": {
        "id": "ndglFxjrLJrq"
      },
      "source": [
        "### now there are three types of naive bayes in scikit learn\n",
        "\n",
        " - Multinomial. \n",
        " http://scikit-learn.org/stable/modules/generated/sklearn.naive_bayes.MultinomialNB.html\n",
        " \n",
        " - Bernoulli. \n",
        " http://scikit-learn.org/stable/modules/generated/sklearn.naive_bayes.BernoulliNB.html\n",
        " \n",
        " - and finally Gaussian.\n",
        " http://scikit-learn.org/stable/modules/generated/sklearn.naive_bayes.GaussianNB.html\n",
        " \n",
        " ## a quick reminder, we have implemented Gaussian naive bayesian\n"
      ]
    },
    {
      "cell_type": "code",
      "execution_count": 19,
      "metadata": {
        "colab": {
          "base_uri": "https://localhost:8080/",
          "height": 206
        },
        "id": "ZWaS3J72LJrq",
        "outputId": "d1843ffb-b67e-4e10-8e35-cddfb8f19abb"
      },
      "outputs": [
        {
          "data": {
            "text/html": [
              "\n",
              "  <div id=\"df-4450df32-43a6-4016-a160-0439fa76f9ce\">\n",
              "    <div class=\"colab-df-container\">\n",
              "      <div>\n",
              "<style scoped>\n",
              "    .dataframe tbody tr th:only-of-type {\n",
              "        vertical-align: middle;\n",
              "    }\n",
              "\n",
              "    .dataframe tbody tr th {\n",
              "        vertical-align: top;\n",
              "    }\n",
              "\n",
              "    .dataframe thead th {\n",
              "        text-align: right;\n",
              "    }\n",
              "</style>\n",
              "<table border=\"1\" class=\"dataframe\">\n",
              "  <thead>\n",
              "    <tr style=\"text-align: right;\">\n",
              "      <th></th>\n",
              "      <th>Pregnancies</th>\n",
              "      <th>Glucose</th>\n",
              "      <th>BloodPressure</th>\n",
              "      <th>SkinThickness</th>\n",
              "      <th>Insulin</th>\n",
              "      <th>BMI</th>\n",
              "      <th>DiabetesPedigreeFunction</th>\n",
              "      <th>Age</th>\n",
              "      <th>Outcome</th>\n",
              "    </tr>\n",
              "  </thead>\n",
              "  <tbody>\n",
              "    <tr>\n",
              "      <th>0</th>\n",
              "      <td>6</td>\n",
              "      <td>148</td>\n",
              "      <td>72</td>\n",
              "      <td>35</td>\n",
              "      <td>0</td>\n",
              "      <td>33.6</td>\n",
              "      <td>0.627</td>\n",
              "      <td>50</td>\n",
              "      <td>1</td>\n",
              "    </tr>\n",
              "    <tr>\n",
              "      <th>1</th>\n",
              "      <td>1</td>\n",
              "      <td>85</td>\n",
              "      <td>66</td>\n",
              "      <td>29</td>\n",
              "      <td>0</td>\n",
              "      <td>26.6</td>\n",
              "      <td>0.351</td>\n",
              "      <td>31</td>\n",
              "      <td>0</td>\n",
              "    </tr>\n",
              "    <tr>\n",
              "      <th>2</th>\n",
              "      <td>8</td>\n",
              "      <td>183</td>\n",
              "      <td>64</td>\n",
              "      <td>0</td>\n",
              "      <td>0</td>\n",
              "      <td>23.3</td>\n",
              "      <td>0.672</td>\n",
              "      <td>32</td>\n",
              "      <td>1</td>\n",
              "    </tr>\n",
              "    <tr>\n",
              "      <th>3</th>\n",
              "      <td>1</td>\n",
              "      <td>89</td>\n",
              "      <td>66</td>\n",
              "      <td>23</td>\n",
              "      <td>94</td>\n",
              "      <td>28.1</td>\n",
              "      <td>0.167</td>\n",
              "      <td>21</td>\n",
              "      <td>0</td>\n",
              "    </tr>\n",
              "    <tr>\n",
              "      <th>4</th>\n",
              "      <td>0</td>\n",
              "      <td>137</td>\n",
              "      <td>40</td>\n",
              "      <td>35</td>\n",
              "      <td>168</td>\n",
              "      <td>43.1</td>\n",
              "      <td>2.288</td>\n",
              "      <td>33</td>\n",
              "      <td>1</td>\n",
              "    </tr>\n",
              "  </tbody>\n",
              "</table>\n",
              "</div>\n",
              "      <button class=\"colab-df-convert\" onclick=\"convertToInteractive('df-4450df32-43a6-4016-a160-0439fa76f9ce')\"\n",
              "              title=\"Convert this dataframe to an interactive table.\"\n",
              "              style=\"display:none;\">\n",
              "        \n",
              "  <svg xmlns=\"http://www.w3.org/2000/svg\" height=\"24px\"viewBox=\"0 0 24 24\"\n",
              "       width=\"24px\">\n",
              "    <path d=\"M0 0h24v24H0V0z\" fill=\"none\"/>\n",
              "    <path d=\"M18.56 5.44l.94 2.06.94-2.06 2.06-.94-2.06-.94-.94-2.06-.94 2.06-2.06.94zm-11 1L8.5 8.5l.94-2.06 2.06-.94-2.06-.94L8.5 2.5l-.94 2.06-2.06.94zm10 10l.94 2.06.94-2.06 2.06-.94-2.06-.94-.94-2.06-.94 2.06-2.06.94z\"/><path d=\"M17.41 7.96l-1.37-1.37c-.4-.4-.92-.59-1.43-.59-.52 0-1.04.2-1.43.59L10.3 9.45l-7.72 7.72c-.78.78-.78 2.05 0 2.83L4 21.41c.39.39.9.59 1.41.59.51 0 1.02-.2 1.41-.59l7.78-7.78 2.81-2.81c.8-.78.8-2.07 0-2.86zM5.41 20L4 18.59l7.72-7.72 1.47 1.35L5.41 20z\"/>\n",
              "  </svg>\n",
              "      </button>\n",
              "      \n",
              "  <style>\n",
              "    .colab-df-container {\n",
              "      display:flex;\n",
              "      flex-wrap:wrap;\n",
              "      gap: 12px;\n",
              "    }\n",
              "\n",
              "    .colab-df-convert {\n",
              "      background-color: #E8F0FE;\n",
              "      border: none;\n",
              "      border-radius: 50%;\n",
              "      cursor: pointer;\n",
              "      display: none;\n",
              "      fill: #1967D2;\n",
              "      height: 32px;\n",
              "      padding: 0 0 0 0;\n",
              "      width: 32px;\n",
              "    }\n",
              "\n",
              "    .colab-df-convert:hover {\n",
              "      background-color: #E2EBFA;\n",
              "      box-shadow: 0px 1px 2px rgba(60, 64, 67, 0.3), 0px 1px 3px 1px rgba(60, 64, 67, 0.15);\n",
              "      fill: #174EA6;\n",
              "    }\n",
              "\n",
              "    [theme=dark] .colab-df-convert {\n",
              "      background-color: #3B4455;\n",
              "      fill: #D2E3FC;\n",
              "    }\n",
              "\n",
              "    [theme=dark] .colab-df-convert:hover {\n",
              "      background-color: #434B5C;\n",
              "      box-shadow: 0px 1px 3px 1px rgba(0, 0, 0, 0.15);\n",
              "      filter: drop-shadow(0px 1px 2px rgba(0, 0, 0, 0.3));\n",
              "      fill: #FFFFFF;\n",
              "    }\n",
              "  </style>\n",
              "\n",
              "      <script>\n",
              "        const buttonEl =\n",
              "          document.querySelector('#df-4450df32-43a6-4016-a160-0439fa76f9ce button.colab-df-convert');\n",
              "        buttonEl.style.display =\n",
              "          google.colab.kernel.accessAllowed ? 'block' : 'none';\n",
              "\n",
              "        async function convertToInteractive(key) {\n",
              "          const element = document.querySelector('#df-4450df32-43a6-4016-a160-0439fa76f9ce');\n",
              "          const dataTable =\n",
              "            await google.colab.kernel.invokeFunction('convertToInteractive',\n",
              "                                                     [key], {});\n",
              "          if (!dataTable) return;\n",
              "\n",
              "          const docLinkHtml = 'Like what you see? Visit the ' +\n",
              "            '<a target=\"_blank\" href=https://colab.research.google.com/notebooks/data_table.ipynb>data table notebook</a>'\n",
              "            + ' to learn more about interactive tables.';\n",
              "          element.innerHTML = '';\n",
              "          dataTable['output_type'] = 'display_data';\n",
              "          await google.colab.output.renderOutput(dataTable, element);\n",
              "          const docLink = document.createElement('div');\n",
              "          docLink.innerHTML = docLinkHtml;\n",
              "          element.appendChild(docLink);\n",
              "        }\n",
              "      </script>\n",
              "    </div>\n",
              "  </div>\n",
              "  "
            ],
            "text/plain": [
              "   Pregnancies  Glucose  BloodPressure  SkinThickness  Insulin   BMI  \\\n",
              "0            6      148             72             35        0  33.6   \n",
              "1            1       85             66             29        0  26.6   \n",
              "2            8      183             64              0        0  23.3   \n",
              "3            1       89             66             23       94  28.1   \n",
              "4            0      137             40             35      168  43.1   \n",
              "\n",
              "   DiabetesPedigreeFunction  Age  Outcome  \n",
              "0                     0.627   50        1  \n",
              "1                     0.351   31        0  \n",
              "2                     0.672   32        1  \n",
              "3                     0.167   21        0  \n",
              "4                     2.288   33        1  "
            ]
          },
          "execution_count": 19,
          "metadata": {},
          "output_type": "execute_result"
        }
      ],
      "source": [
        "#first visualise what we have in our hand\n",
        "data.head()"
      ]
    },
    {
      "cell_type": "code",
      "execution_count": 20,
      "metadata": {
        "id": "J9iZnE5_LJrr"
      },
      "outputs": [],
      "source": [
        "\n",
        "X = data.iloc[:,0:-1] # X is the features in our dataset\n",
        "y = data.iloc[:,-1]   # y is the Labels in our dataset"
      ]
    },
    {
      "cell_type": "code",
      "execution_count": 21,
      "metadata": {
        "id": "7ISR0ITLLJrr"
      },
      "outputs": [],
      "source": [
        "# divide the dataset in train test using scikit learn\n",
        "# now the model will train in training dataset and then we will use test dataset to predict its accuracy\n",
        "\n",
        "from sklearn.model_selection import train_test_split\n",
        "\n",
        "X_train, X_test, y_train, y_test = train_test_split(X, y, test_size=0.33, random_state=42) "
      ]
    },
    {
      "cell_type": "code",
      "execution_count": 22,
      "metadata": {
        "id": "UJ1aNht1LJrr"
      },
      "outputs": [],
      "source": [
        "# now preparing our model as per Gaussian Naive Bayesian\n",
        "\n",
        "from sklearn.naive_bayes import GaussianNB\n",
        "\n",
        "model = GaussianNB().fit(X_train, y_train) #fitting our model"
      ]
    },
    {
      "cell_type": "code",
      "execution_count": 23,
      "metadata": {
        "id": "LDGwfkyhLJrs"
      },
      "outputs": [],
      "source": [
        "predicted_y = model.predict(X_test) #now predicting our model to our test dataset"
      ]
    },
    {
      "cell_type": "code",
      "execution_count": 24,
      "metadata": {
        "colab": {
          "base_uri": "https://localhost:8080/"
        },
        "id": "VVmwTRopLJrs",
        "outputId": "7d21637c-43bd-4d48-e1d6-5ef6dd09a7fd"
      },
      "outputs": [
        {
          "name": "stdout",
          "output_type": "stream",
          "text": [
            "0.7362204724409449\n"
          ]
        }
      ],
      "source": [
        "from sklearn.metrics import accuracy_score\n",
        "\n",
        "# now calculating that how much accurate our model is with comparing our predicted values and y_test values\n",
        "accuracy_score = accuracy_score(y_test, predicted_y) \n",
        "print (accuracy_score)"
      ]
    },
    {
      "cell_type": "markdown",
      "metadata": {
        "id": "heqg9kvvLJrt"
      },
      "source": [
        "## wow!! \n",
        "\n",
        "### we got 73% accuracy. It means it is accurate about the result 73%"
      ]
    },
    {
      "cell_type": "markdown",
      "metadata": {
        "id": "N0WPl6GVLJrt"
      },
      "source": [
        "## now further i will test my model to the new data point. remember, from upper model we concluded that that new data point is of outcome1"
      ]
    },
    {
      "cell_type": "code",
      "execution_count": 25,
      "metadata": {
        "id": "RltlMONWLJr6"
      },
      "outputs": [],
      "source": [
        "# the data is stored in Dataframe person\n",
        "predicted_y = model.predict(person)"
      ]
    },
    {
      "cell_type": "code",
      "execution_count": 26,
      "metadata": {
        "colab": {
          "base_uri": "https://localhost:8080/"
        },
        "id": "Bwvc6yZiLJr8",
        "outputId": "12f94921-2438-4f0f-e3b1-ed4ff2260ea4"
      },
      "outputs": [
        {
          "name": "stdout",
          "output_type": "stream",
          "text": [
            "[1]\n"
          ]
        }
      ],
      "source": [
        "print (predicted_y)"
      ]
    }
  ],
  "metadata": {
    "colab": {
      "provenance": []
    },
    "kernelspec": {
      "display_name": "Python 3.9.8 64-bit",
      "language": "python",
      "name": "python3"
    },
    "language_info": {
      "codemirror_mode": {
        "name": "ipython",
        "version": 3
      },
      "file_extension": ".py",
      "mimetype": "text/x-python",
      "name": "python",
      "nbconvert_exporter": "python",
      "pygments_lexer": "ipython3",
      "version": "3.9.8"
    },
    "vscode": {
      "interpreter": {
        "hash": "a153b24b7be182ffe9ad34cbe4e2fd92a12934083bdbc60746e07359531e99bd"
      }
    }
  },
  "nbformat": 4,
  "nbformat_minor": 0
}
