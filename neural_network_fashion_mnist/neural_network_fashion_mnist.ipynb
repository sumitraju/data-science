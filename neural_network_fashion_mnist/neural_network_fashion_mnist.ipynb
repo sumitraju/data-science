{
  "cells": [
    {
      "cell_type": "markdown",
      "metadata": {
        "id": "jYysdyb-CaWM"
      },
      "source": [
        "# Overview\n",
        "Fashion-MNIST is a dataset of Zalando's article images, composed of 60,000 training examples and 10,000 test examples. Each example consists of a 28x28 grayscale image accompanied by a label from 10 classes. Fashion-MNIST can be used to benchmark machine learning algorithms as a direct replacement for the original MNIST dataset. It has the same image size and split structure for training and testing.\n",
        "\n",
        "The following shows an example of how the data looks (each class has three rows):\n",
        "<img src=\"https://www.christianhaller.me/assets/img/research/FashionMNIST/fashion30x30random.jpg\" alt=\"Fashion MNIST sprite\"  width=\"800\">\n",
        "\n",
        "Each image is a NumPy array of 28x28 elements; pixels range from 0 to 255. The labels consist of an array of integers, ranging from 0 to 9. Each of these corresponds to a specific class of clothing in the image:\n",
        "\n",
        "0 - T-shirt/top, 1 - Trouser, 2 - Pullover, 3 - Dress, 4 - Coat, 5 - Sandal, 6 - Shirt, 7 - Sneaker, 8 - Bag, 9 - Ankle boot"
      ]
    },
    {
      "cell_type": "code",
      "execution_count": 8,
      "metadata": {
        "id": "dzLKpmZICaWN"
      },
      "outputs": [],
      "source": [
        "# TensorFlow and tf.keras\n",
        "import tensorflow as tf\n",
        "\n",
        "# Helper libraries\n",
        "import numpy as np\n",
        "import matplotlib.pyplot as plt"
      ]
    },
    {
      "cell_type": "markdown",
      "metadata": {
        "id": "yR0EdgrLCaWR"
      },
      "source": [
        "## Import the Fashion MNIST dataset\n",
        "Requesting the files from GitHub account"
      ]
    },
    {
      "cell_type": "code",
      "source": [
        "!wget \"https://raw.githubusercontent.com/sumitraju/data-science/main/neural_network_fashion_mnist/data/t10k-images-idx3-ubyte\" -P \"/content/Fashion-MNIST\"\n",
        "!wget \"https://raw.githubusercontent.com/sumitraju/data-science/main/neural_network_fashion_mnist/data/t10k-labels-idx1-ubyte\" -P \"/content/Fashion-MNIST\"\n",
        "!wget \"https://raw.githubusercontent.com/sumitraju/data-science/main/neural_network_fashion_mnist/data/train-images-idx3-ubyte\" -P \"/content/Fashion-MNIST\"\n",
        "!wget \"https://raw.githubusercontent.com/sumitraju/data-science/main/neural_network_fashion_mnist/data/train-labels-idx1-ubyte\" -P \"/content/Fashion-MNIST\""
      ],
      "metadata": {
        "colab": {
          "base_uri": "https://localhost:8080/"
        },
        "id": "GTbV4bEPOkfn",
        "outputId": "00763b89-8629-4982-d45e-9d257279c8f4"
      },
      "execution_count": 9,
      "outputs": [
        {
          "output_type": "stream",
          "name": "stdout",
          "text": [
            "--2022-09-25 01:19:32--  https://raw.githubusercontent.com/sumitraju/data-science/main/neural_network_fashion_mnist/data/t10k-images-idx3-ubyte\n",
            "Resolving raw.githubusercontent.com (raw.githubusercontent.com)... 185.199.109.133, 185.199.110.133, 185.199.108.133, ...\n",
            "Connecting to raw.githubusercontent.com (raw.githubusercontent.com)|185.199.109.133|:443... connected.\n",
            "HTTP request sent, awaiting response... 200 OK\n",
            "Length: 7840016 (7.5M) [application/octet-stream]\n",
            "Saving to: ‘/content/Fashion-MNIST/t10k-images-idx3-ubyte.1’\n",
            "\n",
            "\rt10k-images-idx3-ub   0%[                    ]       0  --.-KB/s               \rt10k-images-idx3-ub 100%[===================>]   7.48M  --.-KB/s    in 0.02s   \n",
            "\n",
            "2022-09-25 01:19:32 (358 MB/s) - ‘/content/Fashion-MNIST/t10k-images-idx3-ubyte.1’ saved [7840016/7840016]\n",
            "\n",
            "--2022-09-25 01:19:32--  https://raw.githubusercontent.com/sumitraju/data-science/main/neural_network_fashion_mnist/data/t10k-labels-idx1-ubyte\n",
            "Resolving raw.githubusercontent.com (raw.githubusercontent.com)... 185.199.108.133, 185.199.109.133, 185.199.110.133, ...\n",
            "Connecting to raw.githubusercontent.com (raw.githubusercontent.com)|185.199.108.133|:443... connected.\n",
            "HTTP request sent, awaiting response... 200 OK\n",
            "Length: 10008 (9.8K) [application/octet-stream]\n",
            "Saving to: ‘/content/Fashion-MNIST/t10k-labels-idx1-ubyte.1’\n",
            "\n",
            "t10k-labels-idx1-ub 100%[===================>]   9.77K  --.-KB/s    in 0s      \n",
            "\n",
            "2022-09-25 01:19:32 (84.7 MB/s) - ‘/content/Fashion-MNIST/t10k-labels-idx1-ubyte.1’ saved [10008/10008]\n",
            "\n",
            "--2022-09-25 01:19:32--  https://raw.githubusercontent.com/sumitraju/data-science/main/neural_network_fashion_mnist/data/train-images-idx3-ubyte\n",
            "Resolving raw.githubusercontent.com (raw.githubusercontent.com)... 185.199.108.133, 185.199.109.133, 185.199.110.133, ...\n",
            "Connecting to raw.githubusercontent.com (raw.githubusercontent.com)|185.199.108.133|:443... connected.\n",
            "HTTP request sent, awaiting response... 200 OK\n",
            "Length: 47040016 (45M) [application/octet-stream]\n",
            "Saving to: ‘/content/Fashion-MNIST/train-images-idx3-ubyte.1’\n",
            "\n",
            "train-images-idx3-u 100%[===================>]  44.86M  --.-KB/s    in 0.1s    \n",
            "\n",
            "2022-09-25 01:19:32 (386 MB/s) - ‘/content/Fashion-MNIST/train-images-idx3-ubyte.1’ saved [47040016/47040016]\n",
            "\n",
            "--2022-09-25 01:19:32--  https://raw.githubusercontent.com/sumitraju/data-science/main/neural_network_fashion_mnist/data/train-labels-idx1-ubyte\n",
            "Resolving raw.githubusercontent.com (raw.githubusercontent.com)... 185.199.108.133, 185.199.109.133, 185.199.110.133, ...\n",
            "Connecting to raw.githubusercontent.com (raw.githubusercontent.com)|185.199.108.133|:443... connected.\n",
            "HTTP request sent, awaiting response... 200 OK\n",
            "Length: 60008 (59K) [application/octet-stream]\n",
            "Saving to: ‘/content/Fashion-MNIST/train-labels-idx1-ubyte.1’\n",
            "\n",
            "train-labels-idx1-u 100%[===================>]  58.60K  --.-KB/s    in 0.001s  \n",
            "\n",
            "2022-09-25 01:19:32 (63.1 MB/s) - ‘/content/Fashion-MNIST/train-labels-idx1-ubyte.1’ saved [60008/60008]\n",
            "\n"
          ]
        }
      ]
    },
    {
      "cell_type": "markdown",
      "source": [
        "###Convert the Fashion MNIST files to numpy array"
      ],
      "metadata": {
        "id": "RGq69FvTBE5U"
      }
    },
    {
      "cell_type": "code",
      "source": [
        "with open(\"/content/Fashion-MNIST/train-labels-idx1-ubyte\",'rb') as lbpath_train:\n",
        "  train_labels = np.frombuffer(lbpath_train.read(), dtype=np.uint8,\n",
        "                               offset=8)\n",
        "    \n",
        "with open(\"/content/Fashion-MNIST/train-images-idx3-ubyte\",'rb') as imgpath_train:\n",
        "  train_images = np.frombuffer(imgpath_train.read(), dtype=np.uint8,\n",
        "                               offset=16).reshape(len(train_labels), 28,28)\n",
        "\n",
        "with open(\"/content/Fashion-MNIST/t10k-labels-idx1-ubyte\",'rb') as lbpath_test:\n",
        "  test_labels = np.frombuffer(lbpath_test.read(), dtype=np.uint8,\n",
        "                               offset=8)\n",
        "    \n",
        "with open(\"/content/Fashion-MNIST/t10k-images-idx3-ubyte\",'rb') as imgpath_test:\n",
        "  test_images = np.frombuffer(imgpath_test.read(), dtype=np.uint8,\n",
        "                               offset=16).reshape(len(test_labels), 28,28)\n"
      ],
      "metadata": {
        "id": "KO_FRQ0x8JF9"
      },
      "execution_count": 10,
      "outputs": []
    },
    {
      "cell_type": "code",
      "execution_count": 11,
      "metadata": {
        "id": "IjnLH5S2CaWx"
      },
      "outputs": [],
      "source": [
        "class_names = ['T-shirt/top', 'Trouser', 'Pullover', 'Dress', 'Coat', 'Sandal', 'Shirt', 'Sneaker', 'Bag', 'Ankle boot']"
      ]
    },
    {
      "cell_type": "markdown",
      "metadata": {
        "id": "Brm0b_KACaWX"
      },
      "source": [
        "## Explore the data\n",
        "\n",
        "Let's examine the dataset format before training the model. A training set consists of 60,000 images each having a 28 x 28 pixel dimension:"
      ]
    },
    {
      "cell_type": "code",
      "execution_count": 12,
      "metadata": {
        "id": "zW5k_xz1CaWX",
        "outputId": "8ad9dce9-0fd3-473e-f797-7dc42d877fc0",
        "colab": {
          "base_uri": "https://localhost:8080/"
        }
      },
      "outputs": [
        {
          "output_type": "execute_result",
          "data": {
            "text/plain": [
              "(60000, 28, 28)"
            ]
          },
          "metadata": {},
          "execution_count": 12
        }
      ],
      "source": [
        "train_images.shape"
      ]
    },
    {
      "cell_type": "markdown",
      "metadata": {
        "id": "cIAcvQqMCaWf"
      },
      "source": [
        "On the other hand, the training set consists of 60,000 labels:"
      ]
    },
    {
      "cell_type": "code",
      "execution_count": 13,
      "metadata": {
        "id": "TRFYHB2mCaWb",
        "outputId": "dacb721d-4b40-4c38-ea02-561fe4e9faa2",
        "colab": {
          "base_uri": "https://localhost:8080/"
        }
      },
      "outputs": [
        {
          "output_type": "execute_result",
          "data": {
            "text/plain": [
              "60000"
            ]
          },
          "metadata": {},
          "execution_count": 13
        }
      ],
      "source": [
        "len(train_labels)"
      ]
    },
    {
      "cell_type": "markdown",
      "metadata": {
        "id": "YSlYxFuRCaWk"
      },
      "source": [
        "Labels are integers between 0 and 9:"
      ]
    },
    {
      "cell_type": "code",
      "execution_count": 14,
      "metadata": {
        "id": "XKnCTHz4CaWg",
        "outputId": "72c74ee3-cd63-4501-a7ab-603f5f0c9ab5",
        "colab": {
          "base_uri": "https://localhost:8080/"
        }
      },
      "outputs": [
        {
          "output_type": "execute_result",
          "data": {
            "text/plain": [
              "array([9, 0, 0, ..., 3, 0, 5], dtype=uint8)"
            ]
          },
          "metadata": {},
          "execution_count": 14
        }
      ],
      "source": [
        "train_labels"
      ]
    },
    {
      "cell_type": "markdown",
      "metadata": {
        "id": "TMPI88iZpO2T"
      },
      "source": [
        "A total of 10,000 images are included in the test set. Each image has a size of 28 x 28 pixels:"
      ]
    },
    {
      "cell_type": "code",
      "execution_count": 15,
      "metadata": {
        "id": "2KFnYlcwCaWl",
        "outputId": "d7f1214e-068b-4b92-f904-2f2689141385",
        "colab": {
          "base_uri": "https://localhost:8080/"
        }
      },
      "outputs": [
        {
          "output_type": "execute_result",
          "data": {
            "text/plain": [
              "(10000, 28, 28)"
            ]
          },
          "metadata": {},
          "execution_count": 15
        }
      ],
      "source": [
        "test_images.shape"
      ]
    },
    {
      "cell_type": "markdown",
      "metadata": {
        "id": "rd0A0Iu0CaWq"
      },
      "source": [
        "The test set contains 10,000 images with labels:"
      ]
    },
    {
      "cell_type": "code",
      "execution_count": 16,
      "metadata": {
        "id": "iJmPr5-ACaWn",
        "outputId": "b39d728b-486a-4c58-d7b0-e1f4029cf64c",
        "colab": {
          "base_uri": "https://localhost:8080/"
        }
      },
      "outputs": [
        {
          "output_type": "execute_result",
          "data": {
            "text/plain": [
              "10000"
            ]
          },
          "metadata": {},
          "execution_count": 16
        }
      ],
      "source": [
        "len(test_labels)"
      ]
    },
    {
      "cell_type": "markdown",
      "metadata": {
        "id": "ES6uQoLKCaWr"
      },
      "source": [
        "## Preprocess the data\n",
        "\n",
        "You need to preprocess the data before you train the network. If you inspect any image, you will see that the pixels are between 0 and 255:"
      ]
    },
    {
      "cell_type": "code",
      "execution_count": 17,
      "metadata": {
        "id": "m4VEw8Ud9Quh",
        "outputId": "7df29f6d-39a8-4a69-ba67-b011a083396a",
        "colab": {
          "base_uri": "https://localhost:8080/",
          "height": 265
        }
      },
      "outputs": [
        {
          "output_type": "display_data",
          "data": {
            "text/plain": [
              "<Figure size 432x288 with 2 Axes>"
            ],
            "image/png": "[encoded data removed]"
          },
          "metadata": {
            "needs_background": "light"
          }
        }
      ],
      "source": [
        "plt.figure()\n",
        "plt.imshow(train_images[89], cmap=plt.cm.get_cmap('Blues', 30))\n",
        "plt.colorbar()\n",
        "plt.grid(False)\n",
        "plt.show()"
      ]
    },
    {
      "cell_type": "markdown",
      "metadata": {
        "id": "Wz7l27Lz9S1P"
      },
      "source": [
        "The values must be scaled from 0 to 1 before being fed into the neural network model. To do so, divide the values by 255. It is critical that the *training set* and the *testing set* be treated the same:"
      ]
    },
    {
      "cell_type": "code",
      "execution_count": 18,
      "metadata": {
        "id": "bW5WzIPlCaWv"
      },
      "outputs": [],
      "source": [
        "train_images = train_images / 255.0\n",
        "\n",
        "test_images = test_images / 255.0"
      ]
    },
    {
      "cell_type": "markdown",
      "metadata": {
        "id": "Ee638AlnCaWz"
      },
      "source": [
        "Here are the first 49 images from the training set displayed with the class name below each image, to verify that the data is in the right format and that you are ready to build the network and train it."
      ]
    },
    {
      "cell_type": "code",
      "execution_count": 19,
      "metadata": {
        "id": "oZTImqg_CaW1",
        "outputId": "5ced9b3e-c18e-4c0b-aab8-d5bee852fe27",
        "colab": {
          "base_uri": "https://localhost:8080/",
          "height": 860
        }
      },
      "outputs": [
        {
          "output_type": "display_data",
          "data": {
            "text/plain": [
              "<Figure size 1080x1080 with 49 Axes>"
            ],
            "image/png": "[encoded data removed]"
          },
          "metadata": {}
        }
      ],
      "source": [
        "plt.figure(figsize=(15,15))\n",
        "for i in range(49):\n",
        "    plt.subplot(7,7,i+1)\n",
        "    plt.xticks([])\n",
        "    plt.yticks([])\n",
        "    plt.grid(False)\n",
        "    plt.imshow(train_images[i], cmap=plt.cm.binary) \n",
        "    plt.xlabel(class_names[train_labels[i]])\n",
        "plt.show()"
      ]
    },
    {
      "cell_type": "markdown",
      "metadata": {
        "id": "59veuiEZCaW4"
      },
      "source": [
        "## Build the model\n",
        "\n",
        "In order to construct a neural network, layers need to be configured and the model compiled."
      ]
    },
    {
      "cell_type": "markdown",
      "metadata": {
        "id": "Gxg1XGm0eOBy"
      },
      "source": [
        "### Set up the layers\n",
        "\n",
        "The layer is the basic building block of a neural network. It extracts representations based on input data. Ideally, these representations are relevant to the problem.\n",
        "\n",
        "Usually, deep learning is composed of chains of simple layers. All layers have parameters that are learned during training, like *tf.keras.layers.Dense*."
      ]
    },
    {
      "cell_type": "code",
      "execution_count": 20,
      "metadata": {
        "id": "9ODch-OFCaW4"
      },
      "outputs": [],
      "source": [
        "model = tf.keras.Sequential([\n",
        "    tf.keras.layers.Flatten(input_shape=(28, 28)),\n",
        "    tf.keras.layers.Dense(128, activation='relu'),\n",
        "    tf.keras.layers.Dense(10)\n",
        "])"
      ]
    },
    {
      "cell_type": "markdown",
      "source": [
        "In this network, the first layer is called tf.keras.layers.Flatten, which converts the images from a two-dimensional array to a one-dimensional array (28 * 28 = 784 pixels). You can think of this layer as unstacked pixels in the image that are lined up to the best suit. This layer has no parameters to learn; only the data has to be reformatted.\n",
        "\n",
        "Following the flattening of the pixels, the network is composed of two `tf.keras.layers.Dense` layers. These are densely/fully connected neural layers. The first dense layer consists of 128 nodes (or neurons). The second (and last) dense layer consists of 10 logits arrays, each containing a score indicating that the image belongs to one of 10 categories."
      ],
      "metadata": {
        "id": "awkwKoiNeZ65"
      }
    },
    {
      "cell_type": "markdown",
      "metadata": {
        "id": "gut8A_7rCaW6"
      },
      "source": [
        "### Compile the model\n",
        "\n",
        "A few more settings need to be added to the model before it can be trained. These are added during the model's compilation step:\n",
        "\n",
        "* Loss function: As the model is trained, this function determines how accurate the model is. You want it as low as possible to steer the model correctly.\n",
        "* Optimizer: This is how the model updates according to the data it sees and its loss function.\n",
        "* Metrics: To monitor training and testing, the following example uses *accuracy*, the percentage of correctly classified images."
      ]
    },
    {
      "cell_type": "code",
      "execution_count": 21,
      "metadata": {
        "id": "Lhan11blCaW7"
      },
      "outputs": [],
      "source": [
        "model.compile(optimizer='adam',\n",
        "              loss=tf.keras.losses.SparseCategoricalCrossentropy(from_logits=True),\n",
        "              metrics=['accuracy'])"
      ]
    },
    {
      "cell_type": "markdown",
      "source": [
        "###Model Summary"
      ],
      "metadata": {
        "id": "H7Mzso6uelQ6"
      }
    },
    {
      "cell_type": "code",
      "source": [
        "model.summary()\n",
        "\n",
        "# Plot the model\n",
        "from tensorflow.keras.utils import plot_model\n",
        "plot_model(model, to_file='model.png')\n",
        "\n",
        "# Display the image\n",
        "modeldata = plt.imread('model.png')\n",
        "plt.imshow(modeldata)\n",
        "plt.show()"
      ],
      "metadata": {
        "colab": {
          "base_uri": "https://localhost:8080/",
          "height": 529
        },
        "id": "EMUj9t6zekVk",
        "outputId": "a9bfea87-4f4c-4612-e4d5-83d4514cb87a"
      },
      "execution_count": 22,
      "outputs": [
        {
          "output_type": "stream",
          "name": "stdout",
          "text": [
            "Model: \"sequential\"\n",
            "_________________________________________________________________\n",
            " Layer (type)                Output Shape              Param #   \n",
            "=================================================================\n",
            " flatten (Flatten)           (None, 784)               0         \n",
            "                                                                 \n",
            " dense (Dense)               (None, 128)               100480    \n",
            "                                                                 \n",
            " dense_1 (Dense)             (None, 10)                1290      \n",
            "                                                                 \n",
            "=================================================================\n",
            "Total params: 101,770\n",
            "Trainable params: 101,770\n",
            "Non-trainable params: 0\n",
            "_________________________________________________________________\n"
          ]
        },
        {
          "output_type": "display_data",
          "data": {
            "text/plain": [
              "<Figure size 432x288 with 1 Axes>"
            ],
            "image/png": "[encoded data removed]"
          },
          "metadata": {
            "needs_background": "light"
          }
        }
      ]
    },
    {
      "cell_type": "markdown",
      "metadata": {
        "id": "qKF6uW-BCaW-"
      },
      "source": [
        "## Train the model\n",
        "\n",
        "The following steps are required to train the neural network model:\n",
        "\n",
        "1. The model is fed the training data by the *train_images* and *train_labels* arrays.\n",
        "2. The model learns to link images and labels.\n",
        "3. It makes predictions about a test set -- in this case, the array of *test_images*.\n",
        "4. Test if the predicted labels match those in the `test_labels` array.\n"
      ]
    },
    {
      "cell_type": "markdown",
      "metadata": {
        "id": "Z4P4zIV7E28Z"
      },
      "source": [
        "### Feed the model\n",
        "\n",
        "You can start training with the model.fit method, as it fits the model to the training data:"
      ]
    },
    {
      "cell_type": "code",
      "execution_count": 23,
      "metadata": {
        "id": "xvwvpA64CaW_",
        "outputId": "3c01463f-513e-4920-ef23-b84755d78973",
        "colab": {
          "base_uri": "https://localhost:8080/"
        }
      },
      "outputs": [
        {
          "output_type": "stream",
          "name": "stdout",
          "text": [
            "Epoch 1/11\n",
            "1875/1875 [==============================] - 3s 1ms/step - loss: 0.4989 - accuracy: 0.8241\n",
            "Epoch 2/11\n",
            "1875/1875 [==============================] - 3s 1ms/step - loss: 0.3722 - accuracy: 0.8660\n",
            "Epoch 3/11\n",
            "1875/1875 [==============================] - 3s 1ms/step - loss: 0.3364 - accuracy: 0.8779\n",
            "Epoch 4/11\n",
            "1875/1875 [==============================] - 3s 1ms/step - loss: 0.3136 - accuracy: 0.8839\n",
            "Epoch 5/11\n",
            "1875/1875 [==============================] - 3s 1ms/step - loss: 0.2943 - accuracy: 0.8911\n",
            "Epoch 6/11\n",
            "1875/1875 [==============================] - 3s 1ms/step - loss: 0.2815 - accuracy: 0.8957\n",
            "Epoch 7/11\n",
            "1875/1875 [==============================] - 3s 1ms/step - loss: 0.2686 - accuracy: 0.8997\n",
            "Epoch 8/11\n",
            "1875/1875 [==============================] - 2s 1ms/step - loss: 0.2571 - accuracy: 0.9042\n",
            "Epoch 9/11\n",
            "1875/1875 [==============================] - 3s 1ms/step - loss: 0.2481 - accuracy: 0.9066\n",
            "Epoch 10/11\n",
            "1875/1875 [==============================] - 2s 1ms/step - loss: 0.2406 - accuracy: 0.9089\n",
            "Epoch 11/11\n",
            "1875/1875 [==============================] - 3s 1ms/step - loss: 0.2303 - accuracy: 0.9123\n"
          ]
        },
        {
          "output_type": "execute_result",
          "data": {
            "text/plain": [
              "<keras.callbacks.History at 0x7f68692ab790>"
            ]
          },
          "metadata": {},
          "execution_count": 23
        }
      ],
      "source": [
        "model.fit(train_images, train_labels, epochs=11)"
      ]
    },
    {
      "cell_type": "code",
      "source": [
        "#model.get_weights()"
      ],
      "metadata": {
        "id": "9jIEsi-k8kcT"
      },
      "execution_count": 24,
      "outputs": []
    },
    {
      "cell_type": "markdown",
      "metadata": {
        "id": "W3ZVOhugCaXA"
      },
      "source": [
        "The loss and accuracy metrics are displayed as the model trains. This model achieves an accuracy of about 0.91 (or 91%) on the training data."
      ]
    },
    {
      "cell_type": "markdown",
      "source": [
        "###Testing the accuracy with different layers, activation function\n",
        "The first dense layer consists of 150 nodes and the second dense layer consists of 15 logits arrays. While fitting the model we are using 9 epochs. This time we are using a sigmoid function instead of relu function.\n"
      ],
      "metadata": {
        "id": "m80q0t5Jep4L"
      }
    },
    {
      "cell_type": "code",
      "source": [
        "modelNew = tf.keras.Sequential([\n",
        "    tf.keras.layers.Flatten(input_shape=(28, 28)),\n",
        "    tf.keras.layers.Dense(150, activation='sigmoid'),\n",
        "    tf.keras.layers.Dense(15)\n",
        "])"
      ],
      "metadata": {
        "id": "SmAFlJ9ce0CO"
      },
      "execution_count": 25,
      "outputs": []
    },
    {
      "cell_type": "code",
      "source": [
        "modelNew.compile(optimizer='adam',\n",
        "              loss=tf.keras.losses.SparseCategoricalCrossentropy(from_logits=True),\n",
        "              metrics=['accuracy'])"
      ],
      "metadata": {
        "id": "-Utndh_SfDuF"
      },
      "execution_count": 26,
      "outputs": []
    },
    {
      "cell_type": "code",
      "source": [
        "modelNew.fit(train_images, train_labels, epochs=9)"
      ],
      "metadata": {
        "colab": {
          "base_uri": "https://localhost:8080/"
        },
        "id": "j56QWyAcfJJ6",
        "outputId": "de3ca413-d21d-4543-c9fd-4894077e3bf6"
      },
      "execution_count": 27,
      "outputs": [
        {
          "output_type": "stream",
          "name": "stdout",
          "text": [
            "Epoch 1/9\n",
            "1875/1875 [==============================] - 3s 2ms/step - loss: 0.5424 - accuracy: 0.8156\n",
            "Epoch 2/9\n",
            "1875/1875 [==============================] - 3s 1ms/step - loss: 0.3889 - accuracy: 0.8602\n",
            "Epoch 3/9\n",
            "1875/1875 [==============================] - 3s 2ms/step - loss: 0.3523 - accuracy: 0.8715\n",
            "Epoch 4/9\n",
            "1875/1875 [==============================] - 3s 1ms/step - loss: 0.3281 - accuracy: 0.8789\n",
            "Epoch 5/9\n",
            "1875/1875 [==============================] - 3s 1ms/step - loss: 0.3079 - accuracy: 0.8864\n",
            "Epoch 6/9\n",
            "1875/1875 [==============================] - 3s 1ms/step - loss: 0.2932 - accuracy: 0.8912\n",
            "Epoch 7/9\n",
            "1875/1875 [==============================] - 3s 1ms/step - loss: 0.2813 - accuracy: 0.8964\n",
            "Epoch 8/9\n",
            "1875/1875 [==============================] - 3s 1ms/step - loss: 0.2682 - accuracy: 0.9007\n",
            "Epoch 9/9\n",
            "1875/1875 [==============================] - 3s 2ms/step - loss: 0.2584 - accuracy: 0.9043\n"
          ]
        },
        {
          "output_type": "execute_result",
          "data": {
            "text/plain": [
              "<keras.callbacks.History at 0x7f68677d4f90>"
            ]
          },
          "metadata": {},
          "execution_count": 27
        }
      ]
    },
    {
      "cell_type": "markdown",
      "source": [
        "With the change in the nodes and epochs, we got the accuracy of 90% which is little less than our first model. "
      ],
      "metadata": {
        "id": "4bh2T3_2gyGU"
      }
    },
    {
      "cell_type": "markdown",
      "source": [
        "###Testing with a batch size\n",
        "Lets test a model with a batch size given but we keep the same layers and epochs"
      ],
      "metadata": {
        "id": "-X_Ovo4SWy-l"
      }
    },
    {
      "cell_type": "code",
      "source": [
        "modelBatch = tf.keras.Sequential([\n",
        "    tf.keras.layers.Flatten(input_shape=(28, 28)),\n",
        "    tf.keras.layers.Dense(150, activation='sigmoid'),\n",
        "    tf.keras.layers.Dense(15)\n",
        "])"
      ],
      "metadata": {
        "id": "4J3fbhg0W0P8"
      },
      "execution_count": 28,
      "outputs": []
    },
    {
      "cell_type": "code",
      "source": [
        "modelBatch.compile(optimizer='adam',\n",
        "              loss=tf.keras.losses.SparseCategoricalCrossentropy(from_logits=True),\n",
        "              metrics=['accuracy'])"
      ],
      "metadata": {
        "id": "xm7k9F2xW3Rj"
      },
      "execution_count": 29,
      "outputs": []
    },
    {
      "cell_type": "code",
      "source": [
        "modelBatch.fit(train_images, train_labels, epochs=9, batch_size=10000)"
      ],
      "metadata": {
        "colab": {
          "base_uri": "https://localhost:8080/"
        },
        "id": "nW2NzHCRW43A",
        "outputId": "44c7fdfc-bb2e-4ca8-f0fe-e245db0230c4"
      },
      "execution_count": 30,
      "outputs": [
        {
          "output_type": "stream",
          "name": "stdout",
          "text": [
            "Epoch 1/9\n",
            "6/6 [==============================] - 1s 76ms/step - loss: 2.3914 - accuracy: 0.3267\n",
            "Epoch 2/9\n",
            "6/6 [==============================] - 0s 76ms/step - loss: 1.8018 - accuracy: 0.5535\n",
            "Epoch 3/9\n",
            "6/6 [==============================] - 0s 74ms/step - loss: 1.4712 - accuracy: 0.6434\n",
            "Epoch 4/9\n",
            "6/6 [==============================] - 0s 75ms/step - loss: 1.2482 - accuracy: 0.6815\n",
            "Epoch 5/9\n",
            "6/6 [==============================] - 0s 74ms/step - loss: 1.0979 - accuracy: 0.7130\n",
            "Epoch 6/9\n",
            "6/6 [==============================] - 0s 75ms/step - loss: 0.9942 - accuracy: 0.7291\n",
            "Epoch 7/9\n",
            "6/6 [==============================] - 0s 74ms/step - loss: 0.9163 - accuracy: 0.7408\n",
            "Epoch 8/9\n",
            "6/6 [==============================] - 0s 75ms/step - loss: 0.8555 - accuracy: 0.7504\n",
            "Epoch 9/9\n",
            "6/6 [==============================] - 0s 74ms/step - loss: 0.8076 - accuracy: 0.7588\n"
          ]
        },
        {
          "output_type": "execute_result",
          "data": {
            "text/plain": [
              "<keras.callbacks.History at 0x7f68690310d0>"
            ]
          },
          "metadata": {},
          "execution_count": 30
        }
      ]
    },
    {
      "cell_type": "markdown",
      "source": [
        "We can see that after adding the batch size of 10000, the model fitting became faster. However, we got the much reduced accuracy. "
      ],
      "metadata": {
        "id": "nrl55a8hW6oj"
      }
    },
    {
      "cell_type": "markdown",
      "metadata": {
        "id": "wCpr6DGyE28h"
      },
      "source": [
        "### Evaluate accuracy\n",
        "\n",
        "The next step is to compare how the model performs on the test data:"
      ]
    },
    {
      "cell_type": "code",
      "execution_count": 31,
      "metadata": {
        "id": "VflXLEeECaXC",
        "outputId": "15ac0264-29e6-40c8-98d0-10c9d35ca78c",
        "colab": {
          "base_uri": "https://localhost:8080/"
        }
      },
      "outputs": [
        {
          "output_type": "stream",
          "name": "stdout",
          "text": [
            "313/313 - 0s - loss: 0.3366 - accuracy: 0.8842 - 323ms/epoch - 1ms/step\n",
            "\n",
            "Test accuracy: 0.8841999769210815\n"
          ]
        }
      ],
      "source": [
        "test_loss, test_acc = model.evaluate(test_images,  test_labels, verbose=2)\n",
        "\n",
        "print('\\nTest accuracy:', test_acc)"
      ]
    },
    {
      "cell_type": "markdown",
      "metadata": {
        "id": "yWfgsmVXCaXG"
      },
      "source": [
        "Interestingly, the accuracy of the test dataset is less than the accuracy of the training dataset. Overfitting is indicated by the gap between training accuracy and test accuracy. Machine learning models overfit when they perform worse on new, previously unknown inputs than on the training data. As a result of overfitting, a model \"memorizes\" the noise and details in the training dataset to the extent that it negatively affects its performance on new datasets."
      ]
    },
    {
      "cell_type": "markdown",
      "metadata": {
        "id": "v-PyD1SYE28q"
      },
      "source": [
        "### Make predictions\n",
        "\n",
        "The trained model can be used to predict some images by adding a softmax layer, which converts linear outputs into probabilities that are easier to understand."
      ]
    },
    {
      "cell_type": "code",
      "execution_count": 32,
      "metadata": {
        "id": "DnfNA0CrQLSD"
      },
      "outputs": [],
      "source": [
        "probability_model = tf.keras.Sequential([model, \n",
        "                                         tf.keras.layers.Softmax()])"
      ]
    },
    {
      "cell_type": "code",
      "execution_count": 33,
      "metadata": {
        "id": "Gl91RPhdCaXI"
      },
      "outputs": [],
      "source": [
        "predictions = probability_model.predict(test_images)"
      ]
    },
    {
      "cell_type": "markdown",
      "metadata": {
        "id": "x9Kk1voUCaXJ"
      },
      "source": [
        "Let's have a look at the first prediction the model made for each image in the testing set.:"
      ]
    },
    {
      "cell_type": "code",
      "execution_count": 34,
      "metadata": {
        "id": "3DmJEUinCaXK",
        "outputId": "8b00fb44-3b09-4daa-aa11-5b3247aa87bc",
        "colab": {
          "base_uri": "https://localhost:8080/"
        }
      },
      "outputs": [
        {
          "output_type": "execute_result",
          "data": {
            "text/plain": [
              "array([3.8381143e-09, 3.6455452e-12, 1.7959371e-08, 7.6385753e-10,\n",
              "       4.3009134e-08, 3.3095217e-04, 3.6124999e-07, 3.5276106e-03,\n",
              "       2.4375479e-08, 9.9614102e-01], dtype=float32)"
            ]
          },
          "metadata": {},
          "execution_count": 34
        }
      ],
      "source": [
        "predictions[0]"
      ]
    },
    {
      "cell_type": "markdown",
      "metadata": {
        "id": "-hw1hgeSCaXN"
      },
      "source": [
        "There are 10 numbers in the image prediction. These represent the model's \"confidence\" that the image corresponds to the 10 types of clothes. You can see which label has the highest confidence:"
      ]
    },
    {
      "cell_type": "code",
      "execution_count": 35,
      "metadata": {
        "id": "qsqenuPnCaXO",
        "outputId": "d8047447-6cad-4f54-cd7c-de257b80ce9a",
        "colab": {
          "base_uri": "https://localhost:8080/"
        }
      },
      "outputs": [
        {
          "output_type": "execute_result",
          "data": {
            "text/plain": [
              "9"
            ]
          },
          "metadata": {},
          "execution_count": 35
        }
      ],
      "source": [
        "np.argmax(predictions[0])"
      ]
    },
    {
      "cell_type": "markdown",
      "metadata": {
        "id": "E51yS7iCCaXO"
      },
      "source": [
        "In other words, the model is most confident that this image is a boot, or *class_names[9]*. Examining the test label confirms this classification:"
      ]
    },
    {
      "cell_type": "code",
      "execution_count": 36,
      "metadata": {
        "id": "Sd7Pgsu6CaXP",
        "outputId": "2ed06d5f-3583-4ac7-ff7c-11625913d5a6",
        "colab": {
          "base_uri": "https://localhost:8080/"
        }
      },
      "outputs": [
        {
          "output_type": "execute_result",
          "data": {
            "text/plain": [
              "9"
            ]
          },
          "metadata": {},
          "execution_count": 36
        }
      ],
      "source": [
        "test_labels[0]"
      ]
    },
    {
      "cell_type": "markdown",
      "metadata": {
        "id": "ygh2yYC972ne"
      },
      "source": [
        "You can graph this to see the complete set of 10 predictions for each class."
      ]
    },
    {
      "cell_type": "code",
      "execution_count": 37,
      "metadata": {
        "id": "DvYmmrpIy6Y1"
      },
      "outputs": [],
      "source": [
        "def plot_image(i, predictions_array, true_label, img):\n",
        "  true_label, img = true_label[i], img[i]\n",
        "  plt.grid(False)\n",
        "  plt.xticks([])\n",
        "  plt.yticks([])\n",
        "\n",
        "  plt.imshow(img, cmap=plt.cm.binary)\n",
        "\n",
        "  predicted_label = np.argmax(predictions_array)\n",
        "  if predicted_label == true_label:\n",
        "    color = 'blue'\n",
        "  else:\n",
        "    color = 'red'\n",
        "\n",
        "  plt.xlabel(\"{} {:2.0f}% ({})\".format(class_names[predicted_label],\n",
        "                                100*np.max(predictions_array),\n",
        "                                class_names[true_label]),\n",
        "                                color=color)\n",
        "\n",
        "def plot_value_array(i, predictions_array, true_label):\n",
        "  true_label = true_label[i]\n",
        "  plt.grid(False)\n",
        "  plt.xticks(range(10))\n",
        "  plt.yticks([])\n",
        "  thisplot = plt.bar(range(10), predictions_array, color=\"#777777\")\n",
        "  plt.ylim([0, 1])\n",
        "  predicted_label = np.argmax(predictions_array)\n",
        "\n",
        "  thisplot[predicted_label].set_color('red')\n",
        "  thisplot[true_label].set_color('blue')"
      ]
    },
    {
      "cell_type": "markdown",
      "metadata": {
        "id": "Zh9yABaME29S"
      },
      "source": [
        "### Verify predictions\n",
        "\n",
        "Once the model is trained, it can be used for making predictions about images."
      ]
    },
    {
      "cell_type": "markdown",
      "metadata": {
        "id": "d4Ov9OFDMmOD"
      },
      "source": [
        "Observe the 0th image, predicted labels, and prediction array. Correct prediction labels are blue, and incorrect prediction labels are red. The number indicates the percentage (out of 100) for the predicted label."
      ]
    },
    {
      "cell_type": "code",
      "execution_count": 38,
      "metadata": {
        "id": "HV5jw-5HwSmO",
        "outputId": "365322a7-cab2-45da-d479-91b75f32ff0c",
        "colab": {
          "base_uri": "https://localhost:8080/",
          "height": 211
        }
      },
      "outputs": [
        {
          "output_type": "display_data",
          "data": {
            "text/plain": [
              "<Figure size 432x216 with 2 Axes>"
            ],
            "image/png": "[encoded data removed]"
          },
          "metadata": {
            "needs_background": "light"
          }
        }
      ],
      "source": [
        "i = 22\n",
        "plt.figure(figsize=(6,3))\n",
        "plt.subplot(1,2,1)\n",
        "plot_image(i, predictions[i], test_labels, test_images)\n",
        "plt.subplot(1,2,2)\n",
        "plot_value_array(i, predictions[i],  test_labels)\n",
        "plt.show()"
      ]
    },
    {
      "cell_type": "code",
      "execution_count": 39,
      "metadata": {
        "id": "Ko-uzOufSCSe",
        "outputId": "7706dd71-76b7-4970-fa01-915e9c6ad389",
        "colab": {
          "base_uri": "https://localhost:8080/",
          "height": 211
        }
      },
      "outputs": [
        {
          "output_type": "display_data",
          "data": {
            "text/plain": [
              "<Figure size 432x216 with 2 Axes>"
            ],
            "image/png": "[encoded data removed]"
          },
          "metadata": {
            "needs_background": "light"
          }
        }
      ],
      "source": [
        "i = 652\n",
        "plt.figure(figsize=(6,3))\n",
        "plt.subplot(1,2,1)\n",
        "plot_image(i, predictions[i], test_labels, test_images)\n",
        "plt.subplot(1,2,2)\n",
        "plot_value_array(i, predictions[i],  test_labels)\n",
        "plt.show()"
      ]
    },
    {
      "cell_type": "markdown",
      "metadata": {
        "id": "kgdvGD52CaXR"
      },
      "source": [
        "Consider plotting several images with their predictions. Be aware that the model can still be wrong even when very confident."
      ]
    },
    {
      "cell_type": "code",
      "execution_count": 40,
      "metadata": {
        "id": "hQlnbqaw2Qu_",
        "outputId": "e9b4b904-b8ca-4b0e-c07c-d0f256ef38a9",
        "colab": {
          "base_uri": "https://localhost:8080/",
          "height": 571
        }
      },
      "outputs": [
        {
          "output_type": "display_data",
          "data": {
            "text/plain": [
              "<Figure size 1152x576 with 32 Axes>"
            ],
            "image/png": "[encoded data removed]"
          },
          "metadata": {
            "needs_background": "light"
          }
        }
      ],
      "source": [
        "# Plot the first X test images, their predicted labels, and the true labels.\n",
        "# Color correct predictions in blue and incorrect predictions in red.\n",
        "num_rows = 4\n",
        "num_cols = 4\n",
        "num_images = num_rows*num_cols\n",
        "plt.figure(figsize=(2*2*num_cols, 2*num_rows))\n",
        "for i in range(num_images):\n",
        "  plt.subplot(num_rows, 2*num_cols, 2*i+1)\n",
        "  plot_image(i, predictions[i], test_labels, test_images)\n",
        "  plt.subplot(num_rows, 2*num_cols, 2*i+2)\n",
        "  plot_value_array(i, predictions[i], test_labels)\n",
        "plt.tight_layout()\n",
        "plt.show()"
      ]
    },
    {
      "cell_type": "markdown",
      "metadata": {
        "id": "R32zteKHCaXT"
      },
      "source": [
        "## Use the trained model\n",
        "\n",
        "To conclude, make a prediction about a single image using the trained model."
      ]
    },
    {
      "cell_type": "code",
      "execution_count": 41,
      "metadata": {
        "id": "yRJ7JU7JCaXT",
        "outputId": "530b9dab-90c0-47eb-da80-78e3a73a7882",
        "colab": {
          "base_uri": "https://localhost:8080/"
        }
      },
      "outputs": [
        {
          "output_type": "stream",
          "name": "stdout",
          "text": [
            "(28, 28)\n"
          ]
        }
      ],
      "source": [
        "# Grab an image from the test dataset.\n",
        "img = test_images[356]\n",
        "\n",
        "print(img.shape)"
      ]
    },
    {
      "cell_type": "markdown",
      "metadata": {
        "id": "vz3bVp21CaXV"
      },
      "source": [
        "The *tf.keras* model is optimized for making predictions on a set of examples at once. Due to this, even though you are using one image, you must add it to a collection:"
      ]
    },
    {
      "cell_type": "code",
      "execution_count": 42,
      "metadata": {
        "id": "lDFh5yF_CaXW",
        "outputId": "ba487f58-8367-45d5-daeb-b8b141605992",
        "colab": {
          "base_uri": "https://localhost:8080/"
        }
      },
      "outputs": [
        {
          "output_type": "stream",
          "name": "stdout",
          "text": [
            "(1, 28, 28)\n"
          ]
        }
      ],
      "source": [
        "# Add the image to a batch where it's the only member.\n",
        "img = (np.expand_dims(img,0))\n",
        "\n",
        "print(img.shape)"
      ]
    },
    {
      "cell_type": "markdown",
      "metadata": {
        "id": "EQ5wLTkcCaXY"
      },
      "source": [
        "Now predict the correct label for this image:"
      ]
    },
    {
      "cell_type": "code",
      "execution_count": 43,
      "metadata": {
        "id": "o_rzNSdrCaXY",
        "outputId": "5038a962-6845-476b-cddd-9d769fae636e",
        "colab": {
          "base_uri": "https://localhost:8080/"
        }
      },
      "outputs": [
        {
          "output_type": "stream",
          "name": "stdout",
          "text": [
            "[[4.4414949e-02 8.9845444e-06 7.5277776e-01 4.7525545e-03 4.3453630e-03\n",
            "  1.0851857e-05 1.9365381e-01 8.2948162e-08 3.3506436e-05 2.2206284e-06]]\n"
          ]
        }
      ],
      "source": [
        "predictions_single = probability_model.predict(img)\n",
        "\n",
        "print(predictions_single)"
      ]
    },
    {
      "cell_type": "code",
      "source": [
        "plot_image(1, predictions_single[0], test_labels, test_images)"
      ],
      "metadata": {
        "colab": {
          "base_uri": "https://localhost:8080/",
          "height": 262
        },
        "id": "M46nZP-GqAzF",
        "outputId": "f9561b39-0e23-4def-ddc2-1895283ceb2a"
      },
      "execution_count": 44,
      "outputs": [
        {
          "output_type": "display_data",
          "data": {
            "text/plain": [
              "<Figure size 432x288 with 1 Axes>"
            ],
            "image/png": "[encoded data removed]"
          },
          "metadata": {}
        }
      ]
    },
    {
      "cell_type": "code",
      "execution_count": 45,
      "metadata": {
        "id": "6Ai-cpLjO-3A",
        "outputId": "5c97b37d-46bd-468f-c1ae-a0aeff7305c3",
        "colab": {
          "base_uri": "https://localhost:8080/",
          "height": 300
        }
      },
      "outputs": [
        {
          "output_type": "display_data",
          "data": {
            "text/plain": [
              "<Figure size 432x288 with 1 Axes>"
            ],
            "image/png": "[encoded data removed]"
          },
          "metadata": {
            "needs_background": "light"
          }
        }
      ],
      "source": [
        "plot_value_array(1, predictions_single[0], test_labels)\n",
        "_ = plt.xticks(range(10), class_names, rotation=45)\n",
        "plt.show()"
      ]
    },
    {
      "cell_type": "markdown",
      "metadata": {
        "id": "cU1Y2OAMCaXb"
      },
      "source": [
        "The tf.keras.Model.predict method returns a list of lists, one for each image in the batch. We'll grab those predictions for our (only) image:"
      ]
    },
    {
      "cell_type": "code",
      "execution_count": 46,
      "metadata": {
        "id": "2tRmdq_8CaXb",
        "outputId": "d7df1a1c-b522-4df0-9760-29201810d503",
        "colab": {
          "base_uri": "https://localhost:8080/"
        }
      },
      "outputs": [
        {
          "output_type": "execute_result",
          "data": {
            "text/plain": [
              "2"
            ]
          },
          "metadata": {},
          "execution_count": 46
        }
      ],
      "source": [
        "np.argmax(predictions_single[0])"
      ]
    },
    {
      "cell_type": "markdown",
      "metadata": {
        "id": "YFc2HbEVCaXd"
      },
      "source": [
        "As expected, the model predicts a label."
      ]
    },
    {
      "cell_type": "markdown",
      "source": [
        "##References\n",
        "\n",
        "https://github.com/tensorflow/docs/blob/master/site/en/tutorials/keras/classification.ipynb\n",
        "\n",
        "https://github.com/zalandoresearch/fashion-mnist"
      ],
      "metadata": {
        "id": "5KKYZji53jqL"
      }
    }
  ],
  "metadata": {
    "colab": {
      "collapsed_sections": [],
      "provenance": []
    },
    "kernelspec": {
      "display_name": "Python 3",
      "name": "python3"
    }
  },
  "nbformat": 4,
  "nbformat_minor": 0
}