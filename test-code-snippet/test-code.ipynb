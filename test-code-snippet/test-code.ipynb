{
 "cells": [
  {
   "cell_type": "code",
   "execution_count": 79,
   "metadata": {},
   "outputs": [],
   "source": [
    "from datetime import datetime"
   ]
  },
  {
   "cell_type": "code",
   "execution_count": 80,
   "metadata": {},
   "outputs": [],
   "source": [
    "testArray = [\n",
    "  [\n",
    "    \"Winter\",\n",
    "    \"01/01\",\n",
    "    \"09/01\",\n",
    "    2\n",
    "  ],\n",
    "  [\n",
    "    \"Summer\",\n",
    "    \"05/01\",\n",
    "    \"01/01\",\n",
    "    1\n",
    "  ],\n",
    "  [\n",
    "    \"Fall\",\n",
    "    \"09/01\",\n",
    "    \"05/01\",\n",
    "    1\n",
    "  ]\n",
    "]\n"
   ]
  },
  {
   "cell_type": "code",
   "execution_count": 81,
   "metadata": {},
   "outputs": [],
   "source": [
    "currentDateToTest = \"12/02\"\n",
    "currentDateYear = 2023\n",
    "currentTerm = \"Summer\"\n",
    "AddTerms = []"
   ]
  },
  {
   "cell_type": "code",
   "execution_count": 82,
   "metadata": {},
   "outputs": [],
   "source": [
    "counterMain=0\n",
    "counterIn=0\n",
    "currentIndex=0\n",
    "currentTermTemp = currentTerm\n",
    "for x in range(0, len(testArray), 1):\n",
    "    if(testArray[x][0]==currentTermTemp):\n",
    "        currentIndex = x\n",
    "        for y in range(0, 5, 1):\n",
    "            AddTerms.append([currentTerm,currentDateYear])\n",
    "            if(currentIndex==0):\n",
    "                currentDateYear=currentDateYear-1\n",
    "                currentIndex = len(testArray)-1\n",
    "            else:\n",
    "                currentIndex = currentIndex - 1   \n",
    "            currentTerm = testArray[currentIndex][0]\n",
    "            \n",
    "        \n",
    "        "
   ]
  },
  {
   "cell_type": "code",
   "execution_count": 83,
   "metadata": {},
   "outputs": [
    {
     "name": "stdout",
     "output_type": "stream",
     "text": [
      "[['Summer', 2023], ['Winter', 2023], ['Fall', 2022], ['Summer', 2022], ['Winter', 2022]]\n"
     ]
    }
   ],
   "source": [
    "print(AddTerms)"
   ]
  }
 ],
 "metadata": {
  "kernelspec": {
   "display_name": "Python 3.9.8 64-bit",
   "language": "python",
   "name": "python3"
  },
  "language_info": {
   "codemirror_mode": {
    "name": "ipython",
    "version": 3
   },
   "file_extension": ".py",
   "mimetype": "text/x-python",
   "name": "python",
   "nbconvert_exporter": "python",
   "pygments_lexer": "ipython3",
   "version": "3.9.8"
  },
  "orig_nbformat": 4,
  "vscode": {
   "interpreter": {
    "hash": "a153b24b7be182ffe9ad34cbe4e2fd92a12934083bdbc60746e07359531e99bd"
   }
  }
 },
 "nbformat": 4,
 "nbformat_minor": 2
}
